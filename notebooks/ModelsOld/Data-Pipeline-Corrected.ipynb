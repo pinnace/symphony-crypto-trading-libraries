{
 "cells": [
  {
   "cell_type": "code",
   "execution_count": 1,
   "metadata": {},
   "outputs": [
    {
     "name": "stdout",
     "output_type": "stream",
     "text": [
      "Requirement already up-to-date: keras-tuner in /usr/local/lib/python3.6/dist-packages (1.0.1)\n",
      "Requirement already satisfied, skipping upgrade: numpy in /usr/local/lib/python3.6/dist-packages (from keras-tuner) (1.18.2)\n",
      "Requirement already satisfied, skipping upgrade: future in /usr/local/lib/python3.6/dist-packages (from keras-tuner) (0.18.2)\n",
      "Requirement already satisfied, skipping upgrade: scikit-learn in /usr/local/lib/python3.6/dist-packages (from keras-tuner) (0.22.2.post1)\n",
      "Requirement already satisfied, skipping upgrade: terminaltables in /usr/local/lib/python3.6/dist-packages (from keras-tuner) (3.1.0)\n",
      "Requirement already satisfied, skipping upgrade: colorama in /usr/local/lib/python3.6/dist-packages (from keras-tuner) (0.4.3)\n",
      "Requirement already satisfied, skipping upgrade: tqdm in /usr/local/lib/python3.6/dist-packages (from keras-tuner) (4.43.0)\n",
      "Requirement already satisfied, skipping upgrade: scipy in /usr/local/lib/python3.6/dist-packages (from keras-tuner) (1.4.1)\n",
      "Requirement already satisfied, skipping upgrade: tabulate in /usr/local/lib/python3.6/dist-packages (from keras-tuner) (0.8.7)\n",
      "Requirement already satisfied, skipping upgrade: requests in /usr/local/lib/python3.6/dist-packages (from keras-tuner) (2.23.0)\n",
      "Requirement already satisfied, skipping upgrade: joblib>=0.11 in /usr/local/lib/python3.6/dist-packages (from scikit-learn->keras-tuner) (0.14.1)\n",
      "Requirement already satisfied, skipping upgrade: idna<3,>=2.5 in /usr/local/lib/python3.6/dist-packages (from requests->keras-tuner) (2.9)\n",
      "Requirement already satisfied, skipping upgrade: chardet<4,>=3.0.2 in /usr/local/lib/python3.6/dist-packages (from requests->keras-tuner) (3.0.4)\n",
      "Requirement already satisfied, skipping upgrade: certifi>=2017.4.17 in /usr/local/lib/python3.6/dist-packages (from requests->keras-tuner) (2019.11.28)\n",
      "Requirement already satisfied, skipping upgrade: urllib3!=1.25.0,!=1.25.1,<1.26,>=1.21.1 in /usr/local/lib/python3.6/dist-packages (from requests->keras-tuner) (1.25.8)\n"
     ]
    }
   ],
   "source": [
    "!pip install -U keras-tuner"
   ]
  },
  {
   "cell_type": "code",
   "execution_count": 2,
   "metadata": {},
   "outputs": [],
   "source": [
    "import pandas as pd\n",
    "import numpy as np\n",
    "import glob, os\n",
    "import json\n",
    "from sklearn.pipeline import Pipeline\n",
    "from sklearn.preprocessing import MinMaxScaler\n",
    "from sklearn.model_selection import train_test_split\n",
    "from sklearn.base import BaseEstimator, TransformerMixin\n",
    "from tensorflow.keras.models import Sequential\n",
    "from tensorflow.keras.layers import Dense, Embedding, LSTM, Dropout, Bidirectional\n",
    "from tensorflow.keras.metrics import AUC, binary_accuracy\n",
    "from tensorflow.keras.optimizers import Adam\n",
    "from tensorflow.keras.preprocessing import sequence\n",
    "import matplotlib.pyplot as pyplot"
   ]
  },
  {
   "cell_type": "code",
   "execution_count": null,
   "metadata": {},
   "outputs": [],
   "source": []
  },
  {
   "cell_type": "code",
   "execution_count": null,
   "metadata": {},
   "outputs": [],
   "source": []
  },
  {
   "cell_type": "code",
   "execution_count": 93,
   "metadata": {},
   "outputs": [],
   "source": [
    "test_dirs = [\n",
    "    \"../demarkindicators/backtest/backtests/results/test_results/EURUSD/ALL/EURUSD60/\",\n",
    "    \"../demarkindicators/backtest/backtests/results/test_results/EURGBP/ALL/EURGBP60/\"\n",
    "    \"../demarkindicators/backtest/backtests/results/test_results/AUDUSD/ALL/AUDUSD60/\",\n",
    "    \"../demarkindicators/backtest/backtests/results/test_results/GBPUSD/ALL/GBPUSD60/\",\n",
    "    \"../demarkindicators/backtest/backtests/results/test_results/USDCAD/ALL/USDCAD60/\",\n",
    "    \"../demarkindicators/backtest/backtests/results/test_results/USDCHF/ALL/USDCHF60/\"\n",
    "]"
   ]
  },
  {
   "cell_type": "code",
   "execution_count": 94,
   "metadata": {},
   "outputs": [],
   "source": [
    "file_id_list = [\n",
    "        (os.path.dirname(filename), int(os.path.basename(filename).split(\".\")[0]))\n",
    "        for test_dir in test_dirs\n",
    "        for filename in glob.glob(test_dir + \"*.csv\") \n",
    "        \n",
    "    ]\n",
    "file_id_list = sorted(file_id_list, key=lambda tup: tup[1])"
   ]
  },
  {
   "cell_type": "code",
   "execution_count": 95,
   "metadata": {},
   "outputs": [],
   "source": [
    "data_files, label_files = [], []\n",
    "\n",
    "for path, file_id in file_id_list:\n",
    "    data_files.append(os.path.join(path, str(file_id)) + \".csv\")\n",
    "    label_files.append(os.path.join(path, str(file_id)) + \".meta\")\n"
   ]
  },
  {
   "cell_type": "code",
   "execution_count": 96,
   "metadata": {},
   "outputs": [
    {
     "name": "stdout",
     "output_type": "stream",
     "text": [
      "../demarkindicators/backtest/backtests/results/test_results/EURUSD/ALL/EURUSD60/1420588800.csv\n",
      "../demarkindicators/backtest/backtests/results/test_results/EURUSD/ALL/EURUSD60/1420588800.meta\n"
     ]
    }
   ],
   "source": [
    "print(data_files[0])\n",
    "print(label_files[0])"
   ]
  },
  {
   "cell_type": "code",
   "execution_count": 97,
   "metadata": {},
   "outputs": [],
   "source": [
    "#input_data = []\n",
    "#for i,datafile in enumerate(data_files):\n",
    "#    data = np.genfromtxt(datafile, delimiter=',',skip_header=1 )\n",
    "#    input_data.append(data)\n",
    "\n",
    "input_dfs = []\n",
    "for i,datafile in enumerate(data_files):\n",
    "    data = pd.read_csv(datafile)\n",
    "    input_dfs.append(data.fillna(0))"
   ]
  },
  {
   "cell_type": "code",
   "execution_count": 98,
   "metadata": {},
   "outputs": [
    {
     "data": {
      "text/html": [
       "<div>\n",
       "<style scoped>\n",
       "    .dataframe tbody tr th:only-of-type {\n",
       "        vertical-align: middle;\n",
       "    }\n",
       "\n",
       "    .dataframe tbody tr th {\n",
       "        vertical-align: top;\n",
       "    }\n",
       "\n",
       "    .dataframe thead th {\n",
       "        text-align: right;\n",
       "    }\n",
       "</style>\n",
       "<table border=\"1\" class=\"dataframe\">\n",
       "  <thead>\n",
       "    <tr style=\"text-align: right;\">\n",
       "      <th></th>\n",
       "      <th>opens</th>\n",
       "      <th>highs</th>\n",
       "      <th>lows</th>\n",
       "      <th>closes</th>\n",
       "      <th>volumes</th>\n",
       "      <th>RSI</th>\n",
       "      <th>ADX</th>\n",
       "      <th>PLUS_DI</th>\n",
       "      <th>MINUS_DI</th>\n",
       "      <th>ATR</th>\n",
       "    </tr>\n",
       "  </thead>\n",
       "  <tbody>\n",
       "    <tr>\n",
       "      <th>0</th>\n",
       "      <td>1.20574</td>\n",
       "      <td>1.20596</td>\n",
       "      <td>1.20491</td>\n",
       "      <td>1.20528</td>\n",
       "      <td>889.0</td>\n",
       "      <td>0.0</td>\n",
       "      <td>0.0</td>\n",
       "      <td>16.389904</td>\n",
       "      <td>35.319987</td>\n",
       "      <td>0.0</td>\n",
       "    </tr>\n",
       "    <tr>\n",
       "      <th>1</th>\n",
       "      <td>1.20527</td>\n",
       "      <td>1.20556</td>\n",
       "      <td>1.20461</td>\n",
       "      <td>1.20517</td>\n",
       "      <td>766.0</td>\n",
       "      <td>0.0</td>\n",
       "      <td>0.0</td>\n",
       "      <td>15.940753</td>\n",
       "      <td>33.540166</td>\n",
       "      <td>0.0</td>\n",
       "    </tr>\n",
       "    <tr>\n",
       "      <th>2</th>\n",
       "      <td>1.20517</td>\n",
       "      <td>1.20576</td>\n",
       "      <td>1.20486</td>\n",
       "      <td>1.20546</td>\n",
       "      <td>782.0</td>\n",
       "      <td>0.0</td>\n",
       "      <td>0.0</td>\n",
       "      <td>18.029691</td>\n",
       "      <td>29.860112</td>\n",
       "      <td>0.0</td>\n",
       "    </tr>\n",
       "    <tr>\n",
       "      <th>3</th>\n",
       "      <td>1.20545</td>\n",
       "      <td>1.20582</td>\n",
       "      <td>1.20351</td>\n",
       "      <td>1.20560</td>\n",
       "      <td>2352.0</td>\n",
       "      <td>0.0</td>\n",
       "      <td>0.0</td>\n",
       "      <td>16.988811</td>\n",
       "      <td>28.136244</td>\n",
       "      <td>0.0</td>\n",
       "    </tr>\n",
       "    <tr>\n",
       "      <th>4</th>\n",
       "      <td>1.20563</td>\n",
       "      <td>1.20696</td>\n",
       "      <td>1.20448</td>\n",
       "      <td>1.20474</td>\n",
       "      <td>2662.0</td>\n",
       "      <td>0.0</td>\n",
       "      <td>0.0</td>\n",
       "      <td>18.107841</td>\n",
       "      <td>27.366544</td>\n",
       "      <td>0.0</td>\n",
       "    </tr>\n",
       "  </tbody>\n",
       "</table>\n",
       "</div>"
      ],
      "text/plain": [
       "     opens    highs     lows   closes  volumes  RSI  ADX    PLUS_DI  \\\n",
       "0  1.20574  1.20596  1.20491  1.20528    889.0  0.0  0.0  16.389904   \n",
       "1  1.20527  1.20556  1.20461  1.20517    766.0  0.0  0.0  15.940753   \n",
       "2  1.20517  1.20576  1.20486  1.20546    782.0  0.0  0.0  18.029691   \n",
       "3  1.20545  1.20582  1.20351  1.20560   2352.0  0.0  0.0  16.988811   \n",
       "4  1.20563  1.20696  1.20448  1.20474   2662.0  0.0  0.0  18.107841   \n",
       "\n",
       "    MINUS_DI  ATR  \n",
       "0  35.319987  0.0  \n",
       "1  33.540166  0.0  \n",
       "2  29.860112  0.0  \n",
       "3  28.136244  0.0  \n",
       "4  27.366544  0.0  "
      ]
     },
     "execution_count": 98,
     "metadata": {},
     "output_type": "execute_result"
    }
   ],
   "source": [
    "input_dfs[0].head()"
   ]
  },
  {
   "cell_type": "code",
   "execution_count": 99,
   "metadata": {},
   "outputs": [
    {
     "data": {
      "text/html": [
       "<div>\n",
       "<style scoped>\n",
       "    .dataframe tbody tr th:only-of-type {\n",
       "        vertical-align: middle;\n",
       "    }\n",
       "\n",
       "    .dataframe tbody tr th {\n",
       "        vertical-align: top;\n",
       "    }\n",
       "\n",
       "    .dataframe thead th {\n",
       "        text-align: right;\n",
       "    }\n",
       "</style>\n",
       "<table border=\"1\" class=\"dataframe\">\n",
       "  <thead>\n",
       "    <tr style=\"text-align: right;\">\n",
       "      <th></th>\n",
       "      <th>profitable</th>\n",
       "      <th>profit_in_pips</th>\n",
       "      <th>instrument</th>\n",
       "      <th>order_type</th>\n",
       "      <th>time</th>\n",
       "      <th>posix_time</th>\n",
       "    </tr>\n",
       "  </thead>\n",
       "  <tbody>\n",
       "    <tr>\n",
       "      <th>0</th>\n",
       "      <td>0</td>\n",
       "      <td>-1758</td>\n",
       "      <td>EURUSD</td>\n",
       "      <td>BUY</td>\n",
       "      <td>2015-01-07 00:00:00</td>\n",
       "      <td>1420588800</td>\n",
       "    </tr>\n",
       "    <tr>\n",
       "      <th>1</th>\n",
       "      <td>0</td>\n",
       "      <td>-165</td>\n",
       "      <td>USDCAD</td>\n",
       "      <td>SELL</td>\n",
       "      <td>2015-01-07 00:00:00</td>\n",
       "      <td>1420588800</td>\n",
       "    </tr>\n",
       "    <tr>\n",
       "      <th>2</th>\n",
       "      <td>0</td>\n",
       "      <td>-482</td>\n",
       "      <td>USDCHF</td>\n",
       "      <td>SELL</td>\n",
       "      <td>2015-01-07 00:00:00</td>\n",
       "      <td>1420588800</td>\n",
       "    </tr>\n",
       "    <tr>\n",
       "      <th>3</th>\n",
       "      <td>0</td>\n",
       "      <td>-676</td>\n",
       "      <td>GBPUSD</td>\n",
       "      <td>BUY</td>\n",
       "      <td>2015-01-08 00:00:00</td>\n",
       "      <td>1420675200</td>\n",
       "    </tr>\n",
       "    <tr>\n",
       "      <th>4</th>\n",
       "      <td>0</td>\n",
       "      <td>-442</td>\n",
       "      <td>USDCAD</td>\n",
       "      <td>SELL</td>\n",
       "      <td>2015-01-09 00:00:00</td>\n",
       "      <td>1420761600</td>\n",
       "    </tr>\n",
       "  </tbody>\n",
       "</table>\n",
       "</div>"
      ],
      "text/plain": [
       "   profitable  profit_in_pips instrument order_type                 time  \\\n",
       "0           0           -1758     EURUSD        BUY  2015-01-07 00:00:00   \n",
       "1           0            -165     USDCAD       SELL  2015-01-07 00:00:00   \n",
       "2           0            -482     USDCHF       SELL  2015-01-07 00:00:00   \n",
       "3           0            -676     GBPUSD        BUY  2015-01-08 00:00:00   \n",
       "4           0            -442     USDCAD       SELL  2015-01-09 00:00:00   \n",
       "\n",
       "   posix_time  \n",
       "0  1420588800  \n",
       "1  1420588800  \n",
       "2  1420588800  \n",
       "3  1420675200  \n",
       "4  1420761600  "
      ]
     },
     "execution_count": 99,
     "metadata": {},
     "output_type": "execute_result"
    }
   ],
   "source": [
    "df_list = [pd.read_csv(filename) for filename in label_files]\n",
    "all_labels = pd.concat(df_list, ignore_index=True)\n",
    "all_labels.head()"
   ]
  },
  {
   "cell_type": "code",
   "execution_count": 100,
   "metadata": {},
   "outputs": [],
   "source": [
    "buy_indices = all_labels.index[all_labels['order_type'] == \"BUY\"].tolist()\n",
    "sell_indices = all_labels.index[all_labels['order_type'] == \"SELL\"].tolist()\n",
    "buy_labels = all_labels.loc[all_labels['order_type'] == \"BUY\"][\"profitable\"].values\n",
    "sell_labels = all_labels.loc[all_labels['order_type'] == \"SELL\"][\"profitable\"].values\n",
    "buy_profits = all_labels.loc[all_labels['order_type'] == \"BUY\"][\"profit_in_pips\"].values\n",
    "sell_profits = all_labels.loc[all_labels['order_type'] == \"SELL\"][\"profit_in_pips\"].values\n",
    "buy_inputs = [input_dfs[i] for i in buy_indices]\n",
    "sell_inputs = [input_dfs[i] for i in sell_indices]"
   ]
  },
  {
   "cell_type": "code",
   "execution_count": 101,
   "metadata": {},
   "outputs": [
    {
     "name": "stdout",
     "output_type": "stream",
     "text": [
      "% Profitable BUY: 0.342911877394636\n",
      "% Profitable SELL: 0.2564102564102564\n"
     ]
    }
   ],
   "source": [
    "print(\"% Profitable BUY: {}\".format(list(buy_labels).count(1) / len(buy_labels)))\n",
    "print(\"% Profitable SELL: {}\".format(list(sell_labels).count(1) / len(sell_labels)))"
   ]
  },
  {
   "cell_type": "code",
   "execution_count": null,
   "metadata": {},
   "outputs": [],
   "source": []
  },
  {
   "cell_type": "code",
   "execution_count": 102,
   "metadata": {},
   "outputs": [],
   "source": [
    "class MinMaxer(BaseEstimator, TransformerMixin):\n",
    "    def __init__(self):\n",
    "        pass\n",
    "\n",
    "    def transform(self, inputs):\n",
    "        scaler = MinMaxScaler(feature_range=(0.0001, 1.0))\n",
    "        for df in inputs:\n",
    "            df[df.columns] = scaler.fit_transform(df[df.columns])\n",
    "        return inputs\n",
    "\n",
    "    def fit(self, inputs):\n",
    "        pass\n"
   ]
  },
  {
   "cell_type": "code",
   "execution_count": 103,
   "metadata": {},
   "outputs": [],
   "source": [
    "class ZeroPad(BaseEstimator, TransformerMixin):\n",
    "    def __init__(self):\n",
    "        pass\n",
    "\n",
    "    def transform(self, inputs):\n",
    "        max_len = 0\n",
    "        for inpd in inputs:\n",
    "            if len(inpd) > max_len:\n",
    "                max_len = len(inpd)\n",
    "        padded_inputs = []\n",
    "        for inp_df in inputs:\n",
    "            if len(inp_df) < max_len:\n",
    "                zeros = [0.0] * (max_len - len(inp_df))\n",
    "                pad_df = pd.DataFrame(data={k : zeros for k in inp_df.columns})\n",
    "                padded_inputs.append(pd.concat([inp_df, pad_df]))\n",
    "            else:\n",
    "                padded_inputs.append(inp_df)\n",
    "        \n",
    "        #inputs = list(map(lambda inp: sequence.pad_sequences(inp, dtype='float32', maxlen=max_len, padding='post'), inputs))\n",
    "        return padded_inputs\n",
    "\n",
    "    def fit(self, inputs):\n",
    "        pass"
   ]
  },
  {
   "cell_type": "code",
   "execution_count": 104,
   "metadata": {},
   "outputs": [],
   "source": [
    "class ListOfNumpy(BaseEstimator, TransformerMixin):\n",
    "    def __init__(self):\n",
    "        pass\n",
    "\n",
    "    def transform(self, inputs):\n",
    "        \n",
    "        return np.array([inp.to_numpy() for inp in inputs])\n",
    "\n",
    "    def fit(self, inputs):\n",
    "        pass"
   ]
  },
  {
   "cell_type": "code",
   "execution_count": 105,
   "metadata": {},
   "outputs": [],
   "source": [
    "pipe = Pipeline(\n",
    "            steps=\n",
    "            [\n",
    "                ('min_max',MinMaxer()),\n",
    "                ('zero_pad',ZeroPad()),\n",
    "                ('list_of_numpy', ListOfNumpy())\n",
    "            ])"
   ]
  },
  {
   "cell_type": "code",
   "execution_count": null,
   "metadata": {},
   "outputs": [],
   "source": []
  },
  {
   "cell_type": "code",
   "execution_count": 106,
   "metadata": {},
   "outputs": [],
   "source": [
    "buy_data_pipelined = pipe.transform(buy_inputs)\n",
    "sell_data_pipelined = pipe.transform(sell_inputs)\n",
    "\n"
   ]
  },
  {
   "cell_type": "code",
   "execution_count": 107,
   "metadata": {},
   "outputs": [
    {
     "data": {
      "text/plain": [
       "(522, 133, 10)"
      ]
     },
     "execution_count": 107,
     "metadata": {},
     "output_type": "execute_result"
    }
   ],
   "source": [
    "buy_data_pipelined.shape"
   ]
  },
  {
   "cell_type": "code",
   "execution_count": 108,
   "metadata": {},
   "outputs": [],
   "source": [
    "\n",
    "# Adopt a different train test split strategy that doubles as forward testing.\n",
    "# -> Find the index whereat 80% of the trades lies before, use that as training.\n",
    "\n",
    "train_perc = 0.8\n",
    "buy_stop_index = round(len(buy_labels) * train_perc)\n",
    "X_buy_train = buy_data_pipelined[:buy_stop_index]\n",
    "X_buy_test = buy_data_pipelined[buy_stop_index:]\n",
    "y_buy_train = buy_labels[:buy_stop_index]\n",
    "y_buy_test = buy_labels[buy_stop_index:]\n",
    "profit_buy_train = buy_profits[:buy_stop_index]\n",
    "profit_buy_test = buy_profits[buy_stop_index:]\n",
    "\n",
    "\n",
    "sell_stop_index = round(len(sell_labels) * train_perc)\n",
    "X_sell_train = sell_data_pipelined[:sell_stop_index]\n",
    "X_sell_test = sell_data_pipelined[sell_stop_index:]\n",
    "y_sell_train = sell_labels[:sell_stop_index]\n",
    "y_sell_test = sell_labels[sell_stop_index:]\n",
    "profit_sell_train = buy_profits[:sell_stop_index]\n",
    "profit_sell_test = buy_profits[sell_stop_index:]\n"
   ]
  },
  {
   "cell_type": "code",
   "execution_count": 109,
   "metadata": {},
   "outputs": [
    {
     "name": "stdout",
     "output_type": "stream",
     "text": [
      "(418, 133, 10)\n"
     ]
    }
   ],
   "source": [
    "print(X_buy_train.shape)"
   ]
  },
  {
   "cell_type": "code",
   "execution_count": 110,
   "metadata": {},
   "outputs": [
    {
     "data": {
      "text/plain": [
       "10"
      ]
     },
     "execution_count": 110,
     "metadata": {},
     "output_type": "execute_result"
    }
   ],
   "source": [
    "X_buy_train.shape[2]"
   ]
  },
  {
   "cell_type": "code",
   "execution_count": 114,
   "metadata": {},
   "outputs": [],
   "source": [
    "def precision_recall(model, X_test: list, y_test: list, profits: list, verbose=True, threshold=0.5) -> tuple:\n",
    "    true_positives, true_negatives, false_positives, false_negatives = 0, 0, 0, 0\n",
    "    positives, negatives = list(y_test).count(1), list(y_test).count(0)\n",
    "    \n",
    "    print(\"Analyzing {} samples\".format(len(y_test)))\n",
    "    print(\"Threshold: {}\".format(threshold))\n",
    "    profit = 0\n",
    "    for i, (inp, label) in enumerate(zip(X_test, y_test)):\n",
    "        inp = inp.reshape(1, X_test.shape[1], X_test.shape[2])\n",
    "        prob_prediction = model.predict([inp], batch_size=1)[0][0]\n",
    "        class_prediction = model.predict_classes([inp], batch_size=1)[0][0]\n",
    "        \n",
    "        \n",
    "        is_predicted_profitable = True if prob_prediction > threshold else False\n",
    "        \n",
    "        if is_predicted_profitable:\n",
    "            print(\"Profit: {}\".format(profits[i]))\n",
    "            profit += profits[i]\n",
    "        \n",
    "        \n",
    "        if is_predicted_profitable and label:\n",
    "            true_positives += 1\n",
    "        elif not is_predicted_profitable and not label:\n",
    "            true_negatives += 1\n",
    "        elif is_predicted_profitable and not label:\n",
    "            false_positives += 1\n",
    "        elif not is_predicted_profitable and label:\n",
    "            false_negatives += 1\n",
    "            print(\"False Negative, prob: {}\".format(prob_prediction))\n",
    "        else:\n",
    "            raise Exception(\"Error!\")\n",
    "    if not true_positives + false_positives:\n",
    "        precision = 0\n",
    "    else:\n",
    "        precision = true_positives / (true_positives + false_positives)\n",
    "        \n",
    "    if not true_positives + false_negatives:\n",
    "        recall = 0\n",
    "    else:\n",
    "        recall = true_positives / (true_positives + false_negatives)\n",
    "    if verbose:\n",
    "        print(\"The model guessed:\")\n",
    "        print(\"\\t{}/{} profitable trades correctly (true positives)\".format(true_positives, positives))\n",
    "        print(\"\\t{}/{} profitable trades incorrectly (false negatives)\".format(false_negatives, positives))\n",
    "        print(\"\\t{}/{} unprofitable trades correctly (true negatives)\".format(true_negatives, negatives))\n",
    "        print(\"\\t{}/{} unprofitable trades incorrectly (false positives)\".format(false_positives, negatives))\n",
    "        print(\"\\t Precision: {}\".format(precision))\n",
    "        print(\"\\t Recall: {}\".format(recall))\n",
    "        print(\"\\t Profit: {}\".format(profit))\n",
    "    return (precision, recall)\n",
    "\n"
   ]
  },
  {
   "cell_type": "markdown",
   "metadata": {},
   "source": [
    "# Basic LSTM"
   ]
  },
  {
   "cell_type": "code",
   "execution_count": 116,
   "metadata": {},
   "outputs": [
    {
     "name": "stdout",
     "output_type": "stream",
     "text": [
      "Model: \"sequential_2\"\n",
      "_________________________________________________________________\n",
      "Layer (type)                 Output Shape              Param #   \n",
      "=================================================================\n",
      "lstm_2 (LSTM)                (None, 75)                25800     \n",
      "_________________________________________________________________\n",
      "dropout_2 (Dropout)          (None, 75)                0         \n",
      "_________________________________________________________________\n",
      "dense_2 (Dense)              (None, 1)                 76        \n",
      "=================================================================\n",
      "Total params: 25,876\n",
      "Trainable params: 25,876\n",
      "Non-trainable params: 0\n",
      "_________________________________________________________________\n",
      "None\n",
      "Train on 418 samples\n",
      "Epoch 1/15\n",
      "418/418 - 7s - loss: 0.6761 - accuracy: 0.6316\n",
      "Epoch 2/15\n",
      "418/418 - 5s - loss: 0.6638 - accuracy: 0.6364\n",
      "Epoch 3/15\n",
      "418/418 - 5s - loss: 0.6602 - accuracy: 0.6364\n",
      "Epoch 4/15\n",
      "418/418 - 5s - loss: 0.6628 - accuracy: 0.6364\n",
      "Epoch 5/15\n",
      "418/418 - 5s - loss: 0.6605 - accuracy: 0.6364\n",
      "Epoch 6/15\n",
      "418/418 - 5s - loss: 0.6581 - accuracy: 0.6364\n",
      "Epoch 7/15\n",
      "418/418 - 5s - loss: 0.6550 - accuracy: 0.6364\n",
      "Epoch 8/15\n",
      "418/418 - 5s - loss: 0.6584 - accuracy: 0.6364\n",
      "Epoch 9/15\n",
      "418/418 - 5s - loss: 0.6545 - accuracy: 0.6364\n",
      "Epoch 10/15\n",
      "418/418 - 5s - loss: 0.6558 - accuracy: 0.6364\n",
      "Epoch 11/15\n",
      "418/418 - 5s - loss: 0.6563 - accuracy: 0.6364\n",
      "Epoch 12/15\n",
      "418/418 - 5s - loss: 0.6577 - accuracy: 0.6364\n",
      "Epoch 13/15\n",
      "418/418 - 5s - loss: 0.6570 - accuracy: 0.6364\n",
      "Epoch 14/15\n",
      "418/418 - 5s - loss: 0.6567 - accuracy: 0.6364\n",
      "Epoch 15/15\n",
      "418/418 - 5s - loss: 0.6599 - accuracy: 0.6364\n",
      "Accuracy: 74.04%\n"
     ]
    },
    {
     "data": {
      "image/png": "[encoded data removed]",
      "text/plain": [
       "<Figure size 432x288 with 1 Axes>"
      ]
     },
     "metadata": {
      "needs_background": "light"
     },
     "output_type": "display_data"
    }
   ],
   "source": [
    "model = Sequential()\n",
    "model.add(LSTM(75, input_shape=(X_buy_train.shape[1], X_buy_train.shape[2]), dropout=0.2, recurrent_dropout=0.2))\n",
    "model.add(Dropout(0.2))\n",
    "model.add(Dense(1, activation='sigmoid'))\n",
    "model.compile(loss='binary_crossentropy', optimizer='adam', metrics=['accuracy'])\n",
    "print(model.summary())\n",
    "history = model.fit(X_buy_train, y_buy_train, epochs=15, batch_size=16, verbose=2, shuffle=True)\n",
    "# plot history\n",
    "pyplot.plot(history.history['loss'], label='train')\n",
    "#pyplot.plot(history.history['val_loss'], label='test') # Only when using validation set\n",
    "pyplot.legend()\n",
    "\n",
    "scores = model.evaluate(X_buy_test, y_buy_test, verbose=0)\n",
    "print(\"Accuracy: %.2f%%\" % (scores[1]*100))"
   ]
  },
  {
   "cell_type": "code",
   "execution_count": null,
   "metadata": {},
   "outputs": [],
   "source": []
  },
  {
   "cell_type": "code",
   "execution_count": 117,
   "metadata": {},
   "outputs": [
    {
     "name": "stdout",
     "output_type": "stream",
     "text": [
      "Analyzing 104 samples\n",
      "Threshold: 0.5\n",
      "False Negative, prob: 0.371753454208374\n",
      "False Negative, prob: 0.37175318598747253\n",
      "False Negative, prob: 0.371753454208374\n",
      "False Negative, prob: 0.37175312638282776\n",
      "False Negative, prob: 0.371753454208374\n",
      "False Negative, prob: 0.3717533349990845\n",
      "False Negative, prob: 0.371753454208374\n",
      "False Negative, prob: 0.371753454208374\n",
      "False Negative, prob: 0.37175339460372925\n",
      "False Negative, prob: 0.371753454208374\n",
      "False Negative, prob: 0.371753454208374\n",
      "False Negative, prob: 0.3717483878135681\n",
      "False Negative, prob: 0.3717447519302368\n",
      "False Negative, prob: 0.371753454208374\n",
      "False Negative, prob: 0.371753454208374\n",
      "False Negative, prob: 0.37174615263938904\n",
      "False Negative, prob: 0.37175267934799194\n",
      "False Negative, prob: 0.3717527985572815\n",
      "False Negative, prob: 0.3717533051967621\n",
      "False Negative, prob: 0.3717522919178009\n",
      "False Negative, prob: 0.371753454208374\n",
      "False Negative, prob: 0.37175285816192627\n",
      "False Negative, prob: 0.3717533051967621\n",
      "False Negative, prob: 0.37175261974334717\n",
      "False Negative, prob: 0.3717520236968994\n",
      "False Negative, prob: 0.371753454208374\n",
      "False Negative, prob: 0.3717533349990845\n",
      "The model guessed:\n",
      "\t0/27 profitable trades correctly (true positives)\n",
      "\t27/27 profitable trades incorrectly (false negatives)\n",
      "\t77/77 unprofitable trades correctly (true negatives)\n",
      "\t0/77 unprofitable trades incorrectly (false positives)\n",
      "\t Precision: 0\n",
      "\t Recall: 0.0\n",
      "\t Profit: 0\n"
     ]
    },
    {
     "data": {
      "text/plain": [
       "(0, 0.0)"
      ]
     },
     "execution_count": 117,
     "metadata": {},
     "output_type": "execute_result"
    }
   ],
   "source": [
    "precision_recall(model, X_buy_test, y_buy_test, profit_buy_test)     "
   ]
  },
  {
   "cell_type": "markdown",
   "metadata": {},
   "source": [
    "# Stacked LSTM"
   ]
  },
  {
   "cell_type": "markdown",
   "metadata": {},
   "source": [
    "# HyperParameter Tuning for Stacked LSTM"
   ]
  },
  {
   "cell_type": "code",
   "execution_count": 91,
   "metadata": {},
   "outputs": [],
   "source": [
    "from kerastuner.tuners import RandomSearch\n",
    "\n",
    "\n",
    "def build_model(hp):\n",
    "    \n",
    "    model = Sequential()\n",
    "    model.add(LSTM(units=hp.Int('units',\n",
    "                                min_value=32,\n",
    "                                max_value=256,\n",
    "                                step=32), \n",
    "                   return_sequences=True, input_shape=(X_buy_train.shape[1], X_buy_train.shape[2]), dropout=0.2, recurrent_dropout=0.2))\n",
    "    \n",
    "    model.add(Dropout(0.2))\n",
    "    model.add(LSTM(units=hp.Int('units',\n",
    "                                min_value=32,\n",
    "                                max_value=256,\n",
    "                                step=32), \n",
    "                   return_sequences=True))\n",
    "    \n",
    "    model.add(Dropout(0.2))\n",
    "    model.add(LSTM(units=hp.Int('units',\n",
    "                                min_value=32,\n",
    "                                max_value=256,\n",
    "                                step=32), \n",
    "                   dropout=0.2, recurrent_dropout=0.2))\n",
    "    \n",
    "    model.add(Dropout(0.2))\n",
    "    model.add(Dense(1, activation='sigmoid'))\n",
    "    model.compile(loss='binary_crossentropy', \n",
    "                  optimizer=Adam(\n",
    "                                hp.Choice('learning_rate',\n",
    "                                  values=[1e-2, 1e-3, 1e-4])), \n",
    "                  metrics=[binary_accuracy])\n",
    "    \n",
    "    \n",
    "    return model\n"
   ]
  },
  {
   "cell_type": "code",
   "execution_count": null,
   "metadata": {},
   "outputs": [],
   "source": [
    "tuner = RandomSearch(\n",
    "    build_model,\n",
    "    objective='binary_accuracy',\n",
    "    max_trials=50,\n",
    "    executions_per_trial=3,\n",
    "    allow_new_entries=True)\n",
    "\n",
    "tuner.search_space_summary()\n",
    "tuner.search(X_buy_train, y_buy_train, epochs=64)"
   ]
  },
  {
   "cell_type": "code",
   "execution_count": null,
   "metadata": {},
   "outputs": [],
   "source": [
    "tuner.results_summary()"
   ]
  },
  {
   "cell_type": "code",
   "execution_count": null,
   "metadata": {},
   "outputs": [],
   "source": [
    "best_model = tuner.get_best_models(num_models=1)[0]\n",
    "best_model.summary()\n",
    "precision_recall(best_model, X_buy_test, y_buy_test, profit_buy_test, threshold=0.65)     "
   ]
  },
  {
   "cell_type": "code",
   "execution_count": 63,
   "metadata": {},
   "outputs": [
    {
     "name": "stdout",
     "output_type": "stream",
     "text": [
      "Model: \"sequential_2\"\n",
      "_________________________________________________________________\n",
      "Layer (type)                 Output Shape              Param #   \n",
      "=================================================================\n",
      "lstm_2 (LSTM)                (None, 10, 100)           93600     \n",
      "_________________________________________________________________\n",
      "dropout_2 (Dropout)          (None, 10, 100)           0         \n",
      "_________________________________________________________________\n",
      "lstm_3 (LSTM)                (None, 10, 100)           80400     \n",
      "_________________________________________________________________\n",
      "dropout_3 (Dropout)          (None, 10, 100)           0         \n",
      "_________________________________________________________________\n",
      "lstm_4 (LSTM)                (None, 100)               80400     \n",
      "_________________________________________________________________\n",
      "dropout_4 (Dropout)          (None, 100)               0         \n",
      "_________________________________________________________________\n",
      "dense_2 (Dense)              (None, 1)                 101       \n",
      "=================================================================\n",
      "Total params: 254,501\n",
      "Trainable params: 254,501\n",
      "Non-trainable params: 0\n",
      "_________________________________________________________________\n",
      "None\n",
      "Train on 418 samples\n",
      "Epoch 1/12\n",
      "418/418 - 6s - loss: 0.6569 - accuracy: 0.6316\n",
      "Epoch 2/12\n",
      "418/418 - 1s - loss: 0.6402 - accuracy: 0.6483\n",
      "Epoch 3/12\n",
      "418/418 - 1s - loss: 0.6435 - accuracy: 0.6435\n",
      "Epoch 4/12\n",
      "418/418 - 1s - loss: 0.6460 - accuracy: 0.6627\n",
      "Epoch 5/12\n",
      "418/418 - 1s - loss: 0.6473 - accuracy: 0.6531\n",
      "Epoch 6/12\n",
      "418/418 - 1s - loss: 0.6280 - accuracy: 0.6722\n",
      "Epoch 7/12\n",
      "418/418 - 1s - loss: 0.6401 - accuracy: 0.6627\n",
      "Epoch 8/12\n",
      "418/418 - 1s - loss: 0.6428 - accuracy: 0.6316\n",
      "Epoch 9/12\n",
      "418/418 - 1s - loss: 0.6141 - accuracy: 0.6818\n",
      "Epoch 10/12\n",
      "418/418 - 1s - loss: 0.6216 - accuracy: 0.6746\n",
      "Epoch 11/12\n",
      "418/418 - 1s - loss: 0.6134 - accuracy: 0.6794\n",
      "Epoch 12/12\n",
      "418/418 - 1s - loss: 0.6148 - accuracy: 0.6770\n"
     ]
    },
    {
     "data": {
      "text/plain": [
       "<matplotlib.legend.Legend at 0x7f353c3a2828>"
      ]
     },
     "execution_count": 63,
     "metadata": {},
     "output_type": "execute_result"
    },
    {
     "data": {
      "image/png": "[encoded data removed]",
      "text/plain": [
       "<Figure size 432x288 with 1 Axes>"
      ]
     },
     "metadata": {
      "needs_background": "light"
     },
     "output_type": "display_data"
    }
   ],
   "source": [
    "model = Sequential()\n",
    "model.add(LSTM(100, return_sequences=True, input_shape=(X_buy_train.shape[1], X_buy_train.shape[2]), dropout=0.2, recurrent_dropout=0.2))\n",
    "model.add(Dropout(0.2))\n",
    "model.add(LSTM(100, return_sequences=True))\n",
    "model.add(Dropout(0.2))\n",
    "model.add(LSTM(100, dropout=0.2, recurrent_dropout=0.2))\n",
    "model.add(Dropout(0.2))\n",
    "model.add(Dense(1, activation='sigmoid'))\n",
    "model.compile(loss='binary_crossentropy', optimizer='adam', metrics=['accuracy'])\n",
    "print(model.summary())\n",
    "history = model.fit(X_buy_train, y_buy_train, epochs=12, batch_size=16, verbose=2, shuffle=False)\n",
    "# plot history\n",
    "pyplot.plot(history.history['loss'], label='train')\n",
    "#pyplot.plot(history.history['val_loss'], label='test') # Only when using validation set\n",
    "pyplot.legend()\n",
    "\n"
   ]
  },
  {
   "cell_type": "code",
   "execution_count": 64,
   "metadata": {},
   "outputs": [
    {
     "name": "stdout",
     "output_type": "stream",
     "text": [
      "Accuracy: 74.04%\n",
      "Analyzing 104 samples\n",
      "Threshold: 0.5\n",
      "False Negative, prob: 0.28536584973335266\n",
      "False Negative, prob: 0.2250484675168991\n",
      "False Negative, prob: 0.32086339592933655\n",
      "False Negative, prob: 0.2570270597934723\n",
      "False Negative, prob: 0.3253635764122009\n",
      "False Negative, prob: 0.26355549693107605\n",
      "False Negative, prob: 0.3442333936691284\n",
      "False Negative, prob: 0.3148510456085205\n",
      "False Negative, prob: 0.24505846202373505\n",
      "False Negative, prob: 0.31949183344841003\n",
      "False Negative, prob: 0.32762065529823303\n",
      "Profit: 373\n",
      "False Negative, prob: 0.2326124757528305\n",
      "False Negative, prob: 0.3226100206375122\n",
      "False Negative, prob: 0.33607450127601624\n",
      "Profit: -241\n",
      "False Negative, prob: 0.23409084975719452\n",
      "False Negative, prob: 0.2988980710506439\n",
      "False Negative, prob: 0.26833420991897583\n",
      "False Negative, prob: 0.25069698691368103\n",
      "Profit: 631\n",
      "False Negative, prob: 0.3206718862056732\n",
      "False Negative, prob: 0.4092714488506317\n",
      "Profit: -156\n",
      "False Negative, prob: 0.24582023918628693\n",
      "False Negative, prob: 0.309329628944397\n",
      "False Negative, prob: 0.33660200238227844\n",
      "False Negative, prob: 0.33099865913391113\n",
      "False Negative, prob: 0.23115363717079163\n",
      "The model guessed:\n",
      "\t2/27 profitable trades correctly (true positives)\n",
      "\t25/27 profitable trades incorrectly (false negatives)\n",
      "\t75/77 unprofitable trades correctly (true negatives)\n",
      "\t2/77 unprofitable trades incorrectly (false positives)\n",
      "\t Precision: 0.5\n",
      "\t Recall: 0.07407407407407407\n",
      "\t Profit: 607\n"
     ]
    },
    {
     "data": {
      "text/plain": [
       "(0.5, 0.07407407407407407)"
      ]
     },
     "execution_count": 64,
     "metadata": {},
     "output_type": "execute_result"
    }
   ],
   "source": [
    "scores = model.evaluate(X_buy_test, y_buy_test, verbose=0)\n",
    "print(\"Accuracy: %.2f%%\" % (scores[1]*100))\n",
    "precision_recall(model, X_buy_test, y_buy_test, profit_buy_test, threshold=0.5)      "
   ]
  },
  {
   "cell_type": "markdown",
   "metadata": {},
   "source": [
    "# Stacked LSTM - Non-Padded Inputs"
   ]
  },
  {
   "cell_type": "code",
   "execution_count": 114,
   "metadata": {},
   "outputs": [],
   "source": [
    "nonpadded_pipe = Pipeline(\n",
    "            steps=\n",
    "            [\n",
    "                ('min_max',MinMaxer()),\n",
    "                ('transpose', Transposer())\n",
    "            ])"
   ]
  },
  {
   "cell_type": "code",
   "execution_count": 115,
   "metadata": {},
   "outputs": [
    {
     "name": "stdout",
     "output_type": "stream",
     "text": [
      "46\n"
     ]
    }
   ],
   "source": [
    "\n",
    "buy_data_pipelined_non_padded = nonpadded_pipe.transform(buy_inputs)\n",
    "\n",
    "\n",
    "train_perc = 0.8\n",
    "buy_stop_index = round(len(buy_labels) * train_perc)\n",
    "X_buy_train = buy_data_pipelined_non_padded[:buy_stop_index]\n",
    "X_buy_test = buy_data_pipelined_non_padded[buy_stop_index:]\n",
    "y_buy_train = buy_labels[:buy_stop_index]\n",
    "y_buy_test = buy_labels[buy_stop_index:]\n",
    "profit_buy_train = buy_profits[:buy_stop_index]\n",
    "profit_buy_test = buy_profits[buy_stop_index:]\n",
    "\n",
    "print(len(buy_data_pipelined_non_padded[0][0]))"
   ]
  },
  {
   "cell_type": "code",
   "execution_count": 116,
   "metadata": {},
   "outputs": [
    {
     "ename": "AttributeError",
     "evalue": "'list' object has no attribute 'shape'",
     "output_type": "error",
     "traceback": [
      "\u001b[0;31m---------------------------------------------------------------------------\u001b[0m",
      "\u001b[0;31mAttributeError\u001b[0m                            Traceback (most recent call last)",
      "\u001b[0;32m<ipython-input-116-3368d68b7d3d>\u001b[0m in \u001b[0;36m<module>\u001b[0;34m\u001b[0m\n\u001b[1;32m      1\u001b[0m \u001b[0mmodel\u001b[0m \u001b[0;34m=\u001b[0m \u001b[0mSequential\u001b[0m\u001b[0;34m(\u001b[0m\u001b[0;34m)\u001b[0m\u001b[0;34m\u001b[0m\u001b[0;34m\u001b[0m\u001b[0m\n\u001b[0;32m----> 2\u001b[0;31m \u001b[0mmodel\u001b[0m\u001b[0;34m.\u001b[0m\u001b[0madd\u001b[0m\u001b[0;34m(\u001b[0m\u001b[0mLSTM\u001b[0m\u001b[0;34m(\u001b[0m\u001b[0;36m100\u001b[0m\u001b[0;34m,\u001b[0m \u001b[0mreturn_sequences\u001b[0m\u001b[0;34m=\u001b[0m\u001b[0;32mTrue\u001b[0m\u001b[0;34m,\u001b[0m \u001b[0minput_shape\u001b[0m\u001b[0;34m=\u001b[0m\u001b[0;34m(\u001b[0m\u001b[0;32mNone\u001b[0m\u001b[0;34m,\u001b[0m \u001b[0mX_buy_train\u001b[0m\u001b[0;34m.\u001b[0m\u001b[0mshape\u001b[0m\u001b[0;34m[\u001b[0m\u001b[0;36m2\u001b[0m\u001b[0;34m]\u001b[0m\u001b[0;34m)\u001b[0m\u001b[0;34m,\u001b[0m \u001b[0mdropout\u001b[0m\u001b[0;34m=\u001b[0m\u001b[0;36m0.2\u001b[0m\u001b[0;34m,\u001b[0m \u001b[0mrecurrent_dropout\u001b[0m\u001b[0;34m=\u001b[0m\u001b[0;36m0.2\u001b[0m\u001b[0;34m)\u001b[0m\u001b[0;34m)\u001b[0m\u001b[0;34m\u001b[0m\u001b[0;34m\u001b[0m\u001b[0m\n\u001b[0m\u001b[1;32m      3\u001b[0m \u001b[0mmodel\u001b[0m\u001b[0;34m.\u001b[0m\u001b[0madd\u001b[0m\u001b[0;34m(\u001b[0m\u001b[0mDropout\u001b[0m\u001b[0;34m(\u001b[0m\u001b[0;36m0.2\u001b[0m\u001b[0;34m)\u001b[0m\u001b[0;34m)\u001b[0m\u001b[0;34m\u001b[0m\u001b[0;34m\u001b[0m\u001b[0m\n\u001b[1;32m      4\u001b[0m \u001b[0mmodel\u001b[0m\u001b[0;34m.\u001b[0m\u001b[0madd\u001b[0m\u001b[0;34m(\u001b[0m\u001b[0mLSTM\u001b[0m\u001b[0;34m(\u001b[0m\u001b[0;36m100\u001b[0m\u001b[0;34m,\u001b[0m \u001b[0mreturn_sequences\u001b[0m\u001b[0;34m=\u001b[0m\u001b[0;32mTrue\u001b[0m\u001b[0;34m)\u001b[0m\u001b[0;34m)\u001b[0m\u001b[0;34m\u001b[0m\u001b[0;34m\u001b[0m\u001b[0m\n\u001b[1;32m      5\u001b[0m \u001b[0mmodel\u001b[0m\u001b[0;34m.\u001b[0m\u001b[0madd\u001b[0m\u001b[0;34m(\u001b[0m\u001b[0mDropout\u001b[0m\u001b[0;34m(\u001b[0m\u001b[0;36m0.2\u001b[0m\u001b[0;34m)\u001b[0m\u001b[0;34m)\u001b[0m\u001b[0;34m\u001b[0m\u001b[0;34m\u001b[0m\u001b[0m\n",
      "\u001b[0;31mAttributeError\u001b[0m: 'list' object has no attribute 'shape'"
     ]
    }
   ],
   "source": [
    "model = Sequential()\n",
    "model.add(LSTM(100, return_sequences=True, input_shape=(None, X_buy_train.shape[2]), dropout=0.2, recurrent_dropout=0.2))\n",
    "model.add(Dropout(0.2))\n",
    "model.add(LSTM(100, return_sequences=True))\n",
    "model.add(Dropout(0.2))\n",
    "model.add(LSTM(100, dropout=0.2, recurrent_dropout=0.2))\n",
    "model.add(Dropout(0.2))\n",
    "model.add(Dense(1, activation='sigmoid'))\n",
    "model.compile(loss='binary_crossentropy', optimizer='adam', metrics=['accuracy'])\n",
    "print(model.summary())\n",
    "history = model.fit(X_buy_train, y_buy_train, epochs=12, batch_size=16, verbose=2, shuffle=False)\n",
    "# plot history\n",
    "pyplot.plot(history.history['loss'], label='train')\n",
    "#pyplot.plot(history.history['val_loss'], label='test') # Only when using validation set\n",
    "pyplot.legend()"
   ]
  },
  {
   "cell_type": "markdown",
   "metadata": {},
   "source": [
    "# Bidirectional LSTM"
   ]
  },
  {
   "cell_type": "code",
   "execution_count": 112,
   "metadata": {},
   "outputs": [
    {
     "ename": "AttributeError",
     "evalue": "'list' object has no attribute 'shape'",
     "output_type": "error",
     "traceback": [
      "\u001b[0;31m---------------------------------------------------------------------------\u001b[0m",
      "\u001b[0;31mAttributeError\u001b[0m                            Traceback (most recent call last)",
      "\u001b[0;32m<ipython-input-112-0bbb047a23b7>\u001b[0m in \u001b[0;36m<module>\u001b[0;34m\u001b[0m\n\u001b[1;32m      1\u001b[0m \u001b[0mmodel\u001b[0m \u001b[0;34m=\u001b[0m \u001b[0mSequential\u001b[0m\u001b[0;34m(\u001b[0m\u001b[0;34m)\u001b[0m\u001b[0;34m\u001b[0m\u001b[0;34m\u001b[0m\u001b[0m\n\u001b[0;32m----> 2\u001b[0;31m \u001b[0mmodel\u001b[0m\u001b[0;34m.\u001b[0m\u001b[0madd\u001b[0m\u001b[0;34m(\u001b[0m\u001b[0mBidirectional\u001b[0m\u001b[0;34m(\u001b[0m\u001b[0mLSTM\u001b[0m\u001b[0;34m(\u001b[0m\u001b[0;36m100\u001b[0m\u001b[0;34m,\u001b[0m \u001b[0mdropout\u001b[0m\u001b[0;34m=\u001b[0m\u001b[0;36m0.2\u001b[0m\u001b[0;34m,\u001b[0m \u001b[0mrecurrent_dropout\u001b[0m\u001b[0;34m=\u001b[0m\u001b[0;36m0.2\u001b[0m\u001b[0;34m)\u001b[0m\u001b[0;34m,\u001b[0m \u001b[0minput_shape\u001b[0m\u001b[0;34m=\u001b[0m\u001b[0;34m(\u001b[0m\u001b[0mX_buy_train\u001b[0m\u001b[0;34m.\u001b[0m\u001b[0mshape\u001b[0m\u001b[0;34m[\u001b[0m\u001b[0;36m1\u001b[0m\u001b[0;34m]\u001b[0m\u001b[0;34m,\u001b[0m \u001b[0mX_buy_train\u001b[0m\u001b[0;34m.\u001b[0m\u001b[0mshape\u001b[0m\u001b[0;34m[\u001b[0m\u001b[0;36m2\u001b[0m\u001b[0;34m]\u001b[0m\u001b[0;34m)\u001b[0m\u001b[0;34m)\u001b[0m\u001b[0;34m)\u001b[0m\u001b[0;34m\u001b[0m\u001b[0;34m\u001b[0m\u001b[0m\n\u001b[0m\u001b[1;32m      3\u001b[0m \u001b[0mmodel\u001b[0m\u001b[0;34m.\u001b[0m\u001b[0madd\u001b[0m\u001b[0;34m(\u001b[0m\u001b[0mDropout\u001b[0m\u001b[0;34m(\u001b[0m\u001b[0;36m0.2\u001b[0m\u001b[0;34m)\u001b[0m\u001b[0;34m)\u001b[0m\u001b[0;34m\u001b[0m\u001b[0;34m\u001b[0m\u001b[0m\n\u001b[1;32m      4\u001b[0m \u001b[0mmodel\u001b[0m\u001b[0;34m.\u001b[0m\u001b[0madd\u001b[0m\u001b[0;34m(\u001b[0m\u001b[0mDense\u001b[0m\u001b[0;34m(\u001b[0m\u001b[0;36m1\u001b[0m\u001b[0;34m,\u001b[0m \u001b[0mactivation\u001b[0m\u001b[0;34m=\u001b[0m\u001b[0;34m'sigmoid'\u001b[0m\u001b[0;34m)\u001b[0m\u001b[0;34m)\u001b[0m\u001b[0;34m\u001b[0m\u001b[0;34m\u001b[0m\u001b[0m\n\u001b[1;32m      5\u001b[0m \u001b[0mmodel\u001b[0m\u001b[0;34m.\u001b[0m\u001b[0mcompile\u001b[0m\u001b[0;34m(\u001b[0m\u001b[0mloss\u001b[0m\u001b[0;34m=\u001b[0m\u001b[0;34m'binary_crossentropy'\u001b[0m\u001b[0;34m,\u001b[0m \u001b[0moptimizer\u001b[0m\u001b[0;34m=\u001b[0m\u001b[0;34m'adam'\u001b[0m\u001b[0;34m,\u001b[0m \u001b[0mmetrics\u001b[0m\u001b[0;34m=\u001b[0m\u001b[0;34m[\u001b[0m\u001b[0;34m'accuracy'\u001b[0m\u001b[0;34m]\u001b[0m\u001b[0;34m)\u001b[0m\u001b[0;34m\u001b[0m\u001b[0;34m\u001b[0m\u001b[0m\n",
      "\u001b[0;31mAttributeError\u001b[0m: 'list' object has no attribute 'shape'"
     ]
    }
   ],
   "source": [
    "model = Sequential()\n",
    "model.add(Bidirectional(LSTM(100, dropout=0.2, recurrent_dropout=0.2), input_shape=(X_buy_train.shape[1], X_buy_train.shape[2])))\n",
    "model.add(Dropout(0.2))\n",
    "model.add(Dense(1, activation='sigmoid'))\n",
    "model.compile(loss='binary_crossentropy', optimizer='adam', metrics=['accuracy'])\n",
    "print(model.summary())\n",
    "history = model.fit(X_buy_train, y_buy_train, epochs=20, batch_size=16, verbose=2, shuffle=False)\n",
    "# plot history\n",
    "pyplot.plot(history.history['loss'], label='train')\n",
    "#pyplot.plot(history.history['val_loss'], label='test') # Only when using validation set\n",
    "pyplot.legend()\n",
    "\n",
    "    "
   ]
  },
  {
   "cell_type": "code",
   "execution_count": 113,
   "metadata": {},
   "outputs": [
    {
     "ename": "RuntimeError",
     "evalue": "You must compile your model before training/testing. Use `model.compile(optimizer, loss)`.",
     "output_type": "error",
     "traceback": [
      "\u001b[0;31m---------------------------------------------------------------------------\u001b[0m",
      "\u001b[0;31mRuntimeError\u001b[0m                              Traceback (most recent call last)",
      "\u001b[0;32m<ipython-input-113-7f64dc5ed525>\u001b[0m in \u001b[0;36m<module>\u001b[0;34m\u001b[0m\n\u001b[0;32m----> 1\u001b[0;31m \u001b[0mscores\u001b[0m \u001b[0;34m=\u001b[0m \u001b[0mmodel\u001b[0m\u001b[0;34m.\u001b[0m\u001b[0mevaluate\u001b[0m\u001b[0;34m(\u001b[0m\u001b[0mX_buy_test\u001b[0m\u001b[0;34m,\u001b[0m \u001b[0my_buy_test\u001b[0m\u001b[0;34m,\u001b[0m \u001b[0mverbose\u001b[0m\u001b[0;34m=\u001b[0m\u001b[0;36m0\u001b[0m\u001b[0;34m)\u001b[0m\u001b[0;34m\u001b[0m\u001b[0;34m\u001b[0m\u001b[0m\n\u001b[0m\u001b[1;32m      2\u001b[0m \u001b[0mprint\u001b[0m\u001b[0;34m(\u001b[0m\u001b[0;34m\"Accuracy: %.2f%%\"\u001b[0m \u001b[0;34m%\u001b[0m \u001b[0;34m(\u001b[0m\u001b[0mscores\u001b[0m\u001b[0;34m[\u001b[0m\u001b[0;36m1\u001b[0m\u001b[0;34m]\u001b[0m\u001b[0;34m*\u001b[0m\u001b[0;36m100\u001b[0m\u001b[0;34m)\u001b[0m\u001b[0;34m)\u001b[0m\u001b[0;34m\u001b[0m\u001b[0;34m\u001b[0m\u001b[0m\n\u001b[1;32m      3\u001b[0m \u001b[0mprecision_recall\u001b[0m\u001b[0;34m(\u001b[0m\u001b[0mmodel\u001b[0m\u001b[0;34m,\u001b[0m \u001b[0mX_buy_test\u001b[0m\u001b[0;34m,\u001b[0m \u001b[0my_buy_test\u001b[0m\u001b[0;34m,\u001b[0m \u001b[0mprofit_buy_test\u001b[0m\u001b[0;34m)\u001b[0m\u001b[0;34m\u001b[0m\u001b[0;34m\u001b[0m\u001b[0m\n",
      "\u001b[0;32m/usr/local/lib/python3.6/dist-packages/tensorflow_core/python/keras/engine/training.py\u001b[0m in \u001b[0;36mevaluate\u001b[0;34m(self, x, y, batch_size, verbose, sample_weight, steps, callbacks, max_queue_size, workers, use_multiprocessing)\u001b[0m\n\u001b[1;32m    913\u001b[0m     \"\"\"\n\u001b[1;32m    914\u001b[0m     \u001b[0m_keras_api_gauge\u001b[0m\u001b[0;34m.\u001b[0m\u001b[0mget_cell\u001b[0m\u001b[0;34m(\u001b[0m\u001b[0;34m'evaluate'\u001b[0m\u001b[0;34m)\u001b[0m\u001b[0;34m.\u001b[0m\u001b[0mset\u001b[0m\u001b[0;34m(\u001b[0m\u001b[0;32mTrue\u001b[0m\u001b[0;34m)\u001b[0m\u001b[0;34m\u001b[0m\u001b[0;34m\u001b[0m\u001b[0m\n\u001b[0;32m--> 915\u001b[0;31m     \u001b[0mself\u001b[0m\u001b[0;34m.\u001b[0m\u001b[0m_assert_compile_was_called\u001b[0m\u001b[0;34m(\u001b[0m\u001b[0;34m)\u001b[0m\u001b[0;34m\u001b[0m\u001b[0;34m\u001b[0m\u001b[0m\n\u001b[0m\u001b[1;32m    916\u001b[0m     \u001b[0mself\u001b[0m\u001b[0;34m.\u001b[0m\u001b[0m_check_call_args\u001b[0m\u001b[0;34m(\u001b[0m\u001b[0;34m'evaluate'\u001b[0m\u001b[0;34m)\u001b[0m\u001b[0;34m\u001b[0m\u001b[0;34m\u001b[0m\u001b[0m\n\u001b[1;32m    917\u001b[0m \u001b[0;34m\u001b[0m\u001b[0m\n",
      "\u001b[0;32m/usr/local/lib/python3.6/dist-packages/tensorflow_core/python/keras/engine/training.py\u001b[0m in \u001b[0;36m_assert_compile_was_called\u001b[0;34m(self)\u001b[0m\n\u001b[1;32m   2826\u001b[0m     \u001b[0;31m# (i.e. whether the model is built and its inputs/outputs are set).\u001b[0m\u001b[0;34m\u001b[0m\u001b[0;34m\u001b[0m\u001b[0;34m\u001b[0m\u001b[0m\n\u001b[1;32m   2827\u001b[0m     \u001b[0;32mif\u001b[0m \u001b[0;32mnot\u001b[0m \u001b[0mself\u001b[0m\u001b[0;34m.\u001b[0m\u001b[0moptimizer\u001b[0m\u001b[0;34m:\u001b[0m\u001b[0;34m\u001b[0m\u001b[0;34m\u001b[0m\u001b[0m\n\u001b[0;32m-> 2828\u001b[0;31m       raise RuntimeError('You must compile your model before '\n\u001b[0m\u001b[1;32m   2829\u001b[0m                          \u001b[0;34m'training/testing. '\u001b[0m\u001b[0;34m\u001b[0m\u001b[0;34m\u001b[0m\u001b[0m\n\u001b[1;32m   2830\u001b[0m                          'Use `model.compile(optimizer, loss)`.')\n",
      "\u001b[0;31mRuntimeError\u001b[0m: You must compile your model before training/testing. Use `model.compile(optimizer, loss)`."
     ]
    }
   ],
   "source": [
    "scores = model.evaluate(X_buy_test, y_buy_test, verbose=0)\n",
    "print(\"Accuracy: %.2f%%\" % (scores[1]*100))\n",
    "precision_recall(model, X_buy_test, y_buy_test, profit_buy_test)  "
   ]
  },
  {
   "cell_type": "markdown",
   "metadata": {},
   "source": [
    "# Stacked Bidirectional LSTM"
   ]
  },
  {
   "cell_type": "code",
   "execution_count": 297,
   "metadata": {},
   "outputs": [
    {
     "name": "stdout",
     "output_type": "stream",
     "text": [
      "Model: \"sequential_14\"\n",
      "_________________________________________________________________\n",
      "Layer (type)                 Output Shape              Param #   \n",
      "=================================================================\n",
      "bidirectional_1 (Bidirection (None, 10, 200)           181600    \n",
      "_________________________________________________________________\n",
      "dropout_18 (Dropout)         (None, 10, 200)           0         \n",
      "_________________________________________________________________\n",
      "bidirectional_2 (Bidirection (None, 10, 200)           240800    \n",
      "_________________________________________________________________\n",
      "dropout_19 (Dropout)         (None, 10, 200)           0         \n",
      "_________________________________________________________________\n",
      "bidirectional_3 (Bidirection (None, 200)               240800    \n",
      "_________________________________________________________________\n",
      "dropout_20 (Dropout)         (None, 200)               0         \n",
      "_________________________________________________________________\n",
      "dense_14 (Dense)             (None, 1)                 201       \n",
      "=================================================================\n",
      "Total params: 663,401\n",
      "Trainable params: 663,401\n",
      "Non-trainable params: 0\n",
      "_________________________________________________________________\n",
      "None\n",
      "Train on 183 samples\n",
      "Epoch 1/12\n",
      "183/183 - 11s - loss: 0.6694 - accuracy: 0.6885\n",
      "Epoch 2/12\n",
      "183/183 - 1s - loss: 0.6278 - accuracy: 0.6831\n",
      "Epoch 3/12\n",
      "183/183 - 1s - loss: 0.6122 - accuracy: 0.6940\n",
      "Epoch 4/12\n",
      "183/183 - 1s - loss: 0.6145 - accuracy: 0.6940\n",
      "Epoch 5/12\n",
      "183/183 - 1s - loss: 0.6076 - accuracy: 0.7049\n",
      "Epoch 6/12\n",
      "183/183 - 1s - loss: 0.5971 - accuracy: 0.7322\n",
      "Epoch 7/12\n",
      "183/183 - 1s - loss: 0.5838 - accuracy: 0.7377\n",
      "Epoch 8/12\n",
      "183/183 - 1s - loss: 0.5690 - accuracy: 0.7377\n",
      "Epoch 9/12\n",
      "183/183 - 1s - loss: 0.5542 - accuracy: 0.7158\n",
      "Epoch 10/12\n",
      "183/183 - 1s - loss: 0.5329 - accuracy: 0.7596\n",
      "Epoch 11/12\n",
      "183/183 - 1s - loss: 0.5607 - accuracy: 0.7322\n",
      "Epoch 12/12\n",
      "183/183 - 1s - loss: 0.5395 - accuracy: 0.7486\n",
      "Accuracy: 73.91%\n"
     ]
    },
    {
     "data": {
      "image/png": "[encoded data removed]",
      "text/plain": [
       "<Figure size 432x288 with 1 Axes>"
      ]
     },
     "metadata": {
      "needs_background": "light"
     },
     "output_type": "display_data"
    }
   ],
   "source": [
    "model = Sequential()\n",
    "model.add(Bidirectional(LSTM(100, dropout=0.2, recurrent_dropout=0.2, return_sequences=True), input_shape=(X_buy_train.shape[1], X_buy_train.shape[2])))\n",
    "model.add(Dropout(0.2))\n",
    "model.add(Bidirectional(LSTM(100, return_sequences=True)))\n",
    "model.add(Dropout(0.2))\n",
    "model.add(Bidirectional(LSTM(100, dropout=0.2, recurrent_dropout=0.2)))\n",
    "model.add(Dropout(0.2))\n",
    "model.add(Dense(1, activation='sigmoid'))\n",
    "model.compile(loss='binary_crossentropy', optimizer='adam', metrics=['accuracy'])\n",
    "print(model.summary())\n",
    "history = model.fit(X_buy_train, y_buy_train, epochs=12, batch_size=16, verbose=2, shuffle=False)\n",
    "# plot history\n",
    "pyplot.plot(history.history['loss'], label='train')\n",
    "#pyplot.plot(history.history['val_loss'], label='test') # Only when using validation set\n",
    "pyplot.legend()\n",
    "\n"
   ]
  },
  {
   "cell_type": "code",
   "execution_count": 298,
   "metadata": {},
   "outputs": [
    {
     "name": "stdout",
     "output_type": "stream",
     "text": [
      "Accuracy: 73.91%\n",
      "Threshold: 0.5\n",
      "Profit: -170\n",
      "Profit: 201\n",
      "Profit: -161\n",
      "Profit: 861\n",
      "Profit: 269\n",
      "The model guessed:\n",
      "\t3/13 profitable trades correctly (true positives)\n",
      "\t10/13 profitable trades incorrectly (false negatives)\n",
      "\t31/33 unprofitable trades correctly (true negatives)\n",
      "\t2/33 unprofitable trades incorrectly (false positives)\n",
      "\t Precision: 0.6\n",
      "\t Recall: 0.23076923076923078\n",
      "\t Profit: 1000\n"
     ]
    },
    {
     "data": {
      "text/plain": [
       "(0.6, 0.23076923076923078)"
      ]
     },
     "execution_count": 298,
     "metadata": {},
     "output_type": "execute_result"
    }
   ],
   "source": [
    "scores = model.evaluate(X_buy_test, y_buy_test, verbose=0)\n",
    "print(\"Accuracy: %.2f%%\" % (scores[1]*100))\n",
    "\n",
    "precision_recall(model, X_buy_test, y_buy_test, profit_buy_test)  "
   ]
  },
  {
   "cell_type": "code",
   "execution_count": null,
   "metadata": {},
   "outputs": [],
   "source": []
  }
 ],
 "metadata": {
  "kernelspec": {
   "display_name": "Python 3",
   "language": "python",
   "name": "python3"
  },
  "language_info": {
   "codemirror_mode": {
    "name": "ipython",
    "version": 3
   },
   "file_extension": ".py",
   "mimetype": "text/x-python",
   "name": "python",
   "nbconvert_exporter": "python",
   "pygments_lexer": "ipython3",
   "version": "3.6.9"
  }
 },
 "nbformat": 4,
 "nbformat_minor": 4
}
