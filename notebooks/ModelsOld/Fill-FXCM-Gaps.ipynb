{
 "cells": [
  {
   "cell_type": "code",
   "execution_count": 1,
   "metadata": {},
   "outputs": [
    {
     "name": "stdout",
     "output_type": "stream",
     "text": [
      "Requirement already satisfied: fxcmpy in /usr/local/lib/python3.6/dist-packages (1.2.6)\n",
      "Requirement already satisfied: python-socketio in /usr/local/lib/python3.6/dist-packages (4.5.1)\n",
      "Requirement already satisfied: socketIO-client in /usr/local/lib/python3.6/dist-packages (from fxcmpy) (0.7.2)\n",
      "Requirement already satisfied: requests[socks] in /usr/local/lib/python3.6/dist-packages (from fxcmpy) (2.23.0)\n",
      "Requirement already satisfied: pandas in /usr/local/lib/python3.6/dist-packages (from fxcmpy) (1.0.3)\n",
      "Requirement already satisfied: configparser in /usr/local/lib/python3.6/dist-packages (from fxcmpy) (5.0.0)\n",
      "Requirement already satisfied: six>=1.9.0 in /usr/local/lib/python3.6/dist-packages (from python-socketio) (1.14.0)\n",
      "Requirement already satisfied: python-engineio>=3.9.0 in /usr/local/lib/python3.6/dist-packages (from python-socketio) (3.12.1)\n",
      "Requirement already satisfied: websocket-client in /usr/local/lib/python3.6/dist-packages (from socketIO-client->fxcmpy) (0.57.0)\n",
      "Requirement already satisfied: chardet<4,>=3.0.2 in /usr/local/lib/python3.6/dist-packages (from requests[socks]->fxcmpy) (3.0.4)\n",
      "Requirement already satisfied: urllib3!=1.25.0,!=1.25.1,<1.26,>=1.21.1 in /usr/local/lib/python3.6/dist-packages (from requests[socks]->fxcmpy) (1.25.8)\n",
      "Requirement already satisfied: certifi>=2017.4.17 in /usr/local/lib/python3.6/dist-packages (from requests[socks]->fxcmpy) (2019.11.28)\n",
      "Requirement already satisfied: idna<3,>=2.5 in /usr/local/lib/python3.6/dist-packages (from requests[socks]->fxcmpy) (2.9)\n",
      "Requirement already satisfied: PySocks!=1.5.7,>=1.5.6; extra == \"socks\" in /usr/local/lib/python3.6/dist-packages (from requests[socks]->fxcmpy) (1.7.1)\n",
      "Requirement already satisfied: numpy>=1.13.3 in /usr/local/lib/python3.6/dist-packages (from pandas->fxcmpy) (1.18.2)\n",
      "Requirement already satisfied: pytz>=2017.2 in /usr/local/lib/python3.6/dist-packages (from pandas->fxcmpy) (2019.3)\n",
      "Requirement already satisfied: python-dateutil>=2.6.1 in /usr/local/lib/python3.6/dist-packages (from pandas->fxcmpy) (2.8.1)\n"
     ]
    }
   ],
   "source": [
    "!pip3 install fxcmpy python-socketio\n"
   ]
  },
  {
   "cell_type": "code",
   "execution_count": 1,
   "metadata": {},
   "outputs": [],
   "source": [
    "import pandas as pd\n",
    "import os\n",
    "import numpy as np\n",
    "from datetime import datetime\n",
    "from datetime import timedelta\n",
    "import fxcmpy"
   ]
  },
  {
   "cell_type": "code",
   "execution_count": 2,
   "metadata": {},
   "outputs": [],
   "source": [
    "fxcm_dir = \"../data/FXCM/Raw/\"\n"
   ]
  },
  {
   "cell_type": "code",
   "execution_count": 3,
   "metadata": {},
   "outputs": [
    {
     "name": "stdout",
     "output_type": "stream",
     "text": [
      "instrument: EURUSD\n"
     ]
    }
   ],
   "source": [
    "instruments = os.listdir(fxcm_dir)\n",
    "instrument = \"EURUSD\"\n",
    "print(\"instrument: {}\".format(instrument))"
   ]
  },
  {
   "cell_type": "code",
   "execution_count": 4,
   "metadata": {},
   "outputs": [
    {
     "data": {
      "text/html": [
       "<div>\n",
       "<style scoped>\n",
       "    .dataframe tbody tr th:only-of-type {\n",
       "        vertical-align: middle;\n",
       "    }\n",
       "\n",
       "    .dataframe tbody tr th {\n",
       "        vertical-align: top;\n",
       "    }\n",
       "\n",
       "    .dataframe thead th {\n",
       "        text-align: right;\n",
       "    }\n",
       "</style>\n",
       "<table border=\"1\" class=\"dataframe\">\n",
       "  <thead>\n",
       "    <tr style=\"text-align: right;\">\n",
       "      <th></th>\n",
       "      <th>datetime</th>\n",
       "      <th>bidopen</th>\n",
       "      <th>bidclose</th>\n",
       "      <th>bidhigh</th>\n",
       "      <th>bidlow</th>\n",
       "      <th>askopen</th>\n",
       "      <th>askclose</th>\n",
       "      <th>askhigh</th>\n",
       "      <th>asklow</th>\n",
       "      <th>tickqty</th>\n",
       "    </tr>\n",
       "    <tr>\n",
       "      <th>date</th>\n",
       "      <th></th>\n",
       "      <th></th>\n",
       "      <th></th>\n",
       "      <th></th>\n",
       "      <th></th>\n",
       "      <th></th>\n",
       "      <th></th>\n",
       "      <th></th>\n",
       "      <th></th>\n",
       "      <th></th>\n",
       "    </tr>\n",
       "  </thead>\n",
       "  <tbody>\n",
       "    <tr>\n",
       "      <th>2013-01-02 04:07:00</th>\n",
       "      <td>2013-01-02 04:07:00</td>\n",
       "      <td>1.31841</td>\n",
       "      <td>1.32621</td>\n",
       "      <td>1.32637</td>\n",
       "      <td>1.31841</td>\n",
       "      <td>1.31859</td>\n",
       "      <td>1.32645</td>\n",
       "      <td>1.32678</td>\n",
       "      <td>1.31859</td>\n",
       "      <td>13</td>\n",
       "    </tr>\n",
       "    <tr>\n",
       "      <th>2013-01-02 04:08:00</th>\n",
       "      <td>2013-01-02 04:08:00</td>\n",
       "      <td>1.32621</td>\n",
       "      <td>1.32712</td>\n",
       "      <td>1.32726</td>\n",
       "      <td>1.32566</td>\n",
       "      <td>1.32645</td>\n",
       "      <td>1.32723</td>\n",
       "      <td>1.32743</td>\n",
       "      <td>1.32591</td>\n",
       "      <td>384</td>\n",
       "    </tr>\n",
       "    <tr>\n",
       "      <th>2013-01-02 04:09:00</th>\n",
       "      <td>2013-01-02 04:09:00</td>\n",
       "      <td>1.32712</td>\n",
       "      <td>1.32660</td>\n",
       "      <td>1.32720</td>\n",
       "      <td>1.32660</td>\n",
       "      <td>1.32723</td>\n",
       "      <td>1.32680</td>\n",
       "      <td>1.32738</td>\n",
       "      <td>1.32677</td>\n",
       "      <td>152</td>\n",
       "    </tr>\n",
       "    <tr>\n",
       "      <th>2013-01-02 04:10:00</th>\n",
       "      <td>2013-01-02 04:10:00</td>\n",
       "      <td>1.32660</td>\n",
       "      <td>1.32617</td>\n",
       "      <td>1.32661</td>\n",
       "      <td>1.32605</td>\n",
       "      <td>1.32680</td>\n",
       "      <td>1.32631</td>\n",
       "      <td>1.32680</td>\n",
       "      <td>1.32625</td>\n",
       "      <td>102</td>\n",
       "    </tr>\n",
       "    <tr>\n",
       "      <th>2013-01-02 04:11:00</th>\n",
       "      <td>2013-01-02 04:11:00</td>\n",
       "      <td>1.32617</td>\n",
       "      <td>1.32686</td>\n",
       "      <td>1.32688</td>\n",
       "      <td>1.32617</td>\n",
       "      <td>1.32631</td>\n",
       "      <td>1.32701</td>\n",
       "      <td>1.32708</td>\n",
       "      <td>1.32631</td>\n",
       "      <td>216</td>\n",
       "    </tr>\n",
       "  </tbody>\n",
       "</table>\n",
       "</div>"
      ],
      "text/plain": [
       "                                datetime  bidopen  bidclose  bidhigh   bidlow  \\\n",
       "date                                                                            \n",
       "2013-01-02 04:07:00  2013-01-02 04:07:00  1.31841   1.32621  1.32637  1.31841   \n",
       "2013-01-02 04:08:00  2013-01-02 04:08:00  1.32621   1.32712  1.32726  1.32566   \n",
       "2013-01-02 04:09:00  2013-01-02 04:09:00  1.32712   1.32660  1.32720  1.32660   \n",
       "2013-01-02 04:10:00  2013-01-02 04:10:00  1.32660   1.32617  1.32661  1.32605   \n",
       "2013-01-02 04:11:00  2013-01-02 04:11:00  1.32617   1.32686  1.32688  1.32617   \n",
       "\n",
       "                     askopen  askclose  askhigh   asklow  tickqty  \n",
       "date                                                               \n",
       "2013-01-02 04:07:00  1.31859   1.32645  1.32678  1.31859       13  \n",
       "2013-01-02 04:08:00  1.32645   1.32723  1.32743  1.32591      384  \n",
       "2013-01-02 04:09:00  1.32723   1.32680  1.32738  1.32677      152  \n",
       "2013-01-02 04:10:00  1.32680   1.32631  1.32680  1.32625      102  \n",
       "2013-01-02 04:11:00  1.32631   1.32701  1.32708  1.32631      216  "
      ]
     },
     "execution_count": 4,
     "metadata": {},
     "output_type": "execute_result"
    }
   ],
   "source": [
    "df = pd.read_csv(fxcm_dir + instrument + \"/\" + instrument + \"1\", index_col='date')\n",
    "df.head()"
   ]
  },
  {
   "cell_type": "code",
   "execution_count": 5,
   "metadata": {},
   "outputs": [],
   "source": [
    "df.index = pd.to_datetime(df.index)\n"
   ]
  },
  {
   "cell_type": "code",
   "execution_count": 6,
   "metadata": {},
   "outputs": [],
   "source": [
    "prices = df.asfreq('1Min')"
   ]
  },
  {
   "cell_type": "code",
   "execution_count": 7,
   "metadata": {},
   "outputs": [
    {
     "data": {
      "text/html": [
       "<div>\n",
       "<style scoped>\n",
       "    .dataframe tbody tr th:only-of-type {\n",
       "        vertical-align: middle;\n",
       "    }\n",
       "\n",
       "    .dataframe tbody tr th {\n",
       "        vertical-align: top;\n",
       "    }\n",
       "\n",
       "    .dataframe thead th {\n",
       "        text-align: right;\n",
       "    }\n",
       "</style>\n",
       "<table border=\"1\" class=\"dataframe\">\n",
       "  <thead>\n",
       "    <tr style=\"text-align: right;\">\n",
       "      <th></th>\n",
       "      <th>datetime</th>\n",
       "      <th>bidopen</th>\n",
       "      <th>bidclose</th>\n",
       "      <th>bidhigh</th>\n",
       "      <th>bidlow</th>\n",
       "      <th>askopen</th>\n",
       "      <th>askclose</th>\n",
       "      <th>askhigh</th>\n",
       "      <th>asklow</th>\n",
       "      <th>tickqty</th>\n",
       "    </tr>\n",
       "    <tr>\n",
       "      <th>date</th>\n",
       "      <th></th>\n",
       "      <th></th>\n",
       "      <th></th>\n",
       "      <th></th>\n",
       "      <th></th>\n",
       "      <th></th>\n",
       "      <th></th>\n",
       "      <th></th>\n",
       "      <th></th>\n",
       "      <th></th>\n",
       "    </tr>\n",
       "  </thead>\n",
       "  <tbody>\n",
       "    <tr>\n",
       "      <th>2013-01-02 04:07:00</th>\n",
       "      <td>2013-01-02 04:07:00</td>\n",
       "      <td>1.31841</td>\n",
       "      <td>1.32621</td>\n",
       "      <td>1.32637</td>\n",
       "      <td>1.31841</td>\n",
       "      <td>1.31859</td>\n",
       "      <td>1.32645</td>\n",
       "      <td>1.32678</td>\n",
       "      <td>1.31859</td>\n",
       "      <td>13.0</td>\n",
       "    </tr>\n",
       "    <tr>\n",
       "      <th>2013-01-02 04:08:00</th>\n",
       "      <td>2013-01-02 04:08:00</td>\n",
       "      <td>1.32621</td>\n",
       "      <td>1.32712</td>\n",
       "      <td>1.32726</td>\n",
       "      <td>1.32566</td>\n",
       "      <td>1.32645</td>\n",
       "      <td>1.32723</td>\n",
       "      <td>1.32743</td>\n",
       "      <td>1.32591</td>\n",
       "      <td>384.0</td>\n",
       "    </tr>\n",
       "    <tr>\n",
       "      <th>2013-01-02 04:09:00</th>\n",
       "      <td>2013-01-02 04:09:00</td>\n",
       "      <td>1.32712</td>\n",
       "      <td>1.32660</td>\n",
       "      <td>1.32720</td>\n",
       "      <td>1.32660</td>\n",
       "      <td>1.32723</td>\n",
       "      <td>1.32680</td>\n",
       "      <td>1.32738</td>\n",
       "      <td>1.32677</td>\n",
       "      <td>152.0</td>\n",
       "    </tr>\n",
       "    <tr>\n",
       "      <th>2013-01-02 04:10:00</th>\n",
       "      <td>2013-01-02 04:10:00</td>\n",
       "      <td>1.32660</td>\n",
       "      <td>1.32617</td>\n",
       "      <td>1.32661</td>\n",
       "      <td>1.32605</td>\n",
       "      <td>1.32680</td>\n",
       "      <td>1.32631</td>\n",
       "      <td>1.32680</td>\n",
       "      <td>1.32625</td>\n",
       "      <td>102.0</td>\n",
       "    </tr>\n",
       "    <tr>\n",
       "      <th>2013-01-02 04:11:00</th>\n",
       "      <td>2013-01-02 04:11:00</td>\n",
       "      <td>1.32617</td>\n",
       "      <td>1.32686</td>\n",
       "      <td>1.32688</td>\n",
       "      <td>1.32617</td>\n",
       "      <td>1.32631</td>\n",
       "      <td>1.32701</td>\n",
       "      <td>1.32708</td>\n",
       "      <td>1.32631</td>\n",
       "      <td>216.0</td>\n",
       "    </tr>\n",
       "    <tr>\n",
       "      <th>...</th>\n",
       "      <td>...</td>\n",
       "      <td>...</td>\n",
       "      <td>...</td>\n",
       "      <td>...</td>\n",
       "      <td>...</td>\n",
       "      <td>...</td>\n",
       "      <td>...</td>\n",
       "      <td>...</td>\n",
       "      <td>...</td>\n",
       "      <td>...</td>\n",
       "    </tr>\n",
       "    <tr>\n",
       "      <th>2013-01-02 20:42:00</th>\n",
       "      <td>2013-01-02 20:42:00</td>\n",
       "      <td>1.31760</td>\n",
       "      <td>1.31755</td>\n",
       "      <td>1.31760</td>\n",
       "      <td>1.31750</td>\n",
       "      <td>1.31776</td>\n",
       "      <td>1.31767</td>\n",
       "      <td>1.31776</td>\n",
       "      <td>1.31765</td>\n",
       "      <td>19.0</td>\n",
       "    </tr>\n",
       "    <tr>\n",
       "      <th>2013-01-02 20:43:00</th>\n",
       "      <td>2013-01-02 20:43:00</td>\n",
       "      <td>1.31755</td>\n",
       "      <td>1.31772</td>\n",
       "      <td>1.31775</td>\n",
       "      <td>1.31755</td>\n",
       "      <td>1.31767</td>\n",
       "      <td>1.31789</td>\n",
       "      <td>1.31791</td>\n",
       "      <td>1.31767</td>\n",
       "      <td>25.0</td>\n",
       "    </tr>\n",
       "    <tr>\n",
       "      <th>2013-01-02 20:44:00</th>\n",
       "      <td>2013-01-02 20:44:00</td>\n",
       "      <td>1.31772</td>\n",
       "      <td>1.31782</td>\n",
       "      <td>1.31782</td>\n",
       "      <td>1.31770</td>\n",
       "      <td>1.31789</td>\n",
       "      <td>1.31797</td>\n",
       "      <td>1.31797</td>\n",
       "      <td>1.31787</td>\n",
       "      <td>13.0</td>\n",
       "    </tr>\n",
       "    <tr>\n",
       "      <th>2013-01-02 20:45:00</th>\n",
       "      <td>2013-01-02 20:45:00</td>\n",
       "      <td>1.31782</td>\n",
       "      <td>1.31781</td>\n",
       "      <td>1.31782</td>\n",
       "      <td>1.31778</td>\n",
       "      <td>1.31797</td>\n",
       "      <td>1.31794</td>\n",
       "      <td>1.31797</td>\n",
       "      <td>1.31790</td>\n",
       "      <td>50.0</td>\n",
       "    </tr>\n",
       "    <tr>\n",
       "      <th>2013-01-02 20:46:00</th>\n",
       "      <td>2013-01-02 20:46:00</td>\n",
       "      <td>1.31781</td>\n",
       "      <td>1.31777</td>\n",
       "      <td>1.31781</td>\n",
       "      <td>1.31776</td>\n",
       "      <td>1.31794</td>\n",
       "      <td>1.31794</td>\n",
       "      <td>1.31794</td>\n",
       "      <td>1.31792</td>\n",
       "      <td>15.0</td>\n",
       "    </tr>\n",
       "  </tbody>\n",
       "</table>\n",
       "<p>1000 rows × 10 columns</p>\n",
       "</div>"
      ],
      "text/plain": [
       "                                datetime  bidopen  bidclose  bidhigh   bidlow  \\\n",
       "date                                                                            \n",
       "2013-01-02 04:07:00  2013-01-02 04:07:00  1.31841   1.32621  1.32637  1.31841   \n",
       "2013-01-02 04:08:00  2013-01-02 04:08:00  1.32621   1.32712  1.32726  1.32566   \n",
       "2013-01-02 04:09:00  2013-01-02 04:09:00  1.32712   1.32660  1.32720  1.32660   \n",
       "2013-01-02 04:10:00  2013-01-02 04:10:00  1.32660   1.32617  1.32661  1.32605   \n",
       "2013-01-02 04:11:00  2013-01-02 04:11:00  1.32617   1.32686  1.32688  1.32617   \n",
       "...                                  ...      ...       ...      ...      ...   \n",
       "2013-01-02 20:42:00  2013-01-02 20:42:00  1.31760   1.31755  1.31760  1.31750   \n",
       "2013-01-02 20:43:00  2013-01-02 20:43:00  1.31755   1.31772  1.31775  1.31755   \n",
       "2013-01-02 20:44:00  2013-01-02 20:44:00  1.31772   1.31782  1.31782  1.31770   \n",
       "2013-01-02 20:45:00  2013-01-02 20:45:00  1.31782   1.31781  1.31782  1.31778   \n",
       "2013-01-02 20:46:00  2013-01-02 20:46:00  1.31781   1.31777  1.31781  1.31776   \n",
       "\n",
       "                     askopen  askclose  askhigh   asklow  tickqty  \n",
       "date                                                               \n",
       "2013-01-02 04:07:00  1.31859   1.32645  1.32678  1.31859     13.0  \n",
       "2013-01-02 04:08:00  1.32645   1.32723  1.32743  1.32591    384.0  \n",
       "2013-01-02 04:09:00  1.32723   1.32680  1.32738  1.32677    152.0  \n",
       "2013-01-02 04:10:00  1.32680   1.32631  1.32680  1.32625    102.0  \n",
       "2013-01-02 04:11:00  1.32631   1.32701  1.32708  1.32631    216.0  \n",
       "...                      ...       ...      ...      ...      ...  \n",
       "2013-01-02 20:42:00  1.31776   1.31767  1.31776  1.31765     19.0  \n",
       "2013-01-02 20:43:00  1.31767   1.31789  1.31791  1.31767     25.0  \n",
       "2013-01-02 20:44:00  1.31789   1.31797  1.31797  1.31787     13.0  \n",
       "2013-01-02 20:45:00  1.31797   1.31794  1.31797  1.31790     50.0  \n",
       "2013-01-02 20:46:00  1.31794   1.31794  1.31794  1.31792     15.0  \n",
       "\n",
       "[1000 rows x 10 columns]"
      ]
     },
     "execution_count": 7,
     "metadata": {},
     "output_type": "execute_result"
    }
   ],
   "source": [
    "prices.head(1000)"
   ]
  },
  {
   "cell_type": "code",
   "execution_count": 8,
   "metadata": {},
   "outputs": [],
   "source": [
    "nans = prices.isnull()\n",
    "row_has_NaN = nans.any(axis=1)\n",
    "nan_df = prices[row_has_NaN]"
   ]
  },
  {
   "cell_type": "code",
   "execution_count": 9,
   "metadata": {},
   "outputs": [
    {
     "data": {
      "text/html": [
       "<div>\n",
       "<style scoped>\n",
       "    .dataframe tbody tr th:only-of-type {\n",
       "        vertical-align: middle;\n",
       "    }\n",
       "\n",
       "    .dataframe tbody tr th {\n",
       "        vertical-align: top;\n",
       "    }\n",
       "\n",
       "    .dataframe thead th {\n",
       "        text-align: right;\n",
       "    }\n",
       "</style>\n",
       "<table border=\"1\" class=\"dataframe\">\n",
       "  <thead>\n",
       "    <tr style=\"text-align: right;\">\n",
       "      <th></th>\n",
       "      <th>datetime</th>\n",
       "      <th>bidopen</th>\n",
       "      <th>bidclose</th>\n",
       "      <th>bidhigh</th>\n",
       "      <th>bidlow</th>\n",
       "      <th>askopen</th>\n",
       "      <th>askclose</th>\n",
       "      <th>askhigh</th>\n",
       "      <th>asklow</th>\n",
       "      <th>tickqty</th>\n",
       "    </tr>\n",
       "    <tr>\n",
       "      <th>date</th>\n",
       "      <th></th>\n",
       "      <th></th>\n",
       "      <th></th>\n",
       "      <th></th>\n",
       "      <th></th>\n",
       "      <th></th>\n",
       "      <th></th>\n",
       "      <th></th>\n",
       "      <th></th>\n",
       "      <th></th>\n",
       "    </tr>\n",
       "  </thead>\n",
       "  <tbody>\n",
       "    <tr>\n",
       "      <th>2013-01-02 20:16:00</th>\n",
       "      <td>NaN</td>\n",
       "      <td>NaN</td>\n",
       "      <td>NaN</td>\n",
       "      <td>NaN</td>\n",
       "      <td>NaN</td>\n",
       "      <td>NaN</td>\n",
       "      <td>NaN</td>\n",
       "      <td>NaN</td>\n",
       "      <td>NaN</td>\n",
       "      <td>NaN</td>\n",
       "    </tr>\n",
       "    <tr>\n",
       "      <th>2013-01-02 21:58:00</th>\n",
       "      <td>NaN</td>\n",
       "      <td>NaN</td>\n",
       "      <td>NaN</td>\n",
       "      <td>NaN</td>\n",
       "      <td>NaN</td>\n",
       "      <td>NaN</td>\n",
       "      <td>NaN</td>\n",
       "      <td>NaN</td>\n",
       "      <td>NaN</td>\n",
       "      <td>NaN</td>\n",
       "    </tr>\n",
       "    <tr>\n",
       "      <th>2013-01-03 02:15:00</th>\n",
       "      <td>NaN</td>\n",
       "      <td>NaN</td>\n",
       "      <td>NaN</td>\n",
       "      <td>NaN</td>\n",
       "      <td>NaN</td>\n",
       "      <td>NaN</td>\n",
       "      <td>NaN</td>\n",
       "      <td>NaN</td>\n",
       "      <td>NaN</td>\n",
       "      <td>NaN</td>\n",
       "    </tr>\n",
       "    <tr>\n",
       "      <th>2013-01-03 02:26:00</th>\n",
       "      <td>NaN</td>\n",
       "      <td>NaN</td>\n",
       "      <td>NaN</td>\n",
       "      <td>NaN</td>\n",
       "      <td>NaN</td>\n",
       "      <td>NaN</td>\n",
       "      <td>NaN</td>\n",
       "      <td>NaN</td>\n",
       "      <td>NaN</td>\n",
       "      <td>NaN</td>\n",
       "    </tr>\n",
       "    <tr>\n",
       "      <th>2013-01-03 02:27:00</th>\n",
       "      <td>NaN</td>\n",
       "      <td>NaN</td>\n",
       "      <td>NaN</td>\n",
       "      <td>NaN</td>\n",
       "      <td>NaN</td>\n",
       "      <td>NaN</td>\n",
       "      <td>NaN</td>\n",
       "      <td>NaN</td>\n",
       "      <td>NaN</td>\n",
       "      <td>NaN</td>\n",
       "    </tr>\n",
       "    <tr>\n",
       "      <th>2013-01-03 02:42:00</th>\n",
       "      <td>NaN</td>\n",
       "      <td>NaN</td>\n",
       "      <td>NaN</td>\n",
       "      <td>NaN</td>\n",
       "      <td>NaN</td>\n",
       "      <td>NaN</td>\n",
       "      <td>NaN</td>\n",
       "      <td>NaN</td>\n",
       "      <td>NaN</td>\n",
       "      <td>NaN</td>\n",
       "    </tr>\n",
       "    <tr>\n",
       "      <th>2013-01-03 04:21:00</th>\n",
       "      <td>NaN</td>\n",
       "      <td>NaN</td>\n",
       "      <td>NaN</td>\n",
       "      <td>NaN</td>\n",
       "      <td>NaN</td>\n",
       "      <td>NaN</td>\n",
       "      <td>NaN</td>\n",
       "      <td>NaN</td>\n",
       "      <td>NaN</td>\n",
       "      <td>NaN</td>\n",
       "    </tr>\n",
       "    <tr>\n",
       "      <th>2013-01-03 06:07:00</th>\n",
       "      <td>NaN</td>\n",
       "      <td>NaN</td>\n",
       "      <td>NaN</td>\n",
       "      <td>NaN</td>\n",
       "      <td>NaN</td>\n",
       "      <td>NaN</td>\n",
       "      <td>NaN</td>\n",
       "      <td>NaN</td>\n",
       "      <td>NaN</td>\n",
       "      <td>NaN</td>\n",
       "    </tr>\n",
       "    <tr>\n",
       "      <th>2013-01-04 21:59:00</th>\n",
       "      <td>NaN</td>\n",
       "      <td>NaN</td>\n",
       "      <td>NaN</td>\n",
       "      <td>NaN</td>\n",
       "      <td>NaN</td>\n",
       "      <td>NaN</td>\n",
       "      <td>NaN</td>\n",
       "      <td>NaN</td>\n",
       "      <td>NaN</td>\n",
       "      <td>NaN</td>\n",
       "    </tr>\n",
       "    <tr>\n",
       "      <th>2013-01-04 22:00:00</th>\n",
       "      <td>NaN</td>\n",
       "      <td>NaN</td>\n",
       "      <td>NaN</td>\n",
       "      <td>NaN</td>\n",
       "      <td>NaN</td>\n",
       "      <td>NaN</td>\n",
       "      <td>NaN</td>\n",
       "      <td>NaN</td>\n",
       "      <td>NaN</td>\n",
       "      <td>NaN</td>\n",
       "    </tr>\n",
       "  </tbody>\n",
       "</table>\n",
       "</div>"
      ],
      "text/plain": [
       "                    datetime  bidopen  bidclose  bidhigh  bidlow  askopen  \\\n",
       "date                                                                        \n",
       "2013-01-02 20:16:00      NaN      NaN       NaN      NaN     NaN      NaN   \n",
       "2013-01-02 21:58:00      NaN      NaN       NaN      NaN     NaN      NaN   \n",
       "2013-01-03 02:15:00      NaN      NaN       NaN      NaN     NaN      NaN   \n",
       "2013-01-03 02:26:00      NaN      NaN       NaN      NaN     NaN      NaN   \n",
       "2013-01-03 02:27:00      NaN      NaN       NaN      NaN     NaN      NaN   \n",
       "2013-01-03 02:42:00      NaN      NaN       NaN      NaN     NaN      NaN   \n",
       "2013-01-03 04:21:00      NaN      NaN       NaN      NaN     NaN      NaN   \n",
       "2013-01-03 06:07:00      NaN      NaN       NaN      NaN     NaN      NaN   \n",
       "2013-01-04 21:59:00      NaN      NaN       NaN      NaN     NaN      NaN   \n",
       "2013-01-04 22:00:00      NaN      NaN       NaN      NaN     NaN      NaN   \n",
       "\n",
       "                     askclose  askhigh  asklow  tickqty  \n",
       "date                                                     \n",
       "2013-01-02 20:16:00       NaN      NaN     NaN      NaN  \n",
       "2013-01-02 21:58:00       NaN      NaN     NaN      NaN  \n",
       "2013-01-03 02:15:00       NaN      NaN     NaN      NaN  \n",
       "2013-01-03 02:26:00       NaN      NaN     NaN      NaN  \n",
       "2013-01-03 02:27:00       NaN      NaN     NaN      NaN  \n",
       "2013-01-03 02:42:00       NaN      NaN     NaN      NaN  \n",
       "2013-01-03 04:21:00       NaN      NaN     NaN      NaN  \n",
       "2013-01-03 06:07:00       NaN      NaN     NaN      NaN  \n",
       "2013-01-04 21:59:00       NaN      NaN     NaN      NaN  \n",
       "2013-01-04 22:00:00       NaN      NaN     NaN      NaN  "
      ]
     },
     "execution_count": 9,
     "metadata": {},
     "output_type": "execute_result"
    }
   ],
   "source": [
    "nan_df.head(10)"
   ]
  },
  {
   "cell_type": "code",
   "execution_count": 10,
   "metadata": {},
   "outputs": [],
   "source": [
    "\n",
    "mask = (df['datetime'] > \"2013-01-02 20:14:00\") & (df['datetime'] <= \"2013-01-02 20:17:00\")\n",
    "df.loc[mask]"
   ]
  },
  {
   "cell_type": "code",
   "execution_count": 11,
   "metadata": {},
   "outputs": [
    {
     "data": {
      "text/html": [
       "<div>\n",
       "<style scoped>\n",
       "    .dataframe tbody tr th:only-of-type {\n",
       "        vertical-align: middle;\n",
       "    }\n",
       "\n",
       "    .dataframe tbody tr th {\n",
       "        vertical-align: top;\n",
       "    }\n",
       "\n",
       "    .dataframe thead th {\n",
       "        text-align: right;\n",
       "    }\n",
       "</style>\n",
       "<table border=\"1\" class=\"dataframe\">\n",
       "  <thead>\n",
       "    <tr style=\"text-align: right;\">\n",
       "      <th></th>\n",
       "      <th>datetime</th>\n",
       "      <th>bidopen</th>\n",
       "      <th>bidclose</th>\n",
       "      <th>bidhigh</th>\n",
       "      <th>bidlow</th>\n",
       "      <th>askopen</th>\n",
       "      <th>askclose</th>\n",
       "      <th>askhigh</th>\n",
       "      <th>asklow</th>\n",
       "      <th>tickqty</th>\n",
       "    </tr>\n",
       "    <tr>\n",
       "      <th>date</th>\n",
       "      <th></th>\n",
       "      <th></th>\n",
       "      <th></th>\n",
       "      <th></th>\n",
       "      <th></th>\n",
       "      <th></th>\n",
       "      <th></th>\n",
       "      <th></th>\n",
       "      <th></th>\n",
       "      <th></th>\n",
       "    </tr>\n",
       "  </thead>\n",
       "  <tbody>\n",
       "    <tr>\n",
       "      <th>2013-01-02 20:15:00</th>\n",
       "      <td>2013-01-02 20:15:00</td>\n",
       "      <td>1.31766</td>\n",
       "      <td>1.31766</td>\n",
       "      <td>1.31767</td>\n",
       "      <td>1.31761</td>\n",
       "      <td>1.31781</td>\n",
       "      <td>1.31783</td>\n",
       "      <td>1.31783</td>\n",
       "      <td>1.31777</td>\n",
       "      <td>19</td>\n",
       "    </tr>\n",
       "    <tr>\n",
       "      <th>2013-01-02 20:17:00</th>\n",
       "      <td>2013-01-02 20:17:00</td>\n",
       "      <td>1.31766</td>\n",
       "      <td>1.31762</td>\n",
       "      <td>1.31767</td>\n",
       "      <td>1.31760</td>\n",
       "      <td>1.31783</td>\n",
       "      <td>1.31779</td>\n",
       "      <td>1.31783</td>\n",
       "      <td>1.31777</td>\n",
       "      <td>14</td>\n",
       "    </tr>\n",
       "  </tbody>\n",
       "</table>\n",
       "</div>"
      ],
      "text/plain": [
       "                                datetime  bidopen  bidclose  bidhigh   bidlow  \\\n",
       "date                                                                            \n",
       "2013-01-02 20:15:00  2013-01-02 20:15:00  1.31766   1.31766  1.31767  1.31761   \n",
       "2013-01-02 20:17:00  2013-01-02 20:17:00  1.31766   1.31762  1.31767  1.31760   \n",
       "\n",
       "                     askopen  askclose  askhigh   asklow  tickqty  \n",
       "date                                                               \n",
       "2013-01-02 20:15:00  1.31781   1.31783  1.31783  1.31777       19  \n",
       "2013-01-02 20:17:00  1.31783   1.31779  1.31783  1.31777       14  "
      ]
     },
     "execution_count": 11,
     "metadata": {},
     "output_type": "execute_result"
    }
   ],
   "source": []
  },
  {
   "cell_type": "code",
   "execution_count": null,
   "metadata": {},
   "outputs": [],
   "source": []
  },
  {
   "cell_type": "code",
   "execution_count": 11,
   "metadata": {},
   "outputs": [],
   "source": [
    "date_fmt = '%Y-%m-%d %H:%M:%S'"
   ]
  },
  {
   "cell_type": "code",
   "execution_count": 12,
   "metadata": {},
   "outputs": [],
   "source": [
    "token = \"0018a5163909693d8e360d373cdf3805de507b0b\"\n",
    "con = fxcmpy.fxcmpy(access_token=token, log_level='error', server='demo')"
   ]
  },
  {
   "cell_type": "code",
   "execution_count": 33,
   "metadata": {},
   "outputs": [
    {
     "name": "stdout",
     "output_type": "stream",
     "text": [
      "2013-01-02 20:16:00\n",
      "                     bidopen  bidclose  bidhigh  bidlow  askopen  askclose  \\\n",
      "date                                                                         \n",
      "2013-01-02 20:17:00  1.31766   1.31762  1.31767  1.3176  1.31783   1.31779   \n",
      "\n",
      "                     askhigh   asklow  tickqty  \n",
      "date                                            \n",
      "2013-01-02 20:17:00  1.31783  1.31777       14  \n",
      "2013-01-02 21:58:00\n",
      "                     bidopen  bidclose  bidhigh   bidlow  askopen  askclose  \\\n",
      "date                                                                          \n",
      "2013-01-02 21:59:00  1.31843   1.31843  1.31846  1.31843  1.31864   1.31866   \n",
      "\n",
      "                     askhigh   asklow  tickqty  \n",
      "date                                            \n",
      "2013-01-02 21:59:00  1.31866  1.31863        4  \n",
      "2013-01-03 02:15:00\n",
      "                     bidopen  bidclose  bidhigh   bidlow  askopen  askclose  \\\n",
      "date                                                                          \n",
      "2013-01-03 02:16:00  1.31699   1.31702  1.31702  1.31699  1.31714   1.31718   \n",
      "\n",
      "                     askhigh   asklow  tickqty  \n",
      "date                                            \n",
      "2013-01-03 02:16:00  1.31718  1.31714       14  \n"
     ]
    },
    {
     "name": "stderr",
     "output_type": "stream",
     "text": [
      "|ERROR|2020-04-10 19:06:23,412|FXCM Server reports an unknown error: {'executed': False, 'error': ''}.\n",
      "|ERROR|2020-04-10 19:06:23,414|Can not parse server answer to json object: {\"response\":{\"executed\":false,\"error\":\"\"},\"instrument_id\":\"1\",\"period_id\":\"m1\",\"candles\":[]}.\n"
     ]
    },
    {
     "name": "stdout",
     "output_type": "stream",
     "text": [
      "2013-01-03 02:26:00\n",
      "Empty DataFrame\n",
      "Columns: [bidopen, bidclose, bidhigh, bidlow, askopen, askclose, askhigh, asklow, tickqty]\n",
      "Index: []\n",
      "2013-01-03 02:27:00\n",
      "                     bidopen  bidclose  bidhigh   bidlow  askopen  askclose  \\\n",
      "date                                                                          \n",
      "2013-01-03 02:28:00  1.31685   1.31695  1.31696  1.31684    1.317    1.3171   \n",
      "\n",
      "                     askhigh  asklow  tickqty  \n",
      "date                                           \n",
      "2013-01-03 02:28:00  1.31711   1.317       17  \n",
      "2013-01-03 02:42:00\n",
      "                     bidopen  bidclose  bidhigh   bidlow  askopen  askclose  \\\n",
      "date                                                                          \n",
      "2013-01-03 02:43:00  1.31685   1.31683  1.31685  1.31683  1.31701   1.31702   \n",
      "\n",
      "                     askhigh   asklow  tickqty  \n",
      "date                                            \n",
      "2013-01-03 02:43:00  1.31702  1.31701        2  \n",
      "2013-01-03 04:21:00\n",
      "                     bidopen  bidclose  bidhigh  bidlow  askopen  askclose  \\\n",
      "date                                                                         \n",
      "2013-01-03 04:22:00   1.3139   1.31368   1.3139  1.3136  1.31401   1.31382   \n",
      "\n",
      "                     askhigh   asklow  tickqty  \n",
      "date                                            \n",
      "2013-01-03 04:22:00  1.31405  1.31376       30  \n",
      "2013-01-03 06:07:00\n",
      "                     bidopen  bidclose  bidhigh   bidlow  askopen  askclose  \\\n",
      "date                                                                          \n",
      "2013-01-03 06:08:00  1.31405   1.31405  1.31411  1.31399  1.31419   1.31422   \n",
      "\n",
      "                     askhigh   asklow  tickqty  \n",
      "date                                            \n",
      "2013-01-03 06:08:00  1.31424  1.31413       35  \n"
     ]
    },
    {
     "name": "stderr",
     "output_type": "stream",
     "text": [
      "|ERROR|2020-04-10 19:06:25,539|FXCM Server reports an unknown error: {'executed': False, 'error': ''}.\n",
      "|ERROR|2020-04-10 19:06:25,540|Can not parse server answer to json object: {\"response\":{\"executed\":false,\"error\":\"\"},\"instrument_id\":\"1\",\"period_id\":\"m1\",\"candles\":[]}.\n"
     ]
    },
    {
     "name": "stdout",
     "output_type": "stream",
     "text": [
      "2013-01-04 21:59:00\n",
      "Empty DataFrame\n",
      "Columns: [bidopen, bidclose, bidhigh, bidlow, askopen, askclose, askhigh, asklow, tickqty]\n",
      "Index: []\n"
     ]
    },
    {
     "name": "stderr",
     "output_type": "stream",
     "text": [
      "|ERROR|2020-04-10 19:06:25,966|FXCM Server reports an unknown error: {'executed': False, 'error': ''}.\n",
      "|ERROR|2020-04-10 19:06:25,968|Can not parse server answer to json object: {\"response\":{\"executed\":false,\"error\":\"\"},\"instrument_id\":\"1\",\"period_id\":\"m1\",\"candles\":[]}.\n"
     ]
    },
    {
     "name": "stdout",
     "output_type": "stream",
     "text": [
      "2013-01-04 22:00:00\n",
      "Empty DataFrame\n",
      "Columns: [bidopen, bidclose, bidhigh, bidlow, askopen, askclose, askhigh, asklow, tickqty]\n",
      "Index: []\n"
     ]
    },
    {
     "name": "stderr",
     "output_type": "stream",
     "text": [
      "|ERROR|2020-04-10 19:06:26,401|FXCM Server reports an unknown error: {'executed': False, 'error': ''}.\n",
      "|ERROR|2020-04-10 19:06:26,403|Can not parse server answer to json object: {\"response\":{\"executed\":false,\"error\":\"\"},\"instrument_id\":\"1\",\"period_id\":\"m1\",\"candles\":[]}.\n"
     ]
    },
    {
     "name": "stdout",
     "output_type": "stream",
     "text": [
      "2013-01-04 22:01:00\n",
      "Empty DataFrame\n",
      "Columns: [bidopen, bidclose, bidhigh, bidlow, askopen, askclose, askhigh, asklow, tickqty]\n",
      "Index: []\n"
     ]
    },
    {
     "name": "stderr",
     "output_type": "stream",
     "text": [
      "|ERROR|2020-04-10 19:06:26,823|FXCM Server reports an unknown error: {'executed': False, 'error': ''}.\n",
      "|ERROR|2020-04-10 19:06:26,825|Can not parse server answer to json object: {\"response\":{\"executed\":false,\"error\":\"\"},\"instrument_id\":\"1\",\"period_id\":\"m1\",\"candles\":[]}.\n"
     ]
    },
    {
     "name": "stdout",
     "output_type": "stream",
     "text": [
      "2013-01-04 22:02:00\n",
      "Empty DataFrame\n",
      "Columns: [bidopen, bidclose, bidhigh, bidlow, askopen, askclose, askhigh, asklow, tickqty]\n",
      "Index: []\n"
     ]
    },
    {
     "name": "stderr",
     "output_type": "stream",
     "text": [
      "|ERROR|2020-04-10 19:06:27,218|FXCM Server reports an unknown error: {'executed': False, 'error': ''}.\n",
      "|ERROR|2020-04-10 19:06:27,219|Can not parse server answer to json object: {\"response\":{\"executed\":false,\"error\":\"\"},\"instrument_id\":\"1\",\"period_id\":\"m1\",\"candles\":[]}.\n"
     ]
    },
    {
     "name": "stdout",
     "output_type": "stream",
     "text": [
      "2013-01-04 22:03:00\n",
      "Empty DataFrame\n",
      "Columns: [bidopen, bidclose, bidhigh, bidlow, askopen, askclose, askhigh, asklow, tickqty]\n",
      "Index: []\n"
     ]
    },
    {
     "name": "stderr",
     "output_type": "stream",
     "text": [
      "|ERROR|2020-04-10 19:06:27,628|FXCM Server reports an unknown error: {'executed': False, 'error': ''}.\n",
      "|ERROR|2020-04-10 19:06:27,629|Can not parse server answer to json object: {\"response\":{\"executed\":false,\"error\":\"\"},\"instrument_id\":\"1\",\"period_id\":\"m1\",\"candles\":[]}.\n"
     ]
    },
    {
     "name": "stdout",
     "output_type": "stream",
     "text": [
      "2013-01-04 22:04:00\n",
      "Empty DataFrame\n",
      "Columns: [bidopen, bidclose, bidhigh, bidlow, askopen, askclose, askhigh, asklow, tickqty]\n",
      "Index: []\n"
     ]
    },
    {
     "name": "stderr",
     "output_type": "stream",
     "text": [
      "|ERROR|2020-04-10 19:06:28,062|FXCM Server reports an unknown error: {'executed': False, 'error': ''}.\n",
      "|ERROR|2020-04-10 19:06:28,064|Can not parse server answer to json object: {\"response\":{\"executed\":false,\"error\":\"\"},\"instrument_id\":\"1\",\"period_id\":\"m1\",\"candles\":[]}.\n"
     ]
    },
    {
     "name": "stdout",
     "output_type": "stream",
     "text": [
      "2013-01-04 22:05:00\n",
      "Empty DataFrame\n",
      "Columns: [bidopen, bidclose, bidhigh, bidlow, askopen, askclose, askhigh, asklow, tickqty]\n",
      "Index: []\n"
     ]
    },
    {
     "name": "stderr",
     "output_type": "stream",
     "text": [
      "|ERROR|2020-04-10 19:06:28,481|FXCM Server reports an unknown error: {'executed': False, 'error': ''}.\n",
      "|ERROR|2020-04-10 19:06:28,483|Can not parse server answer to json object: {\"response\":{\"executed\":false,\"error\":\"\"},\"instrument_id\":\"1\",\"period_id\":\"m1\",\"candles\":[]}.\n"
     ]
    },
    {
     "name": "stdout",
     "output_type": "stream",
     "text": [
      "2013-01-04 22:06:00\n",
      "Empty DataFrame\n",
      "Columns: [bidopen, bidclose, bidhigh, bidlow, askopen, askclose, askhigh, asklow, tickqty]\n",
      "Index: []\n"
     ]
    },
    {
     "name": "stderr",
     "output_type": "stream",
     "text": [
      "|ERROR|2020-04-10 19:06:28,915|FXCM Server reports an unknown error: {'executed': False, 'error': ''}.\n",
      "|ERROR|2020-04-10 19:06:28,916|Can not parse server answer to json object: {\"response\":{\"executed\":false,\"error\":\"\"},\"instrument_id\":\"1\",\"period_id\":\"m1\",\"candles\":[]}.\n"
     ]
    },
    {
     "name": "stdout",
     "output_type": "stream",
     "text": [
      "2013-01-04 22:07:00\n",
      "Empty DataFrame\n",
      "Columns: [bidopen, bidclose, bidhigh, bidlow, askopen, askclose, askhigh, asklow, tickqty]\n",
      "Index: []\n"
     ]
    },
    {
     "name": "stderr",
     "output_type": "stream",
     "text": [
      "|ERROR|2020-04-10 19:06:29,338|FXCM Server reports an unknown error: {'executed': False, 'error': ''}.\n",
      "|ERROR|2020-04-10 19:06:29,340|Can not parse server answer to json object: {\"response\":{\"executed\":false,\"error\":\"\"},\"instrument_id\":\"1\",\"period_id\":\"m1\",\"candles\":[]}.\n"
     ]
    },
    {
     "name": "stdout",
     "output_type": "stream",
     "text": [
      "2013-01-04 22:08:00\n",
      "Empty DataFrame\n",
      "Columns: [bidopen, bidclose, bidhigh, bidlow, askopen, askclose, askhigh, asklow, tickqty]\n",
      "Index: []\n"
     ]
    },
    {
     "name": "stderr",
     "output_type": "stream",
     "text": [
      "|ERROR|2020-04-10 19:06:29,756|FXCM Server reports an unknown error: {'executed': False, 'error': ''}.\n",
      "|ERROR|2020-04-10 19:06:29,757|Can not parse server answer to json object: {\"response\":{\"executed\":false,\"error\":\"\"},\"instrument_id\":\"1\",\"period_id\":\"m1\",\"candles\":[]}.\n"
     ]
    },
    {
     "name": "stdout",
     "output_type": "stream",
     "text": [
      "2013-01-04 22:09:00\n",
      "Empty DataFrame\n",
      "Columns: [bidopen, bidclose, bidhigh, bidlow, askopen, askclose, askhigh, asklow, tickqty]\n",
      "Index: []\n"
     ]
    },
    {
     "name": "stderr",
     "output_type": "stream",
     "text": [
      "|ERROR|2020-04-10 19:06:30,185|FXCM Server reports an unknown error: {'executed': False, 'error': ''}.\n",
      "|ERROR|2020-04-10 19:06:30,186|Can not parse server answer to json object: {\"response\":{\"executed\":false,\"error\":\"\"},\"instrument_id\":\"1\",\"period_id\":\"m1\",\"candles\":[]}.\n"
     ]
    },
    {
     "name": "stdout",
     "output_type": "stream",
     "text": [
      "2013-01-04 22:10:00\n",
      "Empty DataFrame\n",
      "Columns: [bidopen, bidclose, bidhigh, bidlow, askopen, askclose, askhigh, asklow, tickqty]\n",
      "Index: []\n"
     ]
    },
    {
     "name": "stderr",
     "output_type": "stream",
     "text": [
      "|ERROR|2020-04-10 19:06:30,592|FXCM Server reports an unknown error: {'executed': False, 'error': ''}.\n",
      "|ERROR|2020-04-10 19:06:30,592|Can not parse server answer to json object: {\"response\":{\"executed\":false,\"error\":\"\"},\"instrument_id\":\"1\",\"period_id\":\"m1\",\"candles\":[]}.\n"
     ]
    },
    {
     "name": "stdout",
     "output_type": "stream",
     "text": [
      "2013-01-04 22:11:00\n",
      "Empty DataFrame\n",
      "Columns: [bidopen, bidclose, bidhigh, bidlow, askopen, askclose, askhigh, asklow, tickqty]\n",
      "Index: []\n"
     ]
    },
    {
     "name": "stderr",
     "output_type": "stream",
     "text": [
      "|ERROR|2020-04-10 19:06:31,001|FXCM Server reports an unknown error: {'executed': False, 'error': ''}.\n",
      "|ERROR|2020-04-10 19:06:31,002|Can not parse server answer to json object: {\"response\":{\"executed\":false,\"error\":\"\"},\"instrument_id\":\"1\",\"period_id\":\"m1\",\"candles\":[]}.\n"
     ]
    },
    {
     "name": "stdout",
     "output_type": "stream",
     "text": [
      "2013-01-04 22:12:00\n",
      "Empty DataFrame\n",
      "Columns: [bidopen, bidclose, bidhigh, bidlow, askopen, askclose, askhigh, asklow, tickqty]\n",
      "Index: []\n"
     ]
    },
    {
     "name": "stderr",
     "output_type": "stream",
     "text": [
      "|ERROR|2020-04-10 19:06:31,431|FXCM Server reports an unknown error: {'executed': False, 'error': ''}.\n",
      "|ERROR|2020-04-10 19:06:31,432|Can not parse server answer to json object: {\"response\":{\"executed\":false,\"error\":\"\"},\"instrument_id\":\"1\",\"period_id\":\"m1\",\"candles\":[]}.\n"
     ]
    },
    {
     "name": "stdout",
     "output_type": "stream",
     "text": [
      "2013-01-04 22:13:00\n",
      "Empty DataFrame\n",
      "Columns: [bidopen, bidclose, bidhigh, bidlow, askopen, askclose, askhigh, asklow, tickqty]\n",
      "Index: []\n"
     ]
    },
    {
     "name": "stderr",
     "output_type": "stream",
     "text": [
      "|ERROR|2020-04-10 19:06:31,843|FXCM Server reports an unknown error: {'executed': False, 'error': ''}.\n",
      "|ERROR|2020-04-10 19:06:31,844|Can not parse server answer to json object: {\"response\":{\"executed\":false,\"error\":\"\"},\"instrument_id\":\"1\",\"period_id\":\"m1\",\"candles\":[]}.\n"
     ]
    },
    {
     "name": "stdout",
     "output_type": "stream",
     "text": [
      "2013-01-04 22:14:00\n",
      "Empty DataFrame\n",
      "Columns: [bidopen, bidclose, bidhigh, bidlow, askopen, askclose, askhigh, asklow, tickqty]\n",
      "Index: []\n"
     ]
    },
    {
     "name": "stderr",
     "output_type": "stream",
     "text": [
      "|ERROR|2020-04-10 19:06:32,269|FXCM Server reports an unknown error: {'executed': False, 'error': ''}.\n",
      "|ERROR|2020-04-10 19:06:32,271|Can not parse server answer to json object: {\"response\":{\"executed\":false,\"error\":\"\"},\"instrument_id\":\"1\",\"period_id\":\"m1\",\"candles\":[]}.\n"
     ]
    },
    {
     "name": "stdout",
     "output_type": "stream",
     "text": [
      "2013-01-04 22:15:00\n",
      "Empty DataFrame\n",
      "Columns: [bidopen, bidclose, bidhigh, bidlow, askopen, askclose, askhigh, asklow, tickqty]\n",
      "Index: []\n"
     ]
    },
    {
     "name": "stderr",
     "output_type": "stream",
     "text": [
      "|ERROR|2020-04-10 19:06:32,701|FXCM Server reports an unknown error: {'executed': False, 'error': ''}.\n",
      "|ERROR|2020-04-10 19:06:32,702|Can not parse server answer to json object: {\"response\":{\"executed\":false,\"error\":\"\"},\"instrument_id\":\"1\",\"period_id\":\"m1\",\"candles\":[]}.\n"
     ]
    },
    {
     "name": "stdout",
     "output_type": "stream",
     "text": [
      "2013-01-04 22:16:00\n",
      "Empty DataFrame\n",
      "Columns: [bidopen, bidclose, bidhigh, bidlow, askopen, askclose, askhigh, asklow, tickqty]\n",
      "Index: []\n"
     ]
    },
    {
     "name": "stderr",
     "output_type": "stream",
     "text": [
      "|ERROR|2020-04-10 19:06:33,118|FXCM Server reports an unknown error: {'executed': False, 'error': ''}.\n",
      "|ERROR|2020-04-10 19:06:33,119|Can not parse server answer to json object: {\"response\":{\"executed\":false,\"error\":\"\"},\"instrument_id\":\"1\",\"period_id\":\"m1\",\"candles\":[]}.\n"
     ]
    },
    {
     "name": "stdout",
     "output_type": "stream",
     "text": [
      "2013-01-04 22:17:00\n",
      "Empty DataFrame\n",
      "Columns: [bidopen, bidclose, bidhigh, bidlow, askopen, askclose, askhigh, asklow, tickqty]\n",
      "Index: []\n"
     ]
    },
    {
     "name": "stderr",
     "output_type": "stream",
     "text": [
      "|ERROR|2020-04-10 19:06:33,552|FXCM Server reports an unknown error: {'executed': False, 'error': ''}.\n",
      "|ERROR|2020-04-10 19:06:33,553|Can not parse server answer to json object: {\"response\":{\"executed\":false,\"error\":\"\"},\"instrument_id\":\"1\",\"period_id\":\"m1\",\"candles\":[]}.\n"
     ]
    },
    {
     "name": "stdout",
     "output_type": "stream",
     "text": [
      "2013-01-04 22:18:00\n",
      "Empty DataFrame\n",
      "Columns: [bidopen, bidclose, bidhigh, bidlow, askopen, askclose, askhigh, asklow, tickqty]\n",
      "Index: []\n"
     ]
    },
    {
     "name": "stderr",
     "output_type": "stream",
     "text": [
      "|ERROR|2020-04-10 19:06:33,974|FXCM Server reports an unknown error: {'executed': False, 'error': ''}.\n",
      "|ERROR|2020-04-10 19:06:33,975|Can not parse server answer to json object: {\"response\":{\"executed\":false,\"error\":\"\"},\"instrument_id\":\"1\",\"period_id\":\"m1\",\"candles\":[]}.\n"
     ]
    },
    {
     "name": "stdout",
     "output_type": "stream",
     "text": [
      "2013-01-04 22:19:00\n",
      "Empty DataFrame\n",
      "Columns: [bidopen, bidclose, bidhigh, bidlow, askopen, askclose, askhigh, asklow, tickqty]\n",
      "Index: []\n"
     ]
    },
    {
     "name": "stderr",
     "output_type": "stream",
     "text": [
      "|ERROR|2020-04-10 19:06:34,404|FXCM Server reports an unknown error: {'executed': False, 'error': ''}.\n",
      "|ERROR|2020-04-10 19:06:34,405|Can not parse server answer to json object: {\"response\":{\"executed\":false,\"error\":\"\"},\"instrument_id\":\"1\",\"period_id\":\"m1\",\"candles\":[]}.\n"
     ]
    },
    {
     "name": "stdout",
     "output_type": "stream",
     "text": [
      "2013-01-04 22:20:00\n",
      "Empty DataFrame\n",
      "Columns: [bidopen, bidclose, bidhigh, bidlow, askopen, askclose, askhigh, asklow, tickqty]\n",
      "Index: []\n"
     ]
    },
    {
     "name": "stderr",
     "output_type": "stream",
     "text": [
      "|ERROR|2020-04-10 19:06:34,825|FXCM Server reports an unknown error: {'executed': False, 'error': ''}.\n",
      "|ERROR|2020-04-10 19:06:34,826|Can not parse server answer to json object: {\"response\":{\"executed\":false,\"error\":\"\"},\"instrument_id\":\"1\",\"period_id\":\"m1\",\"candles\":[]}.\n"
     ]
    },
    {
     "name": "stdout",
     "output_type": "stream",
     "text": [
      "2013-01-04 22:21:00\n",
      "Empty DataFrame\n",
      "Columns: [bidopen, bidclose, bidhigh, bidlow, askopen, askclose, askhigh, asklow, tickqty]\n",
      "Index: []\n"
     ]
    },
    {
     "name": "stderr",
     "output_type": "stream",
     "text": [
      "|ERROR|2020-04-10 19:06:35,266|FXCM Server reports an unknown error: {'executed': False, 'error': ''}.\n",
      "|ERROR|2020-04-10 19:06:35,268|Can not parse server answer to json object: {\"response\":{\"executed\":false,\"error\":\"\"},\"instrument_id\":\"1\",\"period_id\":\"m1\",\"candles\":[]}.\n"
     ]
    },
    {
     "name": "stdout",
     "output_type": "stream",
     "text": [
      "2013-01-04 22:22:00\n",
      "Empty DataFrame\n",
      "Columns: [bidopen, bidclose, bidhigh, bidlow, askopen, askclose, askhigh, asklow, tickqty]\n",
      "Index: []\n"
     ]
    },
    {
     "name": "stderr",
     "output_type": "stream",
     "text": [
      "|ERROR|2020-04-10 19:06:35,687|FXCM Server reports an unknown error: {'executed': False, 'error': ''}.\n",
      "|ERROR|2020-04-10 19:06:35,689|Can not parse server answer to json object: {\"response\":{\"executed\":false,\"error\":\"\"},\"instrument_id\":\"1\",\"period_id\":\"m1\",\"candles\":[]}.\n"
     ]
    },
    {
     "name": "stdout",
     "output_type": "stream",
     "text": [
      "2013-01-04 22:23:00\n",
      "Empty DataFrame\n",
      "Columns: [bidopen, bidclose, bidhigh, bidlow, askopen, askclose, askhigh, asklow, tickqty]\n",
      "Index: []\n"
     ]
    },
    {
     "name": "stderr",
     "output_type": "stream",
     "text": [
      "|ERROR|2020-04-10 19:06:36,107|FXCM Server reports an unknown error: {'executed': False, 'error': ''}.\n",
      "|ERROR|2020-04-10 19:06:36,108|Can not parse server answer to json object: {\"response\":{\"executed\":false,\"error\":\"\"},\"instrument_id\":\"1\",\"period_id\":\"m1\",\"candles\":[]}.\n"
     ]
    },
    {
     "name": "stdout",
     "output_type": "stream",
     "text": [
      "2013-01-04 22:24:00\n",
      "Empty DataFrame\n",
      "Columns: [bidopen, bidclose, bidhigh, bidlow, askopen, askclose, askhigh, asklow, tickqty]\n",
      "Index: []\n"
     ]
    },
    {
     "name": "stderr",
     "output_type": "stream",
     "text": [
      "|ERROR|2020-04-10 19:06:36,529|FXCM Server reports an unknown error: {'executed': False, 'error': ''}.\n",
      "|ERROR|2020-04-10 19:06:36,529|Can not parse server answer to json object: {\"response\":{\"executed\":false,\"error\":\"\"},\"instrument_id\":\"1\",\"period_id\":\"m1\",\"candles\":[]}.\n"
     ]
    },
    {
     "name": "stdout",
     "output_type": "stream",
     "text": [
      "2013-01-04 22:25:00\n",
      "Empty DataFrame\n",
      "Columns: [bidopen, bidclose, bidhigh, bidlow, askopen, askclose, askhigh, asklow, tickqty]\n",
      "Index: []\n"
     ]
    },
    {
     "name": "stderr",
     "output_type": "stream",
     "text": [
      "|ERROR|2020-04-10 19:06:36,941|FXCM Server reports an unknown error: {'executed': False, 'error': ''}.\n",
      "|ERROR|2020-04-10 19:06:36,943|Can not parse server answer to json object: {\"response\":{\"executed\":false,\"error\":\"\"},\"instrument_id\":\"1\",\"period_id\":\"m1\",\"candles\":[]}.\n"
     ]
    },
    {
     "name": "stdout",
     "output_type": "stream",
     "text": [
      "2013-01-04 22:26:00\n",
      "Empty DataFrame\n",
      "Columns: [bidopen, bidclose, bidhigh, bidlow, askopen, askclose, askhigh, asklow, tickqty]\n",
      "Index: []\n"
     ]
    },
    {
     "name": "stderr",
     "output_type": "stream",
     "text": [
      "|ERROR|2020-04-10 19:06:37,369|FXCM Server reports an unknown error: {'executed': False, 'error': ''}.\n",
      "|ERROR|2020-04-10 19:06:37,370|Can not parse server answer to json object: {\"response\":{\"executed\":false,\"error\":\"\"},\"instrument_id\":\"1\",\"period_id\":\"m1\",\"candles\":[]}.\n"
     ]
    },
    {
     "name": "stdout",
     "output_type": "stream",
     "text": [
      "2013-01-04 22:27:00\n",
      "Empty DataFrame\n",
      "Columns: [bidopen, bidclose, bidhigh, bidlow, askopen, askclose, askhigh, asklow, tickqty]\n",
      "Index: []\n"
     ]
    },
    {
     "name": "stderr",
     "output_type": "stream",
     "text": [
      "|ERROR|2020-04-10 19:06:37,801|FXCM Server reports an unknown error: {'executed': False, 'error': ''}.\n",
      "|ERROR|2020-04-10 19:06:37,802|Can not parse server answer to json object: {\"response\":{\"executed\":false,\"error\":\"\"},\"instrument_id\":\"1\",\"period_id\":\"m1\",\"candles\":[]}.\n"
     ]
    },
    {
     "name": "stdout",
     "output_type": "stream",
     "text": [
      "2013-01-04 22:28:00\n",
      "Empty DataFrame\n",
      "Columns: [bidopen, bidclose, bidhigh, bidlow, askopen, askclose, askhigh, asklow, tickqty]\n",
      "Index: []\n"
     ]
    },
    {
     "name": "stderr",
     "output_type": "stream",
     "text": [
      "|ERROR|2020-04-10 19:06:38,230|FXCM Server reports an unknown error: {'executed': False, 'error': ''}.\n",
      "|ERROR|2020-04-10 19:06:38,231|Can not parse server answer to json object: {\"response\":{\"executed\":false,\"error\":\"\"},\"instrument_id\":\"1\",\"period_id\":\"m1\",\"candles\":[]}.\n"
     ]
    },
    {
     "name": "stdout",
     "output_type": "stream",
     "text": [
      "2013-01-04 22:29:00\n",
      "Empty DataFrame\n",
      "Columns: [bidopen, bidclose, bidhigh, bidlow, askopen, askclose, askhigh, asklow, tickqty]\n",
      "Index: []\n"
     ]
    },
    {
     "name": "stderr",
     "output_type": "stream",
     "text": [
      "|ERROR|2020-04-10 19:06:38,660|FXCM Server reports an unknown error: {'executed': False, 'error': ''}.\n",
      "|ERROR|2020-04-10 19:06:38,662|Can not parse server answer to json object: {\"response\":{\"executed\":false,\"error\":\"\"},\"instrument_id\":\"1\",\"period_id\":\"m1\",\"candles\":[]}.\n"
     ]
    },
    {
     "name": "stdout",
     "output_type": "stream",
     "text": [
      "2013-01-04 22:30:00\n",
      "Empty DataFrame\n",
      "Columns: [bidopen, bidclose, bidhigh, bidlow, askopen, askclose, askhigh, asklow, tickqty]\n",
      "Index: []\n"
     ]
    },
    {
     "name": "stderr",
     "output_type": "stream",
     "text": [
      "|ERROR|2020-04-10 19:06:39,091|FXCM Server reports an unknown error: {'executed': False, 'error': ''}.\n",
      "|ERROR|2020-04-10 19:06:39,092|Can not parse server answer to json object: {\"response\":{\"executed\":false,\"error\":\"\"},\"instrument_id\":\"1\",\"period_id\":\"m1\",\"candles\":[]}.\n"
     ]
    },
    {
     "name": "stdout",
     "output_type": "stream",
     "text": [
      "2013-01-04 22:31:00\n",
      "Empty DataFrame\n",
      "Columns: [bidopen, bidclose, bidhigh, bidlow, askopen, askclose, askhigh, asklow, tickqty]\n",
      "Index: []\n"
     ]
    },
    {
     "name": "stderr",
     "output_type": "stream",
     "text": [
      "|ERROR|2020-04-10 19:06:39,511|FXCM Server reports an unknown error: {'executed': False, 'error': ''}.\n",
      "|ERROR|2020-04-10 19:06:39,513|Can not parse server answer to json object: {\"response\":{\"executed\":false,\"error\":\"\"},\"instrument_id\":\"1\",\"period_id\":\"m1\",\"candles\":[]}.\n"
     ]
    },
    {
     "name": "stdout",
     "output_type": "stream",
     "text": [
      "2013-01-04 22:32:00\n",
      "Empty DataFrame\n",
      "Columns: [bidopen, bidclose, bidhigh, bidlow, askopen, askclose, askhigh, asklow, tickqty]\n",
      "Index: []\n"
     ]
    },
    {
     "name": "stderr",
     "output_type": "stream",
     "text": [
      "|ERROR|2020-04-10 19:06:39,927|FXCM Server reports an unknown error: {'executed': False, 'error': ''}.\n",
      "|ERROR|2020-04-10 19:06:39,928|Can not parse server answer to json object: {\"response\":{\"executed\":false,\"error\":\"\"},\"instrument_id\":\"1\",\"period_id\":\"m1\",\"candles\":[]}.\n"
     ]
    },
    {
     "name": "stdout",
     "output_type": "stream",
     "text": [
      "2013-01-04 22:33:00\n",
      "Empty DataFrame\n",
      "Columns: [bidopen, bidclose, bidhigh, bidlow, askopen, askclose, askhigh, asklow, tickqty]\n",
      "Index: []\n"
     ]
    },
    {
     "name": "stderr",
     "output_type": "stream",
     "text": [
      "|ERROR|2020-04-10 19:06:40,361|FXCM Server reports an unknown error: {'executed': False, 'error': ''}.\n",
      "|ERROR|2020-04-10 19:06:40,362|Can not parse server answer to json object: {\"response\":{\"executed\":false,\"error\":\"\"},\"instrument_id\":\"1\",\"period_id\":\"m1\",\"candles\":[]}.\n"
     ]
    },
    {
     "name": "stdout",
     "output_type": "stream",
     "text": [
      "2013-01-04 22:34:00\n",
      "Empty DataFrame\n",
      "Columns: [bidopen, bidclose, bidhigh, bidlow, askopen, askclose, askhigh, asklow, tickqty]\n",
      "Index: []\n"
     ]
    },
    {
     "name": "stderr",
     "output_type": "stream",
     "text": [
      "|ERROR|2020-04-10 19:06:40,796|FXCM Server reports an unknown error: {'executed': False, 'error': ''}.\n",
      "|ERROR|2020-04-10 19:06:40,797|Can not parse server answer to json object: {\"response\":{\"executed\":false,\"error\":\"\"},\"instrument_id\":\"1\",\"period_id\":\"m1\",\"candles\":[]}.\n"
     ]
    },
    {
     "name": "stdout",
     "output_type": "stream",
     "text": [
      "2013-01-04 22:35:00\n",
      "Empty DataFrame\n",
      "Columns: [bidopen, bidclose, bidhigh, bidlow, askopen, askclose, askhigh, asklow, tickqty]\n",
      "Index: []\n"
     ]
    },
    {
     "name": "stderr",
     "output_type": "stream",
     "text": [
      "|ERROR|2020-04-10 19:06:41,215|FXCM Server reports an unknown error: {'executed': False, 'error': ''}.\n",
      "|ERROR|2020-04-10 19:06:41,216|Can not parse server answer to json object: {\"response\":{\"executed\":false,\"error\":\"\"},\"instrument_id\":\"1\",\"period_id\":\"m1\",\"candles\":[]}.\n"
     ]
    },
    {
     "name": "stdout",
     "output_type": "stream",
     "text": [
      "2013-01-04 22:36:00\n",
      "Empty DataFrame\n",
      "Columns: [bidopen, bidclose, bidhigh, bidlow, askopen, askclose, askhigh, asklow, tickqty]\n",
      "Index: []\n"
     ]
    },
    {
     "name": "stderr",
     "output_type": "stream",
     "text": [
      "|ERROR|2020-04-10 19:06:41,635|FXCM Server reports an unknown error: {'executed': False, 'error': ''}.\n",
      "|ERROR|2020-04-10 19:06:41,636|Can not parse server answer to json object: {\"response\":{\"executed\":false,\"error\":\"\"},\"instrument_id\":\"1\",\"period_id\":\"m1\",\"candles\":[]}.\n"
     ]
    },
    {
     "name": "stdout",
     "output_type": "stream",
     "text": [
      "2013-01-04 22:37:00\n",
      "Empty DataFrame\n",
      "Columns: [bidopen, bidclose, bidhigh, bidlow, askopen, askclose, askhigh, asklow, tickqty]\n",
      "Index: []\n"
     ]
    },
    {
     "name": "stderr",
     "output_type": "stream",
     "text": [
      "|ERROR|2020-04-10 19:06:42,060|FXCM Server reports an unknown error: {'executed': False, 'error': ''}.\n",
      "|ERROR|2020-04-10 19:06:42,061|Can not parse server answer to json object: {\"response\":{\"executed\":false,\"error\":\"\"},\"instrument_id\":\"1\",\"period_id\":\"m1\",\"candles\":[]}.\n"
     ]
    },
    {
     "name": "stdout",
     "output_type": "stream",
     "text": [
      "2013-01-04 22:38:00\n",
      "Empty DataFrame\n",
      "Columns: [bidopen, bidclose, bidhigh, bidlow, askopen, askclose, askhigh, asklow, tickqty]\n",
      "Index: []\n"
     ]
    },
    {
     "name": "stderr",
     "output_type": "stream",
     "text": [
      "|ERROR|2020-04-10 19:06:42,493|FXCM Server reports an unknown error: {'executed': False, 'error': ''}.\n",
      "|ERROR|2020-04-10 19:06:42,494|Can not parse server answer to json object: {\"response\":{\"executed\":false,\"error\":\"\"},\"instrument_id\":\"1\",\"period_id\":\"m1\",\"candles\":[]}.\n"
     ]
    },
    {
     "name": "stdout",
     "output_type": "stream",
     "text": [
      "2013-01-04 22:39:00\n",
      "Empty DataFrame\n",
      "Columns: [bidopen, bidclose, bidhigh, bidlow, askopen, askclose, askhigh, asklow, tickqty]\n",
      "Index: []\n"
     ]
    },
    {
     "name": "stderr",
     "output_type": "stream",
     "text": [
      "|ERROR|2020-04-10 19:06:42,925|FXCM Server reports an unknown error: {'executed': False, 'error': ''}.\n",
      "|ERROR|2020-04-10 19:06:42,926|Can not parse server answer to json object: {\"response\":{\"executed\":false,\"error\":\"\"},\"instrument_id\":\"1\",\"period_id\":\"m1\",\"candles\":[]}.\n"
     ]
    },
    {
     "name": "stdout",
     "output_type": "stream",
     "text": [
      "2013-01-04 22:40:00\n",
      "Empty DataFrame\n",
      "Columns: [bidopen, bidclose, bidhigh, bidlow, askopen, askclose, askhigh, asklow, tickqty]\n",
      "Index: []\n"
     ]
    },
    {
     "name": "stderr",
     "output_type": "stream",
     "text": [
      "|ERROR|2020-04-10 19:06:43,377|FXCM Server reports an unknown error: {'executed': False, 'error': ''}.\n",
      "|ERROR|2020-04-10 19:06:43,378|Can not parse server answer to json object: {\"response\":{\"executed\":false,\"error\":\"\"},\"instrument_id\":\"1\",\"period_id\":\"m1\",\"candles\":[]}.\n"
     ]
    },
    {
     "name": "stdout",
     "output_type": "stream",
     "text": [
      "2013-01-04 22:41:00\n",
      "Empty DataFrame\n",
      "Columns: [bidopen, bidclose, bidhigh, bidlow, askopen, askclose, askhigh, asklow, tickqty]\n",
      "Index: []\n"
     ]
    },
    {
     "name": "stderr",
     "output_type": "stream",
     "text": [
      "|ERROR|2020-04-10 19:06:43,809|FXCM Server reports an unknown error: {'executed': False, 'error': ''}.\n",
      "|ERROR|2020-04-10 19:06:43,810|Can not parse server answer to json object: {\"response\":{\"executed\":false,\"error\":\"\"},\"instrument_id\":\"1\",\"period_id\":\"m1\",\"candles\":[]}.\n"
     ]
    },
    {
     "name": "stdout",
     "output_type": "stream",
     "text": [
      "2013-01-04 22:42:00\n",
      "Empty DataFrame\n",
      "Columns: [bidopen, bidclose, bidhigh, bidlow, askopen, askclose, askhigh, asklow, tickqty]\n",
      "Index: []\n"
     ]
    },
    {
     "name": "stderr",
     "output_type": "stream",
     "text": [
      "|ERROR|2020-04-10 19:06:44,227|FXCM Server reports an unknown error: {'executed': False, 'error': ''}.\n",
      "|ERROR|2020-04-10 19:06:44,228|Can not parse server answer to json object: {\"response\":{\"executed\":false,\"error\":\"\"},\"instrument_id\":\"1\",\"period_id\":\"m1\",\"candles\":[]}.\n"
     ]
    },
    {
     "name": "stdout",
     "output_type": "stream",
     "text": [
      "2013-01-04 22:43:00\n",
      "Empty DataFrame\n",
      "Columns: [bidopen, bidclose, bidhigh, bidlow, askopen, askclose, askhigh, asklow, tickqty]\n",
      "Index: []\n"
     ]
    },
    {
     "name": "stderr",
     "output_type": "stream",
     "text": [
      "|ERROR|2020-04-10 19:06:44,642|FXCM Server reports an unknown error: {'executed': False, 'error': ''}.\n",
      "|ERROR|2020-04-10 19:06:44,644|Can not parse server answer to json object: {\"response\":{\"executed\":false,\"error\":\"\"},\"instrument_id\":\"1\",\"period_id\":\"m1\",\"candles\":[]}.\n"
     ]
    },
    {
     "name": "stdout",
     "output_type": "stream",
     "text": [
      "2013-01-04 22:44:00\n",
      "Empty DataFrame\n",
      "Columns: [bidopen, bidclose, bidhigh, bidlow, askopen, askclose, askhigh, asklow, tickqty]\n",
      "Index: []\n"
     ]
    },
    {
     "name": "stderr",
     "output_type": "stream",
     "text": [
      "|ERROR|2020-04-10 19:06:45,056|FXCM Server reports an unknown error: {'executed': False, 'error': ''}.\n",
      "|ERROR|2020-04-10 19:06:45,057|Can not parse server answer to json object: {\"response\":{\"executed\":false,\"error\":\"\"},\"instrument_id\":\"1\",\"period_id\":\"m1\",\"candles\":[]}.\n"
     ]
    },
    {
     "name": "stdout",
     "output_type": "stream",
     "text": [
      "2013-01-04 22:45:00\n",
      "Empty DataFrame\n",
      "Columns: [bidopen, bidclose, bidhigh, bidlow, askopen, askclose, askhigh, asklow, tickqty]\n",
      "Index: []\n"
     ]
    },
    {
     "name": "stderr",
     "output_type": "stream",
     "text": [
      "|ERROR|2020-04-10 19:06:45,470|FXCM Server reports an unknown error: {'executed': False, 'error': ''}.\n",
      "|ERROR|2020-04-10 19:06:45,471|Can not parse server answer to json object: {\"response\":{\"executed\":false,\"error\":\"\"},\"instrument_id\":\"1\",\"period_id\":\"m1\",\"candles\":[]}.\n"
     ]
    },
    {
     "name": "stdout",
     "output_type": "stream",
     "text": [
      "2013-01-04 22:46:00\n",
      "Empty DataFrame\n",
      "Columns: [bidopen, bidclose, bidhigh, bidlow, askopen, askclose, askhigh, asklow, tickqty]\n",
      "Index: []\n"
     ]
    },
    {
     "name": "stderr",
     "output_type": "stream",
     "text": [
      "|ERROR|2020-04-10 19:06:45,897|FXCM Server reports an unknown error: {'executed': False, 'error': ''}.\n",
      "|ERROR|2020-04-10 19:06:45,898|Can not parse server answer to json object: {\"response\":{\"executed\":false,\"error\":\"\"},\"instrument_id\":\"1\",\"period_id\":\"m1\",\"candles\":[]}.\n"
     ]
    },
    {
     "name": "stdout",
     "output_type": "stream",
     "text": [
      "2013-01-04 22:47:00\n",
      "Empty DataFrame\n",
      "Columns: [bidopen, bidclose, bidhigh, bidlow, askopen, askclose, askhigh, asklow, tickqty]\n",
      "Index: []\n"
     ]
    },
    {
     "name": "stderr",
     "output_type": "stream",
     "text": [
      "|ERROR|2020-04-10 19:06:46,330|FXCM Server reports an unknown error: {'executed': False, 'error': ''}.\n",
      "|ERROR|2020-04-10 19:06:46,331|Can not parse server answer to json object: {\"response\":{\"executed\":false,\"error\":\"\"},\"instrument_id\":\"1\",\"period_id\":\"m1\",\"candles\":[]}.\n"
     ]
    },
    {
     "name": "stdout",
     "output_type": "stream",
     "text": [
      "2013-01-04 22:48:00\n",
      "Empty DataFrame\n",
      "Columns: [bidopen, bidclose, bidhigh, bidlow, askopen, askclose, askhigh, asklow, tickqty]\n",
      "Index: []\n"
     ]
    },
    {
     "name": "stderr",
     "output_type": "stream",
     "text": [
      "|ERROR|2020-04-10 19:06:46,776|FXCM Server reports an unknown error: {'executed': False, 'error': ''}.\n",
      "|ERROR|2020-04-10 19:06:46,778|Can not parse server answer to json object: {\"response\":{\"executed\":false,\"error\":\"\"},\"instrument_id\":\"1\",\"period_id\":\"m1\",\"candles\":[]}.\n"
     ]
    },
    {
     "name": "stdout",
     "output_type": "stream",
     "text": [
      "2013-01-04 22:49:00\n",
      "Empty DataFrame\n",
      "Columns: [bidopen, bidclose, bidhigh, bidlow, askopen, askclose, askhigh, asklow, tickqty]\n",
      "Index: []\n"
     ]
    },
    {
     "name": "stderr",
     "output_type": "stream",
     "text": [
      "|ERROR|2020-04-10 19:06:47,213|FXCM Server reports an unknown error: {'executed': False, 'error': ''}.\n",
      "|ERROR|2020-04-10 19:06:47,214|Can not parse server answer to json object: {\"response\":{\"executed\":false,\"error\":\"\"},\"instrument_id\":\"1\",\"period_id\":\"m1\",\"candles\":[]}.\n"
     ]
    },
    {
     "name": "stdout",
     "output_type": "stream",
     "text": [
      "2013-01-04 22:50:00\n",
      "Empty DataFrame\n",
      "Columns: [bidopen, bidclose, bidhigh, bidlow, askopen, askclose, askhigh, asklow, tickqty]\n",
      "Index: []\n"
     ]
    },
    {
     "name": "stderr",
     "output_type": "stream",
     "text": [
      "|ERROR|2020-04-10 19:06:47,629|FXCM Server reports an unknown error: {'executed': False, 'error': ''}.\n",
      "|ERROR|2020-04-10 19:06:47,631|Can not parse server answer to json object: {\"response\":{\"executed\":false,\"error\":\"\"},\"instrument_id\":\"1\",\"period_id\":\"m1\",\"candles\":[]}.\n"
     ]
    },
    {
     "name": "stdout",
     "output_type": "stream",
     "text": [
      "2013-01-04 22:51:00\n",
      "Empty DataFrame\n",
      "Columns: [bidopen, bidclose, bidhigh, bidlow, askopen, askclose, askhigh, asklow, tickqty]\n",
      "Index: []\n"
     ]
    },
    {
     "name": "stderr",
     "output_type": "stream",
     "text": [
      "|ERROR|2020-04-10 19:06:48,061|FXCM Server reports an unknown error: {'executed': False, 'error': ''}.\n",
      "|ERROR|2020-04-10 19:06:48,063|Can not parse server answer to json object: {\"response\":{\"executed\":false,\"error\":\"\"},\"instrument_id\":\"1\",\"period_id\":\"m1\",\"candles\":[]}.\n"
     ]
    },
    {
     "name": "stdout",
     "output_type": "stream",
     "text": [
      "2013-01-04 22:52:00\n",
      "Empty DataFrame\n",
      "Columns: [bidopen, bidclose, bidhigh, bidlow, askopen, askclose, askhigh, asklow, tickqty]\n",
      "Index: []\n"
     ]
    },
    {
     "name": "stderr",
     "output_type": "stream",
     "text": [
      "|ERROR|2020-04-10 19:06:48,494|FXCM Server reports an unknown error: {'executed': False, 'error': ''}.\n",
      "|ERROR|2020-04-10 19:06:48,495|Can not parse server answer to json object: {\"response\":{\"executed\":false,\"error\":\"\"},\"instrument_id\":\"1\",\"period_id\":\"m1\",\"candles\":[]}.\n"
     ]
    },
    {
     "name": "stdout",
     "output_type": "stream",
     "text": [
      "2013-01-04 22:53:00\n",
      "Empty DataFrame\n",
      "Columns: [bidopen, bidclose, bidhigh, bidlow, askopen, askclose, askhigh, asklow, tickqty]\n",
      "Index: []\n"
     ]
    },
    {
     "name": "stderr",
     "output_type": "stream",
     "text": [
      "|ERROR|2020-04-10 19:06:48,925|FXCM Server reports an unknown error: {'executed': False, 'error': ''}.\n",
      "|ERROR|2020-04-10 19:06:48,927|Can not parse server answer to json object: {\"response\":{\"executed\":false,\"error\":\"\"},\"instrument_id\":\"1\",\"period_id\":\"m1\",\"candles\":[]}.\n"
     ]
    },
    {
     "name": "stdout",
     "output_type": "stream",
     "text": [
      "2013-01-04 22:54:00\n",
      "Empty DataFrame\n",
      "Columns: [bidopen, bidclose, bidhigh, bidlow, askopen, askclose, askhigh, asklow, tickqty]\n",
      "Index: []\n"
     ]
    },
    {
     "name": "stderr",
     "output_type": "stream",
     "text": [
      "|ERROR|2020-04-10 19:06:49,347|FXCM Server reports an unknown error: {'executed': False, 'error': ''}.\n",
      "|ERROR|2020-04-10 19:06:49,348|Can not parse server answer to json object: {\"response\":{\"executed\":false,\"error\":\"\"},\"instrument_id\":\"1\",\"period_id\":\"m1\",\"candles\":[]}.\n"
     ]
    },
    {
     "name": "stdout",
     "output_type": "stream",
     "text": [
      "2013-01-04 22:55:00\n",
      "Empty DataFrame\n",
      "Columns: [bidopen, bidclose, bidhigh, bidlow, askopen, askclose, askhigh, asklow, tickqty]\n",
      "Index: []\n"
     ]
    },
    {
     "name": "stderr",
     "output_type": "stream",
     "text": [
      "|ERROR|2020-04-10 19:06:49,771|FXCM Server reports an unknown error: {'executed': False, 'error': ''}.\n",
      "|ERROR|2020-04-10 19:06:49,772|Can not parse server answer to json object: {\"response\":{\"executed\":false,\"error\":\"\"},\"instrument_id\":\"1\",\"period_id\":\"m1\",\"candles\":[]}.\n"
     ]
    },
    {
     "name": "stdout",
     "output_type": "stream",
     "text": [
      "2013-01-04 22:56:00\n",
      "Empty DataFrame\n",
      "Columns: [bidopen, bidclose, bidhigh, bidlow, askopen, askclose, askhigh, asklow, tickqty]\n",
      "Index: []\n"
     ]
    },
    {
     "name": "stderr",
     "output_type": "stream",
     "text": [
      "|ERROR|2020-04-10 19:06:50,191|FXCM Server reports an unknown error: {'executed': False, 'error': ''}.\n",
      "|ERROR|2020-04-10 19:06:50,192|Can not parse server answer to json object: {\"response\":{\"executed\":false,\"error\":\"\"},\"instrument_id\":\"1\",\"period_id\":\"m1\",\"candles\":[]}.\n"
     ]
    },
    {
     "name": "stdout",
     "output_type": "stream",
     "text": [
      "2013-01-04 22:57:00\n",
      "Empty DataFrame\n",
      "Columns: [bidopen, bidclose, bidhigh, bidlow, askopen, askclose, askhigh, asklow, tickqty]\n",
      "Index: []\n"
     ]
    },
    {
     "name": "stderr",
     "output_type": "stream",
     "text": [
      "|ERROR|2020-04-10 19:06:50,608|FXCM Server reports an unknown error: {'executed': False, 'error': ''}.\n",
      "|ERROR|2020-04-10 19:06:50,610|Can not parse server answer to json object: {\"response\":{\"executed\":false,\"error\":\"\"},\"instrument_id\":\"1\",\"period_id\":\"m1\",\"candles\":[]}.\n"
     ]
    },
    {
     "name": "stdout",
     "output_type": "stream",
     "text": [
      "2013-01-04 22:58:00\n",
      "Empty DataFrame\n",
      "Columns: [bidopen, bidclose, bidhigh, bidlow, askopen, askclose, askhigh, asklow, tickqty]\n",
      "Index: []\n"
     ]
    },
    {
     "name": "stderr",
     "output_type": "stream",
     "text": [
      "|ERROR|2020-04-10 19:06:51,039|FXCM Server reports an unknown error: {'executed': False, 'error': ''}.\n",
      "|ERROR|2020-04-10 19:06:51,040|Can not parse server answer to json object: {\"response\":{\"executed\":false,\"error\":\"\"},\"instrument_id\":\"1\",\"period_id\":\"m1\",\"candles\":[]}.\n"
     ]
    },
    {
     "name": "stdout",
     "output_type": "stream",
     "text": [
      "2013-01-04 22:59:00\n",
      "Empty DataFrame\n",
      "Columns: [bidopen, bidclose, bidhigh, bidlow, askopen, askclose, askhigh, asklow, tickqty]\n",
      "Index: []\n"
     ]
    },
    {
     "name": "stderr",
     "output_type": "stream",
     "text": [
      "|ERROR|2020-04-10 19:06:51,456|FXCM Server reports an unknown error: {'executed': False, 'error': ''}.\n",
      "|ERROR|2020-04-10 19:06:51,457|Can not parse server answer to json object: {\"response\":{\"executed\":false,\"error\":\"\"},\"instrument_id\":\"1\",\"period_id\":\"m1\",\"candles\":[]}.\n"
     ]
    },
    {
     "name": "stdout",
     "output_type": "stream",
     "text": [
      "2013-01-04 23:00:00\n",
      "Empty DataFrame\n",
      "Columns: [bidopen, bidclose, bidhigh, bidlow, askopen, askclose, askhigh, asklow, tickqty]\n",
      "Index: []\n"
     ]
    },
    {
     "name": "stderr",
     "output_type": "stream",
     "text": [
      "|ERROR|2020-04-10 19:06:51,880|FXCM Server reports an unknown error: {'executed': False, 'error': ''}.\n",
      "|ERROR|2020-04-10 19:06:51,881|Can not parse server answer to json object: {\"response\":{\"executed\":false,\"error\":\"\"},\"instrument_id\":\"1\",\"period_id\":\"m1\",\"candles\":[]}.\n"
     ]
    },
    {
     "name": "stdout",
     "output_type": "stream",
     "text": [
      "2013-01-04 23:01:00\n",
      "Empty DataFrame\n",
      "Columns: [bidopen, bidclose, bidhigh, bidlow, askopen, askclose, askhigh, asklow, tickqty]\n",
      "Index: []\n"
     ]
    },
    {
     "name": "stderr",
     "output_type": "stream",
     "text": [
      "|ERROR|2020-04-10 19:06:52,307|FXCM Server reports an unknown error: {'executed': False, 'error': ''}.\n",
      "|ERROR|2020-04-10 19:06:52,308|Can not parse server answer to json object: {\"response\":{\"executed\":false,\"error\":\"\"},\"instrument_id\":\"1\",\"period_id\":\"m1\",\"candles\":[]}.\n"
     ]
    },
    {
     "name": "stdout",
     "output_type": "stream",
     "text": [
      "2013-01-04 23:02:00\n",
      "Empty DataFrame\n",
      "Columns: [bidopen, bidclose, bidhigh, bidlow, askopen, askclose, askhigh, asklow, tickqty]\n",
      "Index: []\n"
     ]
    },
    {
     "name": "stderr",
     "output_type": "stream",
     "text": [
      "|ERROR|2020-04-10 19:06:52,728|FXCM Server reports an unknown error: {'executed': False, 'error': ''}.\n",
      "|ERROR|2020-04-10 19:06:52,729|Can not parse server answer to json object: {\"response\":{\"executed\":false,\"error\":\"\"},\"instrument_id\":\"1\",\"period_id\":\"m1\",\"candles\":[]}.\n"
     ]
    },
    {
     "name": "stdout",
     "output_type": "stream",
     "text": [
      "2013-01-04 23:03:00\n",
      "Empty DataFrame\n",
      "Columns: [bidopen, bidclose, bidhigh, bidlow, askopen, askclose, askhigh, asklow, tickqty]\n",
      "Index: []\n"
     ]
    },
    {
     "name": "stderr",
     "output_type": "stream",
     "text": [
      "|ERROR|2020-04-10 19:06:53,147|FXCM Server reports an unknown error: {'executed': False, 'error': ''}.\n",
      "|ERROR|2020-04-10 19:06:53,148|Can not parse server answer to json object: {\"response\":{\"executed\":false,\"error\":\"\"},\"instrument_id\":\"1\",\"period_id\":\"m1\",\"candles\":[]}.\n"
     ]
    },
    {
     "name": "stdout",
     "output_type": "stream",
     "text": [
      "2013-01-04 23:04:00\n",
      "Empty DataFrame\n",
      "Columns: [bidopen, bidclose, bidhigh, bidlow, askopen, askclose, askhigh, asklow, tickqty]\n",
      "Index: []\n"
     ]
    },
    {
     "name": "stderr",
     "output_type": "stream",
     "text": [
      "|ERROR|2020-04-10 19:06:53,573|FXCM Server reports an unknown error: {'executed': False, 'error': ''}.\n",
      "|ERROR|2020-04-10 19:06:53,575|Can not parse server answer to json object: {\"response\":{\"executed\":false,\"error\":\"\"},\"instrument_id\":\"1\",\"period_id\":\"m1\",\"candles\":[]}.\n"
     ]
    },
    {
     "name": "stdout",
     "output_type": "stream",
     "text": [
      "2013-01-04 23:05:00\n",
      "Empty DataFrame\n",
      "Columns: [bidopen, bidclose, bidhigh, bidlow, askopen, askclose, askhigh, asklow, tickqty]\n",
      "Index: []\n"
     ]
    },
    {
     "name": "stderr",
     "output_type": "stream",
     "text": [
      "|ERROR|2020-04-10 19:06:53,994|FXCM Server reports an unknown error: {'executed': False, 'error': ''}.\n",
      "|ERROR|2020-04-10 19:06:53,995|Can not parse server answer to json object: {\"response\":{\"executed\":false,\"error\":\"\"},\"instrument_id\":\"1\",\"period_id\":\"m1\",\"candles\":[]}.\n"
     ]
    },
    {
     "name": "stdout",
     "output_type": "stream",
     "text": [
      "2013-01-04 23:06:00\n",
      "Empty DataFrame\n",
      "Columns: [bidopen, bidclose, bidhigh, bidlow, askopen, askclose, askhigh, asklow, tickqty]\n",
      "Index: []\n"
     ]
    },
    {
     "name": "stderr",
     "output_type": "stream",
     "text": [
      "|ERROR|2020-04-10 19:06:54,421|FXCM Server reports an unknown error: {'executed': False, 'error': ''}.\n",
      "|ERROR|2020-04-10 19:06:54,422|Can not parse server answer to json object: {\"response\":{\"executed\":false,\"error\":\"\"},\"instrument_id\":\"1\",\"period_id\":\"m1\",\"candles\":[]}.\n"
     ]
    },
    {
     "name": "stdout",
     "output_type": "stream",
     "text": [
      "2013-01-04 23:07:00\n",
      "Empty DataFrame\n",
      "Columns: [bidopen, bidclose, bidhigh, bidlow, askopen, askclose, askhigh, asklow, tickqty]\n",
      "Index: []\n"
     ]
    },
    {
     "name": "stderr",
     "output_type": "stream",
     "text": [
      "|ERROR|2020-04-10 19:06:54,835|FXCM Server reports an unknown error: {'executed': False, 'error': ''}.\n",
      "|ERROR|2020-04-10 19:06:54,836|Can not parse server answer to json object: {\"response\":{\"executed\":false,\"error\":\"\"},\"instrument_id\":\"1\",\"period_id\":\"m1\",\"candles\":[]}.\n"
     ]
    },
    {
     "name": "stdout",
     "output_type": "stream",
     "text": [
      "2013-01-04 23:08:00\n",
      "Empty DataFrame\n",
      "Columns: [bidopen, bidclose, bidhigh, bidlow, askopen, askclose, askhigh, asklow, tickqty]\n",
      "Index: []\n"
     ]
    },
    {
     "name": "stderr",
     "output_type": "stream",
     "text": [
      "|ERROR|2020-04-10 19:06:55,265|FXCM Server reports an unknown error: {'executed': False, 'error': ''}.\n",
      "|ERROR|2020-04-10 19:06:55,266|Can not parse server answer to json object: {\"response\":{\"executed\":false,\"error\":\"\"},\"instrument_id\":\"1\",\"period_id\":\"m1\",\"candles\":[]}.\n"
     ]
    },
    {
     "name": "stdout",
     "output_type": "stream",
     "text": [
      "2013-01-04 23:09:00\n",
      "Empty DataFrame\n",
      "Columns: [bidopen, bidclose, bidhigh, bidlow, askopen, askclose, askhigh, asklow, tickqty]\n",
      "Index: []\n"
     ]
    },
    {
     "name": "stderr",
     "output_type": "stream",
     "text": [
      "|ERROR|2020-04-10 19:06:55,674|FXCM Server reports an unknown error: {'executed': False, 'error': ''}.\n",
      "|ERROR|2020-04-10 19:06:55,675|Can not parse server answer to json object: {\"response\":{\"executed\":false,\"error\":\"\"},\"instrument_id\":\"1\",\"period_id\":\"m1\",\"candles\":[]}.\n"
     ]
    },
    {
     "name": "stdout",
     "output_type": "stream",
     "text": [
      "2013-01-04 23:10:00\n",
      "Empty DataFrame\n",
      "Columns: [bidopen, bidclose, bidhigh, bidlow, askopen, askclose, askhigh, asklow, tickqty]\n",
      "Index: []\n"
     ]
    },
    {
     "name": "stderr",
     "output_type": "stream",
     "text": [
      "|ERROR|2020-04-10 19:06:56,108|FXCM Server reports an unknown error: {'executed': False, 'error': ''}.\n",
      "|ERROR|2020-04-10 19:06:56,109|Can not parse server answer to json object: {\"response\":{\"executed\":false,\"error\":\"\"},\"instrument_id\":\"1\",\"period_id\":\"m1\",\"candles\":[]}.\n"
     ]
    },
    {
     "name": "stdout",
     "output_type": "stream",
     "text": [
      "2013-01-04 23:11:00\n",
      "Empty DataFrame\n",
      "Columns: [bidopen, bidclose, bidhigh, bidlow, askopen, askclose, askhigh, asklow, tickqty]\n",
      "Index: []\n"
     ]
    },
    {
     "name": "stderr",
     "output_type": "stream",
     "text": [
      "|ERROR|2020-04-10 19:06:56,540|FXCM Server reports an unknown error: {'executed': False, 'error': ''}.\n",
      "|ERROR|2020-04-10 19:06:56,541|Can not parse server answer to json object: {\"response\":{\"executed\":false,\"error\":\"\"},\"instrument_id\":\"1\",\"period_id\":\"m1\",\"candles\":[]}.\n"
     ]
    },
    {
     "name": "stdout",
     "output_type": "stream",
     "text": [
      "2013-01-04 23:12:00\n",
      "Empty DataFrame\n",
      "Columns: [bidopen, bidclose, bidhigh, bidlow, askopen, askclose, askhigh, asklow, tickqty]\n",
      "Index: []\n"
     ]
    },
    {
     "name": "stderr",
     "output_type": "stream",
     "text": [
      "|ERROR|2020-04-10 19:06:56,959|FXCM Server reports an unknown error: {'executed': False, 'error': ''}.\n",
      "|ERROR|2020-04-10 19:06:56,960|Can not parse server answer to json object: {\"response\":{\"executed\":false,\"error\":\"\"},\"instrument_id\":\"1\",\"period_id\":\"m1\",\"candles\":[]}.\n"
     ]
    },
    {
     "name": "stdout",
     "output_type": "stream",
     "text": [
      "2013-01-04 23:13:00\n",
      "Empty DataFrame\n",
      "Columns: [bidopen, bidclose, bidhigh, bidlow, askopen, askclose, askhigh, asklow, tickqty]\n",
      "Index: []\n"
     ]
    },
    {
     "name": "stderr",
     "output_type": "stream",
     "text": [
      "|ERROR|2020-04-10 19:06:57,335|FXCM Server reports an unknown error: {'executed': False, 'error': ''}.\n",
      "|ERROR|2020-04-10 19:06:57,337|Can not parse server answer to json object: {\"response\":{\"executed\":false,\"error\":\"\"},\"instrument_id\":\"1\",\"period_id\":\"m1\",\"candles\":[]}.\n"
     ]
    },
    {
     "name": "stdout",
     "output_type": "stream",
     "text": [
      "2013-01-04 23:14:00\n",
      "Empty DataFrame\n",
      "Columns: [bidopen, bidclose, bidhigh, bidlow, askopen, askclose, askhigh, asklow, tickqty]\n",
      "Index: []\n"
     ]
    },
    {
     "name": "stderr",
     "output_type": "stream",
     "text": [
      "|ERROR|2020-04-10 19:06:57,755|FXCM Server reports an unknown error: {'executed': False, 'error': ''}.\n",
      "|ERROR|2020-04-10 19:06:57,756|Can not parse server answer to json object: {\"response\":{\"executed\":false,\"error\":\"\"},\"instrument_id\":\"1\",\"period_id\":\"m1\",\"candles\":[]}.\n"
     ]
    },
    {
     "name": "stdout",
     "output_type": "stream",
     "text": [
      "2013-01-04 23:15:00\n",
      "Empty DataFrame\n",
      "Columns: [bidopen, bidclose, bidhigh, bidlow, askopen, askclose, askhigh, asklow, tickqty]\n",
      "Index: []\n"
     ]
    },
    {
     "name": "stderr",
     "output_type": "stream",
     "text": [
      "|ERROR|2020-04-10 19:06:58,191|FXCM Server reports an unknown error: {'executed': False, 'error': ''}.\n",
      "|ERROR|2020-04-10 19:06:58,192|Can not parse server answer to json object: {\"response\":{\"executed\":false,\"error\":\"\"},\"instrument_id\":\"1\",\"period_id\":\"m1\",\"candles\":[]}.\n"
     ]
    },
    {
     "name": "stdout",
     "output_type": "stream",
     "text": [
      "2013-01-04 23:16:00\n",
      "Empty DataFrame\n",
      "Columns: [bidopen, bidclose, bidhigh, bidlow, askopen, askclose, askhigh, asklow, tickqty]\n",
      "Index: []\n"
     ]
    },
    {
     "name": "stderr",
     "output_type": "stream",
     "text": [
      "|ERROR|2020-04-10 19:06:58,610|FXCM Server reports an unknown error: {'executed': False, 'error': ''}.\n",
      "|ERROR|2020-04-10 19:06:58,611|Can not parse server answer to json object: {\"response\":{\"executed\":false,\"error\":\"\"},\"instrument_id\":\"1\",\"period_id\":\"m1\",\"candles\":[]}.\n"
     ]
    },
    {
     "name": "stdout",
     "output_type": "stream",
     "text": [
      "2013-01-04 23:17:00\n",
      "Empty DataFrame\n",
      "Columns: [bidopen, bidclose, bidhigh, bidlow, askopen, askclose, askhigh, asklow, tickqty]\n",
      "Index: []\n"
     ]
    },
    {
     "name": "stderr",
     "output_type": "stream",
     "text": [
      "|ERROR|2020-04-10 19:06:59,044|FXCM Server reports an unknown error: {'executed': False, 'error': ''}.\n",
      "|ERROR|2020-04-10 19:06:59,045|Can not parse server answer to json object: {\"response\":{\"executed\":false,\"error\":\"\"},\"instrument_id\":\"1\",\"period_id\":\"m1\",\"candles\":[]}.\n"
     ]
    },
    {
     "name": "stdout",
     "output_type": "stream",
     "text": [
      "2013-01-04 23:18:00\n",
      "Empty DataFrame\n",
      "Columns: [bidopen, bidclose, bidhigh, bidlow, askopen, askclose, askhigh, asklow, tickqty]\n",
      "Index: []\n"
     ]
    },
    {
     "name": "stderr",
     "output_type": "stream",
     "text": [
      "|ERROR|2020-04-10 19:06:59,469|FXCM Server reports an unknown error: {'executed': False, 'error': ''}.\n",
      "|ERROR|2020-04-10 19:06:59,470|Can not parse server answer to json object: {\"response\":{\"executed\":false,\"error\":\"\"},\"instrument_id\":\"1\",\"period_id\":\"m1\",\"candles\":[]}.\n"
     ]
    },
    {
     "name": "stdout",
     "output_type": "stream",
     "text": [
      "2013-01-04 23:19:00\n",
      "Empty DataFrame\n",
      "Columns: [bidopen, bidclose, bidhigh, bidlow, askopen, askclose, askhigh, asklow, tickqty]\n",
      "Index: []\n"
     ]
    },
    {
     "name": "stderr",
     "output_type": "stream",
     "text": [
      "|ERROR|2020-04-10 19:06:59,887|FXCM Server reports an unknown error: {'executed': False, 'error': ''}.\n",
      "|ERROR|2020-04-10 19:06:59,888|Can not parse server answer to json object: {\"response\":{\"executed\":false,\"error\":\"\"},\"instrument_id\":\"1\",\"period_id\":\"m1\",\"candles\":[]}.\n"
     ]
    },
    {
     "name": "stdout",
     "output_type": "stream",
     "text": [
      "2013-01-04 23:20:00\n",
      "Empty DataFrame\n",
      "Columns: [bidopen, bidclose, bidhigh, bidlow, askopen, askclose, askhigh, asklow, tickqty]\n",
      "Index: []\n"
     ]
    },
    {
     "name": "stderr",
     "output_type": "stream",
     "text": [
      "|ERROR|2020-04-10 19:07:00,318|FXCM Server reports an unknown error: {'executed': False, 'error': ''}.\n",
      "|ERROR|2020-04-10 19:07:00,319|Can not parse server answer to json object: {\"response\":{\"executed\":false,\"error\":\"\"},\"instrument_id\":\"1\",\"period_id\":\"m1\",\"candles\":[]}.\n"
     ]
    },
    {
     "name": "stdout",
     "output_type": "stream",
     "text": [
      "2013-01-04 23:21:00\n",
      "Empty DataFrame\n",
      "Columns: [bidopen, bidclose, bidhigh, bidlow, askopen, askclose, askhigh, asklow, tickqty]\n",
      "Index: []\n"
     ]
    },
    {
     "name": "stderr",
     "output_type": "stream",
     "text": [
      "|ERROR|2020-04-10 19:07:00,748|FXCM Server reports an unknown error: {'executed': False, 'error': ''}.\n",
      "|ERROR|2020-04-10 19:07:00,749|Can not parse server answer to json object: {\"response\":{\"executed\":false,\"error\":\"\"},\"instrument_id\":\"1\",\"period_id\":\"m1\",\"candles\":[]}.\n"
     ]
    },
    {
     "name": "stdout",
     "output_type": "stream",
     "text": [
      "2013-01-04 23:22:00\n",
      "Empty DataFrame\n",
      "Columns: [bidopen, bidclose, bidhigh, bidlow, askopen, askclose, askhigh, asklow, tickqty]\n",
      "Index: []\n"
     ]
    },
    {
     "name": "stderr",
     "output_type": "stream",
     "text": [
      "|ERROR|2020-04-10 19:07:01,164|FXCM Server reports an unknown error: {'executed': False, 'error': ''}.\n",
      "|ERROR|2020-04-10 19:07:01,165|Can not parse server answer to json object: {\"response\":{\"executed\":false,\"error\":\"\"},\"instrument_id\":\"1\",\"period_id\":\"m1\",\"candles\":[]}.\n"
     ]
    },
    {
     "name": "stdout",
     "output_type": "stream",
     "text": [
      "2013-01-04 23:23:00\n",
      "Empty DataFrame\n",
      "Columns: [bidopen, bidclose, bidhigh, bidlow, askopen, askclose, askhigh, asklow, tickqty]\n",
      "Index: []\n"
     ]
    },
    {
     "name": "stderr",
     "output_type": "stream",
     "text": [
      "|ERROR|2020-04-10 19:07:01,597|FXCM Server reports an unknown error: {'executed': False, 'error': ''}.\n",
      "|ERROR|2020-04-10 19:07:01,599|Can not parse server answer to json object: {\"response\":{\"executed\":false,\"error\":\"\"},\"instrument_id\":\"1\",\"period_id\":\"m1\",\"candles\":[]}.\n"
     ]
    },
    {
     "name": "stdout",
     "output_type": "stream",
     "text": [
      "2013-01-04 23:24:00\n",
      "Empty DataFrame\n",
      "Columns: [bidopen, bidclose, bidhigh, bidlow, askopen, askclose, askhigh, asklow, tickqty]\n",
      "Index: []\n"
     ]
    },
    {
     "name": "stderr",
     "output_type": "stream",
     "text": [
      "|ERROR|2020-04-10 19:07:02,020|FXCM Server reports an unknown error: {'executed': False, 'error': ''}.\n",
      "|ERROR|2020-04-10 19:07:02,021|Can not parse server answer to json object: {\"response\":{\"executed\":false,\"error\":\"\"},\"instrument_id\":\"1\",\"period_id\":\"m1\",\"candles\":[]}.\n"
     ]
    },
    {
     "name": "stdout",
     "output_type": "stream",
     "text": [
      "2013-01-04 23:25:00\n",
      "Empty DataFrame\n",
      "Columns: [bidopen, bidclose, bidhigh, bidlow, askopen, askclose, askhigh, asklow, tickqty]\n",
      "Index: []\n"
     ]
    },
    {
     "name": "stderr",
     "output_type": "stream",
     "text": [
      "|ERROR|2020-04-10 19:07:02,446|FXCM Server reports an unknown error: {'executed': False, 'error': ''}.\n",
      "|ERROR|2020-04-10 19:07:02,447|Can not parse server answer to json object: {\"response\":{\"executed\":false,\"error\":\"\"},\"instrument_id\":\"1\",\"period_id\":\"m1\",\"candles\":[]}.\n"
     ]
    },
    {
     "name": "stdout",
     "output_type": "stream",
     "text": [
      "2013-01-04 23:26:00\n",
      "Empty DataFrame\n",
      "Columns: [bidopen, bidclose, bidhigh, bidlow, askopen, askclose, askhigh, asklow, tickqty]\n",
      "Index: []\n"
     ]
    },
    {
     "name": "stderr",
     "output_type": "stream",
     "text": [
      "|ERROR|2020-04-10 19:07:02,881|FXCM Server reports an unknown error: {'executed': False, 'error': ''}.\n",
      "|ERROR|2020-04-10 19:07:02,883|Can not parse server answer to json object: {\"response\":{\"executed\":false,\"error\":\"\"},\"instrument_id\":\"1\",\"period_id\":\"m1\",\"candles\":[]}.\n"
     ]
    },
    {
     "name": "stdout",
     "output_type": "stream",
     "text": [
      "2013-01-04 23:27:00\n",
      "Empty DataFrame\n",
      "Columns: [bidopen, bidclose, bidhigh, bidlow, askopen, askclose, askhigh, asklow, tickqty]\n",
      "Index: []\n"
     ]
    },
    {
     "name": "stderr",
     "output_type": "stream",
     "text": [
      "|ERROR|2020-04-10 19:07:03,295|FXCM Server reports an unknown error: {'executed': False, 'error': ''}.\n",
      "|ERROR|2020-04-10 19:07:03,297|Can not parse server answer to json object: {\"response\":{\"executed\":false,\"error\":\"\"},\"instrument_id\":\"1\",\"period_id\":\"m1\",\"candles\":[]}.\n"
     ]
    },
    {
     "name": "stdout",
     "output_type": "stream",
     "text": [
      "2013-01-04 23:28:00\n",
      "Empty DataFrame\n",
      "Columns: [bidopen, bidclose, bidhigh, bidlow, askopen, askclose, askhigh, asklow, tickqty]\n",
      "Index: []\n"
     ]
    },
    {
     "name": "stderr",
     "output_type": "stream",
     "text": [
      "|ERROR|2020-04-10 19:07:03,724|FXCM Server reports an unknown error: {'executed': False, 'error': ''}.\n",
      "|ERROR|2020-04-10 19:07:03,726|Can not parse server answer to json object: {\"response\":{\"executed\":false,\"error\":\"\"},\"instrument_id\":\"1\",\"period_id\":\"m1\",\"candles\":[]}.\n"
     ]
    },
    {
     "name": "stdout",
     "output_type": "stream",
     "text": [
      "2013-01-04 23:29:00\n",
      "Empty DataFrame\n",
      "Columns: [bidopen, bidclose, bidhigh, bidlow, askopen, askclose, askhigh, asklow, tickqty]\n",
      "Index: []\n"
     ]
    },
    {
     "ename": "KeyboardInterrupt",
     "evalue": "",
     "output_type": "error",
     "traceback": [
      "\u001b[0;31m---------------------------------------------------------------------------\u001b[0m",
      "\u001b[0;31mKeyboardInterrupt\u001b[0m                         Traceback (most recent call last)",
      "\u001b[0;32m<ipython-input-33-2c64a8b32802>\u001b[0m in \u001b[0;36m<module>\u001b[0;34m\u001b[0m\n\u001b[1;32m      3\u001b[0m     \u001b[0minstrument_id\u001b[0m \u001b[0;34m=\u001b[0m \u001b[0minstrument\u001b[0m\u001b[0;34m[\u001b[0m\u001b[0;34m:\u001b[0m\u001b[0;36m3\u001b[0m\u001b[0;34m]\u001b[0m \u001b[0;34m+\u001b[0m \u001b[0;34m\"/\"\u001b[0m \u001b[0;34m+\u001b[0m \u001b[0minstrument\u001b[0m\u001b[0;34m[\u001b[0m\u001b[0;36m3\u001b[0m\u001b[0;34m:\u001b[0m\u001b[0;34m]\u001b[0m\u001b[0;34m\u001b[0m\u001b[0;34m\u001b[0m\u001b[0m\n\u001b[1;32m      4\u001b[0m     \u001b[0mtime\u001b[0m \u001b[0;34m=\u001b[0m \u001b[0mrow\u001b[0m\u001b[0;34m.\u001b[0m\u001b[0mname\u001b[0m\u001b[0;34m.\u001b[0m\u001b[0mto_pydatetime\u001b[0m\u001b[0;34m(\u001b[0m\u001b[0;34m)\u001b[0m \u001b[0;31m#datetime.strptime(row.name, date_fmt)\u001b[0m\u001b[0;34m\u001b[0m\u001b[0;34m\u001b[0m\u001b[0m\n\u001b[0;32m----> 5\u001b[0;31m     \u001b[0mtempdata\u001b[0m \u001b[0;34m=\u001b[0m \u001b[0mcon\u001b[0m\u001b[0;34m.\u001b[0m\u001b[0mget_candles\u001b[0m\u001b[0;34m(\u001b[0m\u001b[0minstrument_id\u001b[0m\u001b[0;34m,\u001b[0m \u001b[0mperiod\u001b[0m\u001b[0;34m=\u001b[0m\u001b[0;34m'm1'\u001b[0m\u001b[0;34m,\u001b[0m \u001b[0mnumber\u001b[0m\u001b[0;34m=\u001b[0m\u001b[0;36m1\u001b[0m\u001b[0;34m,\u001b[0m\u001b[0mstart\u001b[0m\u001b[0;34m=\u001b[0m\u001b[0mtime\u001b[0m\u001b[0;34m,\u001b[0m \u001b[0mend\u001b[0m\u001b[0;34m=\u001b[0m\u001b[0mtime\u001b[0m\u001b[0;34m+\u001b[0m\u001b[0mtimedelta\u001b[0m\u001b[0;34m(\u001b[0m\u001b[0mminutes\u001b[0m\u001b[0;34m=\u001b[0m\u001b[0;36m1\u001b[0m\u001b[0;34m)\u001b[0m \u001b[0;34m)\u001b[0m\u001b[0;34m\u001b[0m\u001b[0;34m\u001b[0m\u001b[0m\n\u001b[0m\u001b[1;32m      6\u001b[0m     \u001b[0mprint\u001b[0m\u001b[0;34m(\u001b[0m\u001b[0mrow\u001b[0m\u001b[0;34m.\u001b[0m\u001b[0mname\u001b[0m\u001b[0;34m)\u001b[0m\u001b[0;34m\u001b[0m\u001b[0;34m\u001b[0m\u001b[0m\n\u001b[1;32m      7\u001b[0m     \u001b[0mprint\u001b[0m\u001b[0;34m(\u001b[0m\u001b[0mtempdata\u001b[0m\u001b[0;34m.\u001b[0m\u001b[0mhead\u001b[0m\u001b[0;34m(\u001b[0m\u001b[0;36m1\u001b[0m\u001b[0;34m)\u001b[0m\u001b[0;34m)\u001b[0m\u001b[0;34m\u001b[0m\u001b[0;34m\u001b[0m\u001b[0m\n",
      "\u001b[0;32m/usr/local/lib/python3.6/dist-packages/fxcmpy/fxcmpy.py\u001b[0m in \u001b[0;36mget_candles\u001b[0;34m(self, instrument, offer_id, period, number, start, end, with_index, columns, stop)\u001b[0m\n\u001b[1;32m   2183\u001b[0m \u001b[0;34m\u001b[0m\u001b[0m\n\u001b[1;32m   2184\u001b[0m         data = self.__handle_request__(method='candles/%s/%s'\n\u001b[0;32m-> 2185\u001b[0;31m                                        % (offer_id, period), params=params)\n\u001b[0m\u001b[1;32m   2186\u001b[0m \u001b[0;34m\u001b[0m\u001b[0m\n\u001b[1;32m   2187\u001b[0m         \u001b[0;32mif\u001b[0m \u001b[0mlen\u001b[0m\u001b[0;34m(\u001b[0m\u001b[0mcolumns\u001b[0m\u001b[0;34m)\u001b[0m \u001b[0;34m==\u001b[0m \u001b[0;36m0\u001b[0m\u001b[0;34m:\u001b[0m\u001b[0;34m\u001b[0m\u001b[0;34m\u001b[0m\u001b[0m\n",
      "\u001b[0;32m/usr/local/lib/python3.6/dist-packages/fxcmpy/fxcmpy.py\u001b[0m in \u001b[0;36m__handle_request__\u001b[0;34m(self, method, params, protocol)\u001b[0m\n\u001b[1;32m   2478\u001b[0m             req = requests.get('%s:443/%s' % (self.trading_url, method),\n\u001b[1;32m   2479\u001b[0m                                \u001b[0mheaders\u001b[0m\u001b[0;34m=\u001b[0m\u001b[0mself\u001b[0m\u001b[0;34m.\u001b[0m\u001b[0mrequest_headers\u001b[0m\u001b[0;34m,\u001b[0m \u001b[0mparams\u001b[0m\u001b[0;34m=\u001b[0m\u001b[0mparams\u001b[0m\u001b[0;34m,\u001b[0m\u001b[0;34m\u001b[0m\u001b[0;34m\u001b[0m\u001b[0m\n\u001b[0;32m-> 2480\u001b[0;31m                                proxies=self.proxies)\n\u001b[0m\u001b[1;32m   2481\u001b[0m             \u001b[0mself\u001b[0m\u001b[0;34m.\u001b[0m\u001b[0mlogger\u001b[0m\u001b[0;34m.\u001b[0m\u001b[0minfo\u001b[0m\u001b[0;34m(\u001b[0m\u001b[0;34m'Sending GET Request:'\u001b[0m\u001b[0;34m)\u001b[0m\u001b[0;34m\u001b[0m\u001b[0;34m\u001b[0m\u001b[0m\n\u001b[1;32m   2482\u001b[0m             \u001b[0mself\u001b[0m\u001b[0;34m.\u001b[0m\u001b[0mlogger\u001b[0m\u001b[0;34m.\u001b[0m\u001b[0minfo\u001b[0m\u001b[0;34m(\u001b[0m\u001b[0;34m'URL: %s'\u001b[0m \u001b[0;34m%\u001b[0m \u001b[0mreq\u001b[0m\u001b[0;34m.\u001b[0m\u001b[0murl\u001b[0m\u001b[0;34m)\u001b[0m\u001b[0;34m\u001b[0m\u001b[0;34m\u001b[0m\u001b[0m\n",
      "\u001b[0;32m/usr/local/lib/python3.6/dist-packages/requests/api.py\u001b[0m in \u001b[0;36mget\u001b[0;34m(url, params, **kwargs)\u001b[0m\n\u001b[1;32m     74\u001b[0m \u001b[0;34m\u001b[0m\u001b[0m\n\u001b[1;32m     75\u001b[0m     \u001b[0mkwargs\u001b[0m\u001b[0;34m.\u001b[0m\u001b[0msetdefault\u001b[0m\u001b[0;34m(\u001b[0m\u001b[0;34m'allow_redirects'\u001b[0m\u001b[0;34m,\u001b[0m \u001b[0;32mTrue\u001b[0m\u001b[0;34m)\u001b[0m\u001b[0;34m\u001b[0m\u001b[0;34m\u001b[0m\u001b[0m\n\u001b[0;32m---> 76\u001b[0;31m     \u001b[0;32mreturn\u001b[0m \u001b[0mrequest\u001b[0m\u001b[0;34m(\u001b[0m\u001b[0;34m'get'\u001b[0m\u001b[0;34m,\u001b[0m \u001b[0murl\u001b[0m\u001b[0;34m,\u001b[0m \u001b[0mparams\u001b[0m\u001b[0;34m=\u001b[0m\u001b[0mparams\u001b[0m\u001b[0;34m,\u001b[0m \u001b[0;34m**\u001b[0m\u001b[0mkwargs\u001b[0m\u001b[0;34m)\u001b[0m\u001b[0;34m\u001b[0m\u001b[0;34m\u001b[0m\u001b[0m\n\u001b[0m\u001b[1;32m     77\u001b[0m \u001b[0;34m\u001b[0m\u001b[0m\n\u001b[1;32m     78\u001b[0m \u001b[0;34m\u001b[0m\u001b[0m\n",
      "\u001b[0;32m/usr/local/lib/python3.6/dist-packages/requests/api.py\u001b[0m in \u001b[0;36mrequest\u001b[0;34m(method, url, **kwargs)\u001b[0m\n\u001b[1;32m     59\u001b[0m     \u001b[0;31m# cases, and look like a memory leak in others.\u001b[0m\u001b[0;34m\u001b[0m\u001b[0;34m\u001b[0m\u001b[0;34m\u001b[0m\u001b[0m\n\u001b[1;32m     60\u001b[0m     \u001b[0;32mwith\u001b[0m \u001b[0msessions\u001b[0m\u001b[0;34m.\u001b[0m\u001b[0mSession\u001b[0m\u001b[0;34m(\u001b[0m\u001b[0;34m)\u001b[0m \u001b[0;32mas\u001b[0m \u001b[0msession\u001b[0m\u001b[0;34m:\u001b[0m\u001b[0;34m\u001b[0m\u001b[0;34m\u001b[0m\u001b[0m\n\u001b[0;32m---> 61\u001b[0;31m         \u001b[0;32mreturn\u001b[0m \u001b[0msession\u001b[0m\u001b[0;34m.\u001b[0m\u001b[0mrequest\u001b[0m\u001b[0;34m(\u001b[0m\u001b[0mmethod\u001b[0m\u001b[0;34m=\u001b[0m\u001b[0mmethod\u001b[0m\u001b[0;34m,\u001b[0m \u001b[0murl\u001b[0m\u001b[0;34m=\u001b[0m\u001b[0murl\u001b[0m\u001b[0;34m,\u001b[0m \u001b[0;34m**\u001b[0m\u001b[0mkwargs\u001b[0m\u001b[0;34m)\u001b[0m\u001b[0;34m\u001b[0m\u001b[0;34m\u001b[0m\u001b[0m\n\u001b[0m\u001b[1;32m     62\u001b[0m \u001b[0;34m\u001b[0m\u001b[0m\n\u001b[1;32m     63\u001b[0m \u001b[0;34m\u001b[0m\u001b[0m\n",
      "\u001b[0;32m/usr/local/lib/python3.6/dist-packages/requests/sessions.py\u001b[0m in \u001b[0;36mrequest\u001b[0;34m(self, method, url, params, data, headers, cookies, files, auth, timeout, allow_redirects, proxies, hooks, stream, verify, cert, json)\u001b[0m\n\u001b[1;32m    528\u001b[0m         }\n\u001b[1;32m    529\u001b[0m         \u001b[0msend_kwargs\u001b[0m\u001b[0;34m.\u001b[0m\u001b[0mupdate\u001b[0m\u001b[0;34m(\u001b[0m\u001b[0msettings\u001b[0m\u001b[0;34m)\u001b[0m\u001b[0;34m\u001b[0m\u001b[0;34m\u001b[0m\u001b[0m\n\u001b[0;32m--> 530\u001b[0;31m         \u001b[0mresp\u001b[0m \u001b[0;34m=\u001b[0m \u001b[0mself\u001b[0m\u001b[0;34m.\u001b[0m\u001b[0msend\u001b[0m\u001b[0;34m(\u001b[0m\u001b[0mprep\u001b[0m\u001b[0;34m,\u001b[0m \u001b[0;34m**\u001b[0m\u001b[0msend_kwargs\u001b[0m\u001b[0;34m)\u001b[0m\u001b[0;34m\u001b[0m\u001b[0;34m\u001b[0m\u001b[0m\n\u001b[0m\u001b[1;32m    531\u001b[0m \u001b[0;34m\u001b[0m\u001b[0m\n\u001b[1;32m    532\u001b[0m         \u001b[0;32mreturn\u001b[0m \u001b[0mresp\u001b[0m\u001b[0;34m\u001b[0m\u001b[0;34m\u001b[0m\u001b[0m\n",
      "\u001b[0;32m/usr/local/lib/python3.6/dist-packages/requests/sessions.py\u001b[0m in \u001b[0;36msend\u001b[0;34m(self, request, **kwargs)\u001b[0m\n\u001b[1;32m    641\u001b[0m \u001b[0;34m\u001b[0m\u001b[0m\n\u001b[1;32m    642\u001b[0m         \u001b[0;31m# Send the request\u001b[0m\u001b[0;34m\u001b[0m\u001b[0;34m\u001b[0m\u001b[0;34m\u001b[0m\u001b[0m\n\u001b[0;32m--> 643\u001b[0;31m         \u001b[0mr\u001b[0m \u001b[0;34m=\u001b[0m \u001b[0madapter\u001b[0m\u001b[0;34m.\u001b[0m\u001b[0msend\u001b[0m\u001b[0;34m(\u001b[0m\u001b[0mrequest\u001b[0m\u001b[0;34m,\u001b[0m \u001b[0;34m**\u001b[0m\u001b[0mkwargs\u001b[0m\u001b[0;34m)\u001b[0m\u001b[0;34m\u001b[0m\u001b[0;34m\u001b[0m\u001b[0m\n\u001b[0m\u001b[1;32m    644\u001b[0m \u001b[0;34m\u001b[0m\u001b[0m\n\u001b[1;32m    645\u001b[0m         \u001b[0;31m# Total elapsed time of the request (approximately)\u001b[0m\u001b[0;34m\u001b[0m\u001b[0;34m\u001b[0m\u001b[0;34m\u001b[0m\u001b[0m\n",
      "\u001b[0;32m/usr/local/lib/python3.6/dist-packages/requests/adapters.py\u001b[0m in \u001b[0;36msend\u001b[0;34m(self, request, stream, timeout, verify, cert, proxies)\u001b[0m\n\u001b[1;32m    447\u001b[0m                     \u001b[0mdecode_content\u001b[0m\u001b[0;34m=\u001b[0m\u001b[0;32mFalse\u001b[0m\u001b[0;34m,\u001b[0m\u001b[0;34m\u001b[0m\u001b[0;34m\u001b[0m\u001b[0m\n\u001b[1;32m    448\u001b[0m                     \u001b[0mretries\u001b[0m\u001b[0;34m=\u001b[0m\u001b[0mself\u001b[0m\u001b[0;34m.\u001b[0m\u001b[0mmax_retries\u001b[0m\u001b[0;34m,\u001b[0m\u001b[0;34m\u001b[0m\u001b[0;34m\u001b[0m\u001b[0m\n\u001b[0;32m--> 449\u001b[0;31m                     \u001b[0mtimeout\u001b[0m\u001b[0;34m=\u001b[0m\u001b[0mtimeout\u001b[0m\u001b[0;34m\u001b[0m\u001b[0;34m\u001b[0m\u001b[0m\n\u001b[0m\u001b[1;32m    450\u001b[0m                 )\n\u001b[1;32m    451\u001b[0m \u001b[0;34m\u001b[0m\u001b[0m\n",
      "\u001b[0;32m/usr/local/lib/python3.6/dist-packages/urllib3/connectionpool.py\u001b[0m in \u001b[0;36murlopen\u001b[0;34m(self, method, url, body, headers, retries, redirect, assert_same_host, timeout, pool_timeout, release_conn, chunked, body_pos, **response_kw)\u001b[0m\n\u001b[1;32m    670\u001b[0m                 \u001b[0mbody\u001b[0m\u001b[0;34m=\u001b[0m\u001b[0mbody\u001b[0m\u001b[0;34m,\u001b[0m\u001b[0;34m\u001b[0m\u001b[0;34m\u001b[0m\u001b[0m\n\u001b[1;32m    671\u001b[0m                 \u001b[0mheaders\u001b[0m\u001b[0;34m=\u001b[0m\u001b[0mheaders\u001b[0m\u001b[0;34m,\u001b[0m\u001b[0;34m\u001b[0m\u001b[0;34m\u001b[0m\u001b[0m\n\u001b[0;32m--> 672\u001b[0;31m                 \u001b[0mchunked\u001b[0m\u001b[0;34m=\u001b[0m\u001b[0mchunked\u001b[0m\u001b[0;34m,\u001b[0m\u001b[0;34m\u001b[0m\u001b[0;34m\u001b[0m\u001b[0m\n\u001b[0m\u001b[1;32m    673\u001b[0m             )\n\u001b[1;32m    674\u001b[0m \u001b[0;34m\u001b[0m\u001b[0m\n",
      "\u001b[0;32m/usr/local/lib/python3.6/dist-packages/urllib3/connectionpool.py\u001b[0m in \u001b[0;36m_make_request\u001b[0;34m(self, conn, method, url, timeout, chunked, **httplib_request_kw)\u001b[0m\n\u001b[1;32m    419\u001b[0m                     \u001b[0;31m# Python 3 (including for exceptions like SystemExit).\u001b[0m\u001b[0;34m\u001b[0m\u001b[0;34m\u001b[0m\u001b[0;34m\u001b[0m\u001b[0m\n\u001b[1;32m    420\u001b[0m                     \u001b[0;31m# Otherwise it looks like a bug in the code.\u001b[0m\u001b[0;34m\u001b[0m\u001b[0;34m\u001b[0m\u001b[0;34m\u001b[0m\u001b[0m\n\u001b[0;32m--> 421\u001b[0;31m                     \u001b[0msix\u001b[0m\u001b[0;34m.\u001b[0m\u001b[0mraise_from\u001b[0m\u001b[0;34m(\u001b[0m\u001b[0me\u001b[0m\u001b[0;34m,\u001b[0m \u001b[0;32mNone\u001b[0m\u001b[0;34m)\u001b[0m\u001b[0;34m\u001b[0m\u001b[0;34m\u001b[0m\u001b[0m\n\u001b[0m\u001b[1;32m    422\u001b[0m         \u001b[0;32mexcept\u001b[0m \u001b[0;34m(\u001b[0m\u001b[0mSocketTimeout\u001b[0m\u001b[0;34m,\u001b[0m \u001b[0mBaseSSLError\u001b[0m\u001b[0;34m,\u001b[0m \u001b[0mSocketError\u001b[0m\u001b[0;34m)\u001b[0m \u001b[0;32mas\u001b[0m \u001b[0me\u001b[0m\u001b[0;34m:\u001b[0m\u001b[0;34m\u001b[0m\u001b[0;34m\u001b[0m\u001b[0m\n\u001b[1;32m    423\u001b[0m             \u001b[0mself\u001b[0m\u001b[0;34m.\u001b[0m\u001b[0m_raise_timeout\u001b[0m\u001b[0;34m(\u001b[0m\u001b[0merr\u001b[0m\u001b[0;34m=\u001b[0m\u001b[0me\u001b[0m\u001b[0;34m,\u001b[0m \u001b[0murl\u001b[0m\u001b[0;34m=\u001b[0m\u001b[0murl\u001b[0m\u001b[0;34m,\u001b[0m \u001b[0mtimeout_value\u001b[0m\u001b[0;34m=\u001b[0m\u001b[0mread_timeout\u001b[0m\u001b[0;34m)\u001b[0m\u001b[0;34m\u001b[0m\u001b[0;34m\u001b[0m\u001b[0m\n",
      "\u001b[0;32m/usr/local/lib/python3.6/dist-packages/urllib3/packages/six.py\u001b[0m in \u001b[0;36mraise_from\u001b[0;34m(value, from_value)\u001b[0m\n",
      "\u001b[0;32m/usr/local/lib/python3.6/dist-packages/urllib3/connectionpool.py\u001b[0m in \u001b[0;36m_make_request\u001b[0;34m(self, conn, method, url, timeout, chunked, **httplib_request_kw)\u001b[0m\n\u001b[1;32m    414\u001b[0m                 \u001b[0;31m# Python 3\u001b[0m\u001b[0;34m\u001b[0m\u001b[0;34m\u001b[0m\u001b[0;34m\u001b[0m\u001b[0m\n\u001b[1;32m    415\u001b[0m                 \u001b[0;32mtry\u001b[0m\u001b[0;34m:\u001b[0m\u001b[0;34m\u001b[0m\u001b[0;34m\u001b[0m\u001b[0m\n\u001b[0;32m--> 416\u001b[0;31m                     \u001b[0mhttplib_response\u001b[0m \u001b[0;34m=\u001b[0m \u001b[0mconn\u001b[0m\u001b[0;34m.\u001b[0m\u001b[0mgetresponse\u001b[0m\u001b[0;34m(\u001b[0m\u001b[0;34m)\u001b[0m\u001b[0;34m\u001b[0m\u001b[0;34m\u001b[0m\u001b[0m\n\u001b[0m\u001b[1;32m    417\u001b[0m                 \u001b[0;32mexcept\u001b[0m \u001b[0mBaseException\u001b[0m \u001b[0;32mas\u001b[0m \u001b[0me\u001b[0m\u001b[0;34m:\u001b[0m\u001b[0;34m\u001b[0m\u001b[0;34m\u001b[0m\u001b[0m\n\u001b[1;32m    418\u001b[0m                     \u001b[0;31m# Remove the TypeError from the exception chain in\u001b[0m\u001b[0;34m\u001b[0m\u001b[0;34m\u001b[0m\u001b[0;34m\u001b[0m\u001b[0m\n",
      "\u001b[0;32m/usr/lib/python3.6/http/client.py\u001b[0m in \u001b[0;36mgetresponse\u001b[0;34m(self)\u001b[0m\n\u001b[1;32m   1344\u001b[0m         \u001b[0;32mtry\u001b[0m\u001b[0;34m:\u001b[0m\u001b[0;34m\u001b[0m\u001b[0;34m\u001b[0m\u001b[0m\n\u001b[1;32m   1345\u001b[0m             \u001b[0;32mtry\u001b[0m\u001b[0;34m:\u001b[0m\u001b[0;34m\u001b[0m\u001b[0;34m\u001b[0m\u001b[0m\n\u001b[0;32m-> 1346\u001b[0;31m                 \u001b[0mresponse\u001b[0m\u001b[0;34m.\u001b[0m\u001b[0mbegin\u001b[0m\u001b[0;34m(\u001b[0m\u001b[0;34m)\u001b[0m\u001b[0;34m\u001b[0m\u001b[0;34m\u001b[0m\u001b[0m\n\u001b[0m\u001b[1;32m   1347\u001b[0m             \u001b[0;32mexcept\u001b[0m \u001b[0mConnectionError\u001b[0m\u001b[0;34m:\u001b[0m\u001b[0;34m\u001b[0m\u001b[0;34m\u001b[0m\u001b[0m\n\u001b[1;32m   1348\u001b[0m                 \u001b[0mself\u001b[0m\u001b[0;34m.\u001b[0m\u001b[0mclose\u001b[0m\u001b[0;34m(\u001b[0m\u001b[0;34m)\u001b[0m\u001b[0;34m\u001b[0m\u001b[0;34m\u001b[0m\u001b[0m\n",
      "\u001b[0;32m/usr/lib/python3.6/http/client.py\u001b[0m in \u001b[0;36mbegin\u001b[0;34m(self)\u001b[0m\n\u001b[1;32m    305\u001b[0m         \u001b[0;31m# read until we get a non-100 response\u001b[0m\u001b[0;34m\u001b[0m\u001b[0;34m\u001b[0m\u001b[0;34m\u001b[0m\u001b[0m\n\u001b[1;32m    306\u001b[0m         \u001b[0;32mwhile\u001b[0m \u001b[0;32mTrue\u001b[0m\u001b[0;34m:\u001b[0m\u001b[0;34m\u001b[0m\u001b[0;34m\u001b[0m\u001b[0m\n\u001b[0;32m--> 307\u001b[0;31m             \u001b[0mversion\u001b[0m\u001b[0;34m,\u001b[0m \u001b[0mstatus\u001b[0m\u001b[0;34m,\u001b[0m \u001b[0mreason\u001b[0m \u001b[0;34m=\u001b[0m \u001b[0mself\u001b[0m\u001b[0;34m.\u001b[0m\u001b[0m_read_status\u001b[0m\u001b[0;34m(\u001b[0m\u001b[0;34m)\u001b[0m\u001b[0;34m\u001b[0m\u001b[0;34m\u001b[0m\u001b[0m\n\u001b[0m\u001b[1;32m    308\u001b[0m             \u001b[0;32mif\u001b[0m \u001b[0mstatus\u001b[0m \u001b[0;34m!=\u001b[0m \u001b[0mCONTINUE\u001b[0m\u001b[0;34m:\u001b[0m\u001b[0;34m\u001b[0m\u001b[0;34m\u001b[0m\u001b[0m\n\u001b[1;32m    309\u001b[0m                 \u001b[0;32mbreak\u001b[0m\u001b[0;34m\u001b[0m\u001b[0;34m\u001b[0m\u001b[0m\n",
      "\u001b[0;32m/usr/lib/python3.6/http/client.py\u001b[0m in \u001b[0;36m_read_status\u001b[0;34m(self)\u001b[0m\n\u001b[1;32m    266\u001b[0m \u001b[0;34m\u001b[0m\u001b[0m\n\u001b[1;32m    267\u001b[0m     \u001b[0;32mdef\u001b[0m \u001b[0m_read_status\u001b[0m\u001b[0;34m(\u001b[0m\u001b[0mself\u001b[0m\u001b[0;34m)\u001b[0m\u001b[0;34m:\u001b[0m\u001b[0;34m\u001b[0m\u001b[0;34m\u001b[0m\u001b[0m\n\u001b[0;32m--> 268\u001b[0;31m         \u001b[0mline\u001b[0m \u001b[0;34m=\u001b[0m \u001b[0mstr\u001b[0m\u001b[0;34m(\u001b[0m\u001b[0mself\u001b[0m\u001b[0;34m.\u001b[0m\u001b[0mfp\u001b[0m\u001b[0;34m.\u001b[0m\u001b[0mreadline\u001b[0m\u001b[0;34m(\u001b[0m\u001b[0m_MAXLINE\u001b[0m \u001b[0;34m+\u001b[0m \u001b[0;36m1\u001b[0m\u001b[0;34m)\u001b[0m\u001b[0;34m,\u001b[0m \u001b[0;34m\"iso-8859-1\"\u001b[0m\u001b[0;34m)\u001b[0m\u001b[0;34m\u001b[0m\u001b[0;34m\u001b[0m\u001b[0m\n\u001b[0m\u001b[1;32m    269\u001b[0m         \u001b[0;32mif\u001b[0m \u001b[0mlen\u001b[0m\u001b[0;34m(\u001b[0m\u001b[0mline\u001b[0m\u001b[0;34m)\u001b[0m \u001b[0;34m>\u001b[0m \u001b[0m_MAXLINE\u001b[0m\u001b[0;34m:\u001b[0m\u001b[0;34m\u001b[0m\u001b[0;34m\u001b[0m\u001b[0m\n\u001b[1;32m    270\u001b[0m             \u001b[0;32mraise\u001b[0m \u001b[0mLineTooLong\u001b[0m\u001b[0;34m(\u001b[0m\u001b[0;34m\"status line\"\u001b[0m\u001b[0;34m)\u001b[0m\u001b[0;34m\u001b[0m\u001b[0;34m\u001b[0m\u001b[0m\n",
      "\u001b[0;32m/usr/lib/python3.6/socket.py\u001b[0m in \u001b[0;36mreadinto\u001b[0;34m(self, b)\u001b[0m\n\u001b[1;32m    584\u001b[0m         \u001b[0;32mwhile\u001b[0m \u001b[0;32mTrue\u001b[0m\u001b[0;34m:\u001b[0m\u001b[0;34m\u001b[0m\u001b[0;34m\u001b[0m\u001b[0m\n\u001b[1;32m    585\u001b[0m             \u001b[0;32mtry\u001b[0m\u001b[0;34m:\u001b[0m\u001b[0;34m\u001b[0m\u001b[0;34m\u001b[0m\u001b[0m\n\u001b[0;32m--> 586\u001b[0;31m                 \u001b[0;32mreturn\u001b[0m \u001b[0mself\u001b[0m\u001b[0;34m.\u001b[0m\u001b[0m_sock\u001b[0m\u001b[0;34m.\u001b[0m\u001b[0mrecv_into\u001b[0m\u001b[0;34m(\u001b[0m\u001b[0mb\u001b[0m\u001b[0;34m)\u001b[0m\u001b[0;34m\u001b[0m\u001b[0;34m\u001b[0m\u001b[0m\n\u001b[0m\u001b[1;32m    587\u001b[0m             \u001b[0;32mexcept\u001b[0m \u001b[0mtimeout\u001b[0m\u001b[0;34m:\u001b[0m\u001b[0;34m\u001b[0m\u001b[0;34m\u001b[0m\u001b[0m\n\u001b[1;32m    588\u001b[0m                 \u001b[0mself\u001b[0m\u001b[0;34m.\u001b[0m\u001b[0m_timeout_occurred\u001b[0m \u001b[0;34m=\u001b[0m \u001b[0;32mTrue\u001b[0m\u001b[0;34m\u001b[0m\u001b[0;34m\u001b[0m\u001b[0m\n",
      "\u001b[0;32m/usr/lib/python3.6/ssl.py\u001b[0m in \u001b[0;36mrecv_into\u001b[0;34m(self, buffer, nbytes, flags)\u001b[0m\n\u001b[1;32m   1010\u001b[0m                   \u001b[0;34m\"non-zero flags not allowed in calls to recv_into() on %s\"\u001b[0m \u001b[0;34m%\u001b[0m\u001b[0;34m\u001b[0m\u001b[0;34m\u001b[0m\u001b[0m\n\u001b[1;32m   1011\u001b[0m                   self.__class__)\n\u001b[0;32m-> 1012\u001b[0;31m             \u001b[0;32mreturn\u001b[0m \u001b[0mself\u001b[0m\u001b[0;34m.\u001b[0m\u001b[0mread\u001b[0m\u001b[0;34m(\u001b[0m\u001b[0mnbytes\u001b[0m\u001b[0;34m,\u001b[0m \u001b[0mbuffer\u001b[0m\u001b[0;34m)\u001b[0m\u001b[0;34m\u001b[0m\u001b[0;34m\u001b[0m\u001b[0m\n\u001b[0m\u001b[1;32m   1013\u001b[0m         \u001b[0;32melse\u001b[0m\u001b[0;34m:\u001b[0m\u001b[0;34m\u001b[0m\u001b[0;34m\u001b[0m\u001b[0m\n\u001b[1;32m   1014\u001b[0m             \u001b[0;32mreturn\u001b[0m \u001b[0msocket\u001b[0m\u001b[0;34m.\u001b[0m\u001b[0mrecv_into\u001b[0m\u001b[0;34m(\u001b[0m\u001b[0mself\u001b[0m\u001b[0;34m,\u001b[0m \u001b[0mbuffer\u001b[0m\u001b[0;34m,\u001b[0m \u001b[0mnbytes\u001b[0m\u001b[0;34m,\u001b[0m \u001b[0mflags\u001b[0m\u001b[0;34m)\u001b[0m\u001b[0;34m\u001b[0m\u001b[0;34m\u001b[0m\u001b[0m\n",
      "\u001b[0;32m/usr/lib/python3.6/ssl.py\u001b[0m in \u001b[0;36mread\u001b[0;34m(self, len, buffer)\u001b[0m\n\u001b[1;32m    872\u001b[0m             \u001b[0;32mraise\u001b[0m \u001b[0mValueError\u001b[0m\u001b[0;34m(\u001b[0m\u001b[0;34m\"Read on closed or unwrapped SSL socket.\"\u001b[0m\u001b[0;34m)\u001b[0m\u001b[0;34m\u001b[0m\u001b[0;34m\u001b[0m\u001b[0m\n\u001b[1;32m    873\u001b[0m         \u001b[0;32mtry\u001b[0m\u001b[0;34m:\u001b[0m\u001b[0;34m\u001b[0m\u001b[0;34m\u001b[0m\u001b[0m\n\u001b[0;32m--> 874\u001b[0;31m             \u001b[0;32mreturn\u001b[0m \u001b[0mself\u001b[0m\u001b[0;34m.\u001b[0m\u001b[0m_sslobj\u001b[0m\u001b[0;34m.\u001b[0m\u001b[0mread\u001b[0m\u001b[0;34m(\u001b[0m\u001b[0mlen\u001b[0m\u001b[0;34m,\u001b[0m \u001b[0mbuffer\u001b[0m\u001b[0;34m)\u001b[0m\u001b[0;34m\u001b[0m\u001b[0;34m\u001b[0m\u001b[0m\n\u001b[0m\u001b[1;32m    875\u001b[0m         \u001b[0;32mexcept\u001b[0m \u001b[0mSSLError\u001b[0m \u001b[0;32mas\u001b[0m \u001b[0mx\u001b[0m\u001b[0;34m:\u001b[0m\u001b[0;34m\u001b[0m\u001b[0;34m\u001b[0m\u001b[0m\n\u001b[1;32m    876\u001b[0m             \u001b[0;32mif\u001b[0m \u001b[0mx\u001b[0m\u001b[0;34m.\u001b[0m\u001b[0margs\u001b[0m\u001b[0;34m[\u001b[0m\u001b[0;36m0\u001b[0m\u001b[0;34m]\u001b[0m \u001b[0;34m==\u001b[0m \u001b[0mSSL_ERROR_EOF\u001b[0m \u001b[0;32mand\u001b[0m \u001b[0mself\u001b[0m\u001b[0;34m.\u001b[0m\u001b[0msuppress_ragged_eofs\u001b[0m\u001b[0;34m:\u001b[0m\u001b[0;34m\u001b[0m\u001b[0;34m\u001b[0m\u001b[0m\n",
      "\u001b[0;32m/usr/lib/python3.6/ssl.py\u001b[0m in \u001b[0;36mread\u001b[0;34m(self, len, buffer)\u001b[0m\n\u001b[1;32m    629\u001b[0m         \"\"\"\n\u001b[1;32m    630\u001b[0m         \u001b[0;32mif\u001b[0m \u001b[0mbuffer\u001b[0m \u001b[0;32mis\u001b[0m \u001b[0;32mnot\u001b[0m \u001b[0;32mNone\u001b[0m\u001b[0;34m:\u001b[0m\u001b[0;34m\u001b[0m\u001b[0;34m\u001b[0m\u001b[0m\n\u001b[0;32m--> 631\u001b[0;31m             \u001b[0mv\u001b[0m \u001b[0;34m=\u001b[0m \u001b[0mself\u001b[0m\u001b[0;34m.\u001b[0m\u001b[0m_sslobj\u001b[0m\u001b[0;34m.\u001b[0m\u001b[0mread\u001b[0m\u001b[0;34m(\u001b[0m\u001b[0mlen\u001b[0m\u001b[0;34m,\u001b[0m \u001b[0mbuffer\u001b[0m\u001b[0;34m)\u001b[0m\u001b[0;34m\u001b[0m\u001b[0;34m\u001b[0m\u001b[0m\n\u001b[0m\u001b[1;32m    632\u001b[0m         \u001b[0;32melse\u001b[0m\u001b[0;34m:\u001b[0m\u001b[0;34m\u001b[0m\u001b[0;34m\u001b[0m\u001b[0m\n\u001b[1;32m    633\u001b[0m             \u001b[0mv\u001b[0m \u001b[0;34m=\u001b[0m \u001b[0mself\u001b[0m\u001b[0;34m.\u001b[0m\u001b[0m_sslobj\u001b[0m\u001b[0;34m.\u001b[0m\u001b[0mread\u001b[0m\u001b[0;34m(\u001b[0m\u001b[0mlen\u001b[0m\u001b[0;34m)\u001b[0m\u001b[0;34m\u001b[0m\u001b[0;34m\u001b[0m\u001b[0m\n",
      "\u001b[0;31mKeyboardInterrupt\u001b[0m: "
     ]
    }
   ],
   "source": [
    "time = None\n",
    "for index, row in nan_df.iterrows():\n",
    "    instrument_id = instrument[:3] + \"/\" + instrument[3:]\n",
    "    time = row.name.to_pydatetime() #datetime.strptime(row.name, date_fmt)\n",
    "    tempdata = con.get_candles(instrument_id, period='m1', number=1,start=time, end=time+timedelta(minutes=1) )\n",
    "    print(row.name)\n",
    "    print(tempdata.head(1))"
   ]
  },
  {
   "cell_type": "code",
   "execution_count": 21,
   "metadata": {},
   "outputs": [
    {
     "data": {
      "text/plain": [
       "datetime.datetime"
      ]
     },
     "execution_count": 21,
     "metadata": {},
     "output_type": "execute_result"
    }
   ],
   "source": [
    "type(time.)"
   ]
  },
  {
   "cell_type": "code",
   "execution_count": 19,
   "metadata": {},
   "outputs": [],
   "source": [
    "df2 = pd.read_csv(fxcm_dir + instrument + \"/\" + instrument + \"M1\")\n",
    "df2[\"DateTime\"] = pd.to_datetime(df2[\"DateTime\"])"
   ]
  },
  {
   "cell_type": "code",
   "execution_count": 17,
   "metadata": {},
   "outputs": [
    {
     "data": {
      "text/html": [
       "<div>\n",
       "<style scoped>\n",
       "    .dataframe tbody tr th:only-of-type {\n",
       "        vertical-align: middle;\n",
       "    }\n",
       "\n",
       "    .dataframe tbody tr th {\n",
       "        vertical-align: top;\n",
       "    }\n",
       "\n",
       "    .dataframe thead th {\n",
       "        text-align: right;\n",
       "    }\n",
       "</style>\n",
       "<table border=\"1\" class=\"dataframe\">\n",
       "  <thead>\n",
       "    <tr style=\"text-align: right;\">\n",
       "      <th></th>\n",
       "      <th>DateTime</th>\n",
       "      <th>BidOpen</th>\n",
       "      <th>BidHigh</th>\n",
       "      <th>BidLow</th>\n",
       "      <th>BidClose</th>\n",
       "      <th>AskOpen</th>\n",
       "      <th>AskHigh</th>\n",
       "      <th>AskLow</th>\n",
       "      <th>AskClose</th>\n",
       "    </tr>\n",
       "  </thead>\n",
       "  <tbody>\n",
       "    <tr>\n",
       "      <th>0</th>\n",
       "      <td>01/02/2013 04:07:00.000</td>\n",
       "      <td>1.31848</td>\n",
       "      <td>1.32644</td>\n",
       "      <td>1.31848</td>\n",
       "      <td>1.32628</td>\n",
       "      <td>1.31853</td>\n",
       "      <td>1.32672</td>\n",
       "      <td>1.31853</td>\n",
       "      <td>1.32639</td>\n",
       "    </tr>\n",
       "    <tr>\n",
       "      <th>1</th>\n",
       "      <td>01/02/2013 04:08:00.000</td>\n",
       "      <td>1.32628</td>\n",
       "      <td>1.32733</td>\n",
       "      <td>1.32573</td>\n",
       "      <td>1.32719</td>\n",
       "      <td>1.32639</td>\n",
       "      <td>1.32737</td>\n",
       "      <td>1.32585</td>\n",
       "      <td>1.32717</td>\n",
       "    </tr>\n",
       "    <tr>\n",
       "      <th>2</th>\n",
       "      <td>01/02/2013 04:09:00.000</td>\n",
       "      <td>1.32719</td>\n",
       "      <td>1.32727</td>\n",
       "      <td>1.32667</td>\n",
       "      <td>1.32667</td>\n",
       "      <td>1.32717</td>\n",
       "      <td>1.32732</td>\n",
       "      <td>1.32671</td>\n",
       "      <td>1.32674</td>\n",
       "    </tr>\n",
       "    <tr>\n",
       "      <th>3</th>\n",
       "      <td>01/02/2013 04:10:00.000</td>\n",
       "      <td>1.32667</td>\n",
       "      <td>1.32668</td>\n",
       "      <td>1.32612</td>\n",
       "      <td>1.32624</td>\n",
       "      <td>1.32674</td>\n",
       "      <td>1.32674</td>\n",
       "      <td>1.32619</td>\n",
       "      <td>1.32625</td>\n",
       "    </tr>\n",
       "    <tr>\n",
       "      <th>4</th>\n",
       "      <td>01/02/2013 04:11:00.000</td>\n",
       "      <td>1.32624</td>\n",
       "      <td>1.32695</td>\n",
       "      <td>1.32624</td>\n",
       "      <td>1.32693</td>\n",
       "      <td>1.32625</td>\n",
       "      <td>1.32702</td>\n",
       "      <td>1.32625</td>\n",
       "      <td>1.32695</td>\n",
       "    </tr>\n",
       "  </tbody>\n",
       "</table>\n",
       "</div>"
      ],
      "text/plain": [
       "                  DateTime  BidOpen  BidHigh   BidLow  BidClose  AskOpen  \\\n",
       "0  01/02/2013 04:07:00.000  1.31848  1.32644  1.31848   1.32628  1.31853   \n",
       "1  01/02/2013 04:08:00.000  1.32628  1.32733  1.32573   1.32719  1.32639   \n",
       "2  01/02/2013 04:09:00.000  1.32719  1.32727  1.32667   1.32667  1.32717   \n",
       "3  01/02/2013 04:10:00.000  1.32667  1.32668  1.32612   1.32624  1.32674   \n",
       "4  01/02/2013 04:11:00.000  1.32624  1.32695  1.32624   1.32693  1.32625   \n",
       "\n",
       "   AskHigh   AskLow  AskClose  \n",
       "0  1.32672  1.31853   1.32639  \n",
       "1  1.32737  1.32585   1.32717  \n",
       "2  1.32732  1.32671   1.32674  \n",
       "3  1.32674  1.32619   1.32625  \n",
       "4  1.32702  1.32625   1.32695  "
      ]
     },
     "execution_count": 17,
     "metadata": {},
     "output_type": "execute_result"
    }
   ],
   "source": [
    "df2.head()"
   ]
  },
  {
   "cell_type": "code",
   "execution_count": 18,
   "metadata": {},
   "outputs": [
    {
     "data": {
      "text/html": [
       "<div>\n",
       "<style scoped>\n",
       "    .dataframe tbody tr th:only-of-type {\n",
       "        vertical-align: middle;\n",
       "    }\n",
       "\n",
       "    .dataframe tbody tr th {\n",
       "        vertical-align: top;\n",
       "    }\n",
       "\n",
       "    .dataframe thead th {\n",
       "        text-align: right;\n",
       "    }\n",
       "</style>\n",
       "<table border=\"1\" class=\"dataframe\">\n",
       "  <thead>\n",
       "    <tr style=\"text-align: right;\">\n",
       "      <th></th>\n",
       "      <th>DateTime</th>\n",
       "      <th>BidOpen</th>\n",
       "      <th>BidHigh</th>\n",
       "      <th>BidLow</th>\n",
       "      <th>BidClose</th>\n",
       "      <th>AskOpen</th>\n",
       "      <th>AskHigh</th>\n",
       "      <th>AskLow</th>\n",
       "      <th>AskClose</th>\n",
       "    </tr>\n",
       "  </thead>\n",
       "  <tbody>\n",
       "  </tbody>\n",
       "</table>\n",
       "</div>"
      ],
      "text/plain": [
       "Empty DataFrame\n",
       "Columns: [DateTime, BidOpen, BidHigh, BidLow, BidClose, AskOpen, AskHigh, AskLow, AskClose]\n",
       "Index: []"
      ]
     },
     "execution_count": 18,
     "metadata": {},
     "output_type": "execute_result"
    }
   ],
   "source": [
    "mask = (df2['DateTime'] > \"2013-01-02 20:14:00\") & (df2['DateTime'] <= \"2013-01-02 20:17:00\")\n",
    "df2.loc[mask]"
   ]
  },
  {
   "cell_type": "code",
   "execution_count": null,
   "metadata": {},
   "outputs": [],
   "source": []
  }
 ],
 "metadata": {
  "kernelspec": {
   "display_name": "Python 3",
   "language": "python",
   "name": "python3"
  },
  "language_info": {
   "codemirror_mode": {
    "name": "ipython",
    "version": 3
   },
   "file_extension": ".py",
   "mimetype": "text/x-python",
   "name": "python",
   "nbconvert_exporter": "python",
   "pygments_lexer": "ipython3",
   "version": "3.6.9"
  }
 },
 "nbformat": 4,
 "nbformat_minor": 4
}
