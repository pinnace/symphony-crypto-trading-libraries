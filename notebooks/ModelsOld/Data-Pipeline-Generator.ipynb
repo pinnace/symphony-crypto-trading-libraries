{
 "cells": [
  {
   "cell_type": "code",
   "execution_count": null,
   "metadata": {},
   "outputs": [],
   "source": [
    "!pip install -U keras-tuner"
   ]
  },
  {
   "cell_type": "code",
   "execution_count": 1,
   "metadata": {},
   "outputs": [],
   "source": [
    "import pandas as pd\n",
    "import numpy as np\n",
    "import glob, os\n",
    "import json\n",
    "from sklearn.pipeline import Pipeline\n",
    "from sklearn.preprocessing import MinMaxScaler\n",
    "from sklearn.model_selection import train_test_split\n",
    "from sklearn.base import BaseEstimator, TransformerMixin\n",
    "from tensorflow.keras.models import Sequential\n",
    "from tensorflow.keras.layers import Dense, Embedding, LSTM, Dropout, Bidirectional\n",
    "from tensorflow.keras.metrics import AUC, binary_accuracy\n",
    "from tensorflow.keras.optimizers import Adam\n",
    "from tensorflow.keras.preprocessing import sequence\n",
    "import tensorflow as tf\n",
    "import matplotlib.pyplot as pyplot\n",
    "import logging\n",
    "tf.get_logger().setLevel(logging.ERROR)"
   ]
  },
  {
   "cell_type": "code",
   "execution_count": 2,
   "metadata": {},
   "outputs": [],
   "source": [
    "trades_dir = \"../symphony/backtest/backtests/results/test_results/Oanda/OptimizedStrategy/1ATR/\""
   ]
  },
  {
   "cell_type": "code",
   "execution_count": 3,
   "metadata": {},
   "outputs": [],
   "source": [
    "test_dirs = glob.glob(trades_dir + \"*/*/\")"
   ]
  },
  {
   "cell_type": "code",
   "execution_count": null,
   "metadata": {},
   "outputs": [],
   "source": []
  },
  {
   "cell_type": "code",
   "execution_count": null,
   "metadata": {},
   "outputs": [],
   "source": []
  },
  {
   "cell_type": "code",
   "execution_count": 4,
   "metadata": {},
   "outputs": [],
   "source": [
    "file_id_list = [\n",
    "        (os.path.dirname(filename), int(os.path.basename(filename).split(\".\")[0]))\n",
    "        for test_dir in test_dirs\n",
    "        for filename in glob.glob(test_dir + \"*.csv\") \n",
    "        \n",
    "    ]\n",
    "file_id_list = sorted(file_id_list, key=lambda tup: tup[1])"
   ]
  },
  {
   "cell_type": "code",
   "execution_count": 5,
   "metadata": {},
   "outputs": [],
   "source": [
    "data_files, label_files = [], []\n",
    "\n",
    "for path, file_id in file_id_list:\n",
    "    data_files.append(os.path.join(path, str(file_id)) + \".csv\")\n",
    "    label_files.append(os.path.join(path, str(file_id)) + \".meta\")\n"
   ]
  },
  {
   "cell_type": "code",
   "execution_count": 6,
   "metadata": {},
   "outputs": [
    {
     "name": "stdout",
     "output_type": "stream",
     "text": [
      "../symphony/backtest/backtests/results/test_results/Oanda/OptimizedStrategy/1ATR/USDCAD/USDCAD60/1357524000.csv\n",
      "../symphony/backtest/backtests/results/test_results/Oanda/OptimizedStrategy/1ATR/USDCAD/USDCAD60/1357524000.meta\n"
     ]
    }
   ],
   "source": [
    "print(data_files[0])\n",
    "print(label_files[0])"
   ]
  },
  {
   "cell_type": "code",
   "execution_count": 35,
   "metadata": {},
   "outputs": [],
   "source": [
    "input_dfs = []\n",
    "cols_to_use = [\"opens\",\"highs\",\"lows\",\"closes\",\"volumes\"]\n",
    "for i,datafile in enumerate(data_files):\n",
    "    data = pd.read_csv(datafile)\n",
    "    data = data[cols_to_use]\n",
    "    input_dfs.append(data.fillna(0))"
   ]
  },
  {
   "cell_type": "code",
   "execution_count": 36,
   "metadata": {},
   "outputs": [
    {
     "data": {
      "text/html": [
       "<div>\n",
       "<style scoped>\n",
       "    .dataframe tbody tr th:only-of-type {\n",
       "        vertical-align: middle;\n",
       "    }\n",
       "\n",
       "    .dataframe tbody tr th {\n",
       "        vertical-align: top;\n",
       "    }\n",
       "\n",
       "    .dataframe thead th {\n",
       "        text-align: right;\n",
       "    }\n",
       "</style>\n",
       "<table border=\"1\" class=\"dataframe\">\n",
       "  <thead>\n",
       "    <tr style=\"text-align: right;\">\n",
       "      <th></th>\n",
       "      <th>opens</th>\n",
       "      <th>highs</th>\n",
       "      <th>lows</th>\n",
       "      <th>closes</th>\n",
       "      <th>volumes</th>\n",
       "    </tr>\n",
       "  </thead>\n",
       "  <tbody>\n",
       "    <tr>\n",
       "      <th>0</th>\n",
       "      <td>0.98596</td>\n",
       "      <td>0.98670</td>\n",
       "      <td>0.98556</td>\n",
       "      <td>0.98668</td>\n",
       "      <td>737.0</td>\n",
       "    </tr>\n",
       "    <tr>\n",
       "      <th>1</th>\n",
       "      <td>0.98666</td>\n",
       "      <td>0.98682</td>\n",
       "      <td>0.98619</td>\n",
       "      <td>0.98676</td>\n",
       "      <td>816.0</td>\n",
       "    </tr>\n",
       "    <tr>\n",
       "      <th>2</th>\n",
       "      <td>0.98674</td>\n",
       "      <td>0.98675</td>\n",
       "      <td>0.98452</td>\n",
       "      <td>0.98464</td>\n",
       "      <td>1709.0</td>\n",
       "    </tr>\n",
       "    <tr>\n",
       "      <th>3</th>\n",
       "      <td>0.98465</td>\n",
       "      <td>0.98570</td>\n",
       "      <td>0.98460</td>\n",
       "      <td>0.98538</td>\n",
       "      <td>999.0</td>\n",
       "    </tr>\n",
       "    <tr>\n",
       "      <th>4</th>\n",
       "      <td>0.98538</td>\n",
       "      <td>0.98625</td>\n",
       "      <td>0.98482</td>\n",
       "      <td>0.98505</td>\n",
       "      <td>1792.0</td>\n",
       "    </tr>\n",
       "  </tbody>\n",
       "</table>\n",
       "</div>"
      ],
      "text/plain": [
       "     opens    highs     lows   closes  volumes\n",
       "0  0.98596  0.98670  0.98556  0.98668    737.0\n",
       "1  0.98666  0.98682  0.98619  0.98676    816.0\n",
       "2  0.98674  0.98675  0.98452  0.98464   1709.0\n",
       "3  0.98465  0.98570  0.98460  0.98538    999.0\n",
       "4  0.98538  0.98625  0.98482  0.98505   1792.0"
      ]
     },
     "execution_count": 36,
     "metadata": {},
     "output_type": "execute_result"
    }
   ],
   "source": [
    "input_dfs[0].head()"
   ]
  },
  {
   "cell_type": "code",
   "execution_count": 37,
   "metadata": {},
   "outputs": [],
   "source": [
    "NUM_FEATURES = len(input_dfs[0].columns)"
   ]
  },
  {
   "cell_type": "code",
   "execution_count": null,
   "metadata": {},
   "outputs": [],
   "source": []
  },
  {
   "cell_type": "code",
   "execution_count": 38,
   "metadata": {},
   "outputs": [
    {
     "data": {
      "text/html": [
       "<div>\n",
       "<style scoped>\n",
       "    .dataframe tbody tr th:only-of-type {\n",
       "        vertical-align: middle;\n",
       "    }\n",
       "\n",
       "    .dataframe tbody tr th {\n",
       "        vertical-align: top;\n",
       "    }\n",
       "\n",
       "    .dataframe thead th {\n",
       "        text-align: right;\n",
       "    }\n",
       "</style>\n",
       "<table border=\"1\" class=\"dataframe\">\n",
       "  <thead>\n",
       "    <tr style=\"text-align: right;\">\n",
       "      <th></th>\n",
       "      <th>profitable</th>\n",
       "      <th>profit_in_pips</th>\n",
       "      <th>profit_factor</th>\n",
       "      <th>instrument</th>\n",
       "      <th>order_type</th>\n",
       "      <th>datetime</th>\n",
       "      <th>posix_time</th>\n",
       "    </tr>\n",
       "  </thead>\n",
       "  <tbody>\n",
       "    <tr>\n",
       "      <th>0</th>\n",
       "      <td>0</td>\n",
       "      <td>0</td>\n",
       "      <td>149.149547</td>\n",
       "      <td>USDCAD</td>\n",
       "      <td>sell</td>\n",
       "      <td>2013-01-07 03:00:00</td>\n",
       "      <td>1357524000</td>\n",
       "    </tr>\n",
       "    <tr>\n",
       "      <th>1</th>\n",
       "      <td>1</td>\n",
       "      <td>524</td>\n",
       "      <td>0.589695</td>\n",
       "      <td>AUDUSD</td>\n",
       "      <td>sell</td>\n",
       "      <td>2013-01-08 08:00:00</td>\n",
       "      <td>1357628400</td>\n",
       "    </tr>\n",
       "    <tr>\n",
       "      <th>2</th>\n",
       "      <td>0</td>\n",
       "      <td>-1054</td>\n",
       "      <td>3.688811</td>\n",
       "      <td>NZDUSD</td>\n",
       "      <td>sell</td>\n",
       "      <td>2013-01-10 14:00:00</td>\n",
       "      <td>1357822800</td>\n",
       "    </tr>\n",
       "    <tr>\n",
       "      <th>3</th>\n",
       "      <td>0</td>\n",
       "      <td>-114</td>\n",
       "      <td>0.080402</td>\n",
       "      <td>AUDUSD</td>\n",
       "      <td>sell</td>\n",
       "      <td>2013-01-16 06:00:00</td>\n",
       "      <td>1358312400</td>\n",
       "    </tr>\n",
       "    <tr>\n",
       "      <th>4</th>\n",
       "      <td>1</td>\n",
       "      <td>502</td>\n",
       "      <td>1.308151</td>\n",
       "      <td>USDCHF</td>\n",
       "      <td>sell</td>\n",
       "      <td>2013-01-17 23:00:00</td>\n",
       "      <td>1358460000</td>\n",
       "    </tr>\n",
       "  </tbody>\n",
       "</table>\n",
       "</div>"
      ],
      "text/plain": [
       "   profitable  profit_in_pips  profit_factor instrument order_type  \\\n",
       "0           0               0     149.149547     USDCAD       sell   \n",
       "1           1             524       0.589695     AUDUSD       sell   \n",
       "2           0           -1054       3.688811     NZDUSD       sell   \n",
       "3           0            -114       0.080402     AUDUSD       sell   \n",
       "4           1             502       1.308151     USDCHF       sell   \n",
       "\n",
       "              datetime  posix_time  \n",
       "0  2013-01-07 03:00:00  1357524000  \n",
       "1  2013-01-08 08:00:00  1357628400  \n",
       "2  2013-01-10 14:00:00  1357822800  \n",
       "3  2013-01-16 06:00:00  1358312400  \n",
       "4  2013-01-17 23:00:00  1358460000  "
      ]
     },
     "execution_count": 38,
     "metadata": {},
     "output_type": "execute_result"
    }
   ],
   "source": [
    "df_list = [pd.read_csv(filename) for filename in label_files]\n",
    "all_labels = pd.concat(df_list, ignore_index=True)\n",
    "all_labels.head()"
   ]
  },
  {
   "cell_type": "code",
   "execution_count": 39,
   "metadata": {},
   "outputs": [],
   "source": [
    "buy_indices = all_labels.index[all_labels['order_type'] == \"buy\"].tolist()\n",
    "sell_indices = all_labels.index[all_labels['order_type'] == \"sell\"].tolist()\n",
    "buy_labels = all_labels.loc[all_labels['order_type'] == \"buy\"][\"profitable\"].values\n",
    "sell_labels = all_labels.loc[all_labels['order_type'] == \"sell\"][\"profitable\"].values\n",
    "buy_profits = all_labels.loc[all_labels['order_type'] == \"buy\"][\"profit_in_pips\"].values\n",
    "sell_profits = all_labels.loc[all_labels['order_type'] == \"sell\"][\"profit_in_pips\"].values\n",
    "buy_inputs = [input_dfs[i] for i in buy_indices]\n",
    "sell_inputs = [input_dfs[i] for i in sell_indices]"
   ]
  },
  {
   "cell_type": "code",
   "execution_count": 40,
   "metadata": {},
   "outputs": [
    {
     "name": "stdout",
     "output_type": "stream",
     "text": [
      "% Profitable BUY: 0.39642324888226527\n",
      "% Profitable SELL: 0.5347744360902256\n"
     ]
    }
   ],
   "source": [
    "print(\"% Profitable BUY: {}\".format(list(buy_labels).count(1) / len(buy_labels)))\n",
    "print(\"% Profitable SELL: {}\".format(list(sell_labels).count(1) / len(sell_labels)))"
   ]
  },
  {
   "cell_type": "code",
   "execution_count": null,
   "metadata": {},
   "outputs": [],
   "source": []
  },
  {
   "cell_type": "code",
   "execution_count": null,
   "metadata": {},
   "outputs": [],
   "source": []
  },
  {
   "cell_type": "code",
   "execution_count": 41,
   "metadata": {},
   "outputs": [],
   "source": [
    "class MinMaxer(BaseEstimator, TransformerMixin):\n",
    "    def __init__(self):\n",
    "        pass\n",
    "\n",
    "    def transform(self, inputs):\n",
    "        scaler = MinMaxScaler(feature_range=(0.0001, 1.0))\n",
    "        for df in inputs:\n",
    "            df[df.columns] = scaler.fit_transform(df[df.columns])\n",
    "        return inputs\n",
    "\n",
    "    def fit(self, inputs):\n",
    "        pass\n"
   ]
  },
  {
   "cell_type": "code",
   "execution_count": null,
   "metadata": {},
   "outputs": [],
   "source": []
  },
  {
   "cell_type": "code",
   "execution_count": null,
   "metadata": {},
   "outputs": [],
   "source": []
  },
  {
   "cell_type": "code",
   "execution_count": null,
   "metadata": {},
   "outputs": [],
   "source": []
  },
  {
   "cell_type": "code",
   "execution_count": 42,
   "metadata": {},
   "outputs": [],
   "source": [
    "class ListOfNumpy(BaseEstimator, TransformerMixin):\n",
    "    def __init__(self):\n",
    "        pass\n",
    "\n",
    "    def transform(self, inputs):\n",
    "        \n",
    "        return [inp.to_numpy() for inp in inputs]\n",
    "\n",
    "    def fit(self, inputs):\n",
    "        pass"
   ]
  },
  {
   "cell_type": "code",
   "execution_count": 43,
   "metadata": {},
   "outputs": [],
   "source": [
    "pipe = Pipeline(\n",
    "            steps=\n",
    "            [\n",
    "                ('min_max',MinMaxer()),\n",
    "                #('transpose', Transposer()),\n",
    "                #('zero_pad',ZeroPad()),\n",
    "                ('list_of_numpy', ListOfNumpy())\n",
    "            ])"
   ]
  },
  {
   "cell_type": "code",
   "execution_count": null,
   "metadata": {},
   "outputs": [],
   "source": []
  },
  {
   "cell_type": "code",
   "execution_count": 44,
   "metadata": {},
   "outputs": [],
   "source": [
    "buy_data_pipelined = pipe.transform(buy_inputs)\n",
    "sell_data_pipelined = pipe.transform(sell_inputs)\n",
    "\n"
   ]
  },
  {
   "cell_type": "code",
   "execution_count": 45,
   "metadata": {},
   "outputs": [
    {
     "ename": "AttributeError",
     "evalue": "'numpy.ndarray' object has no attribute 'head'",
     "output_type": "error",
     "traceback": [
      "\u001b[0;31m---------------------------------------------------------------------------\u001b[0m",
      "\u001b[0;31mAttributeError\u001b[0m                            Traceback (most recent call last)",
      "\u001b[0;32m<ipython-input-45-7649c88fa1c8>\u001b[0m in \u001b[0;36m<module>\u001b[0;34m\u001b[0m\n\u001b[0;32m----> 1\u001b[0;31m \u001b[0mbuy_data_pipelined\u001b[0m\u001b[0;34m[\u001b[0m\u001b[0;36m0\u001b[0m\u001b[0;34m]\u001b[0m\u001b[0;34m.\u001b[0m\u001b[0mhead\u001b[0m\u001b[0;34m(\u001b[0m\u001b[0;34m)\u001b[0m\u001b[0;34m\u001b[0m\u001b[0;34m\u001b[0m\u001b[0m\n\u001b[0m",
      "\u001b[0;31mAttributeError\u001b[0m: 'numpy.ndarray' object has no attribute 'head'"
     ]
    }
   ],
   "source": [
    "buy_data_pipelined[0].head()"
   ]
  },
  {
   "cell_type": "code",
   "execution_count": null,
   "metadata": {},
   "outputs": [],
   "source": [
    "print(buy_data_pipelined[0].shape)\n"
   ]
  },
  {
   "cell_type": "code",
   "execution_count": null,
   "metadata": {},
   "outputs": [],
   "source": [
    "\n",
    "# Adopt a different train test split strategy that doubles as forward testing.\n",
    "# -> Find the index whereat 80% of the trades lies before, use that as training.\n",
    "\n",
    "train_perc = 0.8\n",
    "buy_stop_index = round(len(buy_labels) * train_perc)\n",
    "X_buy_train = buy_data_pipelined[:buy_stop_index]\n",
    "X_buy_test = buy_data_pipelined[buy_stop_index:]\n",
    "y_buy_train = buy_labels[:buy_stop_index]\n",
    "y_buy_test = buy_labels[buy_stop_index:]\n",
    "profit_buy_train = buy_profits[:buy_stop_index]\n",
    "profit_buy_test = buy_profits[buy_stop_index:]\n",
    "\n",
    "\n",
    "sell_stop_index = round(len(sell_labels) * train_perc)\n",
    "X_sell_train = sell_data_pipelined[:sell_stop_index]\n",
    "X_sell_test = sell_data_pipelined[sell_stop_index:]\n",
    "y_sell_train = sell_labels[:sell_stop_index]\n",
    "y_sell_test = sell_labels[sell_stop_index:]\n",
    "profit_sell_train = buy_profits[:sell_stop_index]\n",
    "profit_sell_test = buy_profits[sell_stop_index:]\n"
   ]
  },
  {
   "cell_type": "code",
   "execution_count": null,
   "metadata": {},
   "outputs": [],
   "source": [
    "print(X_buy_train[0])"
   ]
  },
  {
   "cell_type": "code",
   "execution_count": null,
   "metadata": {},
   "outputs": [],
   "source": [
    "def get_length_dict(inputs):\n",
    "    train_data_cpy = inputs.copy()\n",
    "    all_lengths = list(set([len(item) for item in train_data_cpy]))\n",
    "    length_indices = [None] * len(all_lengths)\n",
    "    \n",
    "    for i, length in enumerate(all_lengths):\n",
    "        identified_indices = []\n",
    "        for j, item in enumerate(train_data_cpy):\n",
    "            if len(item) == length:\n",
    "                identified_indices.append(j)\n",
    "        length_indices[i] = identified_indices\n",
    "    return dict(zip(all_lengths, length_indices))\n",
    "    \"\"\"\n",
    "    all_lengths = list(set([len(item[0]) for item in train_data_cpy]))\n",
    "    length_indices = [None] * len(all_lengths)\n",
    "    for i, length in enumerate(all_lengths):\n",
    "        identified_indices = []\n",
    "        for j, item in enumerate(train_data_cpy):\n",
    "            if len(item[0]) == length:\n",
    "                identified_indices.append(j)\n",
    "        length_indices[i] = identified_indices\n",
    "        \n",
    "    return dict(zip(all_lengths, length_indices))\n",
    "    \"\"\"\n",
    "    \n",
    "def train_generator(inputs, labels, length_dict):\n",
    "    train_data_cpy = inputs.copy()\n",
    "    labels_cpy = labels.copy()\n",
    "    while True:\n",
    "        for length, indices in length_dict.items():\n",
    "            batch = np.array([train_data_cpy[i] for i in indices])\n",
    "            batch_labels = np.array([labels_cpy[i] for i in indices])\n",
    "            yield batch, batch_labels\n",
    "\n",
    "\n",
    "        "
   ]
  },
  {
   "cell_type": "code",
   "execution_count": null,
   "metadata": {},
   "outputs": [],
   "source": [
    "length_dict_train = get_length_dict(X_buy_train)\n",
    "length_dict_test = get_length_dict(X_buy_test)\n",
    "\n",
    "steps_per_epoch_train = len(length_dict_train.keys())\n",
    "steps_per_epoch_test = len(length_dict_test.keys())"
   ]
  },
  {
   "cell_type": "code",
   "execution_count": null,
   "metadata": {},
   "outputs": [],
   "source": [
    "print(steps_per_epoch_train)\n"
   ]
  },
  {
   "cell_type": "code",
   "execution_count": null,
   "metadata": {},
   "outputs": [],
   "source": [
    "def precision_recall(model, X_test: list, y_test: list, profits: list, verbose=True, threshold=0.5) -> tuple:\n",
    "    true_positives, true_negatives, false_positives, false_negatives = 0, 0, 0, 0\n",
    "    positives, negatives = list(y_test).count(1), list(y_test).count(0)\n",
    "    \n",
    "    print(\"Analyzing {} samples\".format(len(y_test)))\n",
    "    print(\"Threshold: {}\".format(threshold))\n",
    "    profit = 0\n",
    "    for i, (inp, label) in enumerate(zip(X_test, y_test)):\n",
    "        #print(inp)\n",
    "        #inp = inp.reshape(1, X_test.shape[1], X_test.shape[2])\n",
    "        prob_prediction = model.predict([[inp]], batch_size=1, steps=1)[0][0]\n",
    "        class_prediction = model.predict_classes([[inp]], batch_size=1)[0][0]\n",
    "        \n",
    "        \n",
    "        is_predicted_profitable = True if prob_prediction > threshold else False\n",
    "        \n",
    "        if is_predicted_profitable:\n",
    "            print(\"Profit: {}\".format(profits[i]))\n",
    "            profit += profits[i]\n",
    "        \n",
    "        \n",
    "        if is_predicted_profitable and label:\n",
    "            true_positives += 1\n",
    "        elif not is_predicted_profitable and not label:\n",
    "            true_negatives += 1\n",
    "        elif is_predicted_profitable and not label:\n",
    "            false_positives += 1\n",
    "        elif not is_predicted_profitable and label:\n",
    "            false_negatives += 1\n",
    "            print(\"False Negative, prob: {}\".format(prob_prediction))\n",
    "        else:\n",
    "            raise Exception(\"Error!\")\n",
    "            \n",
    "    if not true_positives + false_positives:\n",
    "        precision = 0\n",
    "    else:\n",
    "        precision = true_positives / (true_positives + false_positives)\n",
    "        \n",
    "    if not true_positives + false_negatives:\n",
    "        recall = 0\n",
    "    else:\n",
    "        recall = true_positives / (true_positives + false_negatives)\n",
    "        \n",
    "    if verbose:\n",
    "        print(\"The model guessed:\")\n",
    "        print(\"\\t{}/{} profitable trades correctly (true positives)\".format(true_positives, positives))\n",
    "        print(\"\\t{}/{} profitable trades incorrectly (false negatives)\".format(false_negatives, positives))\n",
    "        print(\"\\t{}/{} unprofitable trades correctly (true negatives)\".format(true_negatives, negatives))\n",
    "        print(\"\\t{}/{} unprofitable trades incorrectly (false positives)\".format(false_positives, negatives))\n",
    "        print(\"\\t Precision: {}\".format(precision))\n",
    "        print(\"\\t Recall: {}\".format(recall))\n",
    "        print(\"\\t Profit: {}\".format(profit))\n",
    "    return (precision, recall)\n",
    "\n"
   ]
  },
  {
   "cell_type": "markdown",
   "metadata": {},
   "source": [
    "# Stacked Bidirectional"
   ]
  },
  {
   "cell_type": "code",
   "execution_count": 46,
   "metadata": {},
   "outputs": [
    {
     "name": "stdout",
     "output_type": "stream",
     "text": [
      "Model: \"sequential_1\"\n",
      "_________________________________________________________________\n",
      "Layer (type)                 Output Shape              Param #   \n",
      "=================================================================\n",
      "bidirectional_3 (Bidirection (None, None, 200)         84800     \n",
      "_________________________________________________________________\n",
      "bidirectional_4 (Bidirection (None, None, 200)         240800    \n",
      "_________________________________________________________________\n",
      "bidirectional_5 (Bidirection (None, 200)               240800    \n",
      "_________________________________________________________________\n",
      "dense_1 (Dense)              (None, 1)                 201       \n",
      "=================================================================\n",
      "Total params: 566,601\n",
      "Trainable params: 566,601\n",
      "Non-trainable params: 0\n",
      "_________________________________________________________________\n",
      "None\n",
      "Train for 66 steps\n",
      "Epoch 1/10\n",
      " 1/66 [..............................] - ETA: 183:51:21"
     ]
    },
    {
     "ename": "InvalidArgumentError",
     "evalue": " Specified a list with shape [?,5] from a tensor with shape [1,14]\n\t [[node sequential_1/bidirectional_3/forward_lstm_3/TensorArrayUnstack/TensorListFromTensor (defined at <ipython-input-46-a8bc1e47eeca>:8) ]] [Op:__inference_distributed_function_144475]\n\nFunction call stack:\ndistributed_function\n",
     "output_type": "error",
     "traceback": [
      "\u001b[0;31m---------------------------------------------------------------------------\u001b[0m",
      "\u001b[0;31mInvalidArgumentError\u001b[0m                      Traceback (most recent call last)",
      "\u001b[0;32m<ipython-input-46-a8bc1e47eeca>\u001b[0m in \u001b[0;36m<module>\u001b[0;34m\u001b[0m\n\u001b[1;32m      6\u001b[0m \u001b[0mmodel\u001b[0m\u001b[0;34m.\u001b[0m\u001b[0mcompile\u001b[0m\u001b[0;34m(\u001b[0m\u001b[0mloss\u001b[0m\u001b[0;34m=\u001b[0m\u001b[0;34m'binary_crossentropy'\u001b[0m\u001b[0;34m,\u001b[0m \u001b[0moptimizer\u001b[0m\u001b[0;34m=\u001b[0m\u001b[0;34m'adam'\u001b[0m\u001b[0;34m,\u001b[0m \u001b[0mmetrics\u001b[0m\u001b[0;34m=\u001b[0m\u001b[0;34m[\u001b[0m\u001b[0;34m'accuracy'\u001b[0m\u001b[0;34m]\u001b[0m\u001b[0;34m)\u001b[0m\u001b[0;34m\u001b[0m\u001b[0;34m\u001b[0m\u001b[0m\n\u001b[1;32m      7\u001b[0m \u001b[0mprint\u001b[0m\u001b[0;34m(\u001b[0m\u001b[0mmodel\u001b[0m\u001b[0;34m.\u001b[0m\u001b[0msummary\u001b[0m\u001b[0;34m(\u001b[0m\u001b[0;34m)\u001b[0m\u001b[0;34m)\u001b[0m\u001b[0;34m\u001b[0m\u001b[0;34m\u001b[0m\u001b[0m\n\u001b[0;32m----> 8\u001b[0;31m \u001b[0mhistory\u001b[0m \u001b[0;34m=\u001b[0m \u001b[0mmodel\u001b[0m\u001b[0;34m.\u001b[0m\u001b[0mfit_generator\u001b[0m\u001b[0;34m(\u001b[0m\u001b[0mtrain_generator\u001b[0m\u001b[0;34m(\u001b[0m\u001b[0mX_buy_train\u001b[0m\u001b[0;34m,\u001b[0m \u001b[0my_buy_train\u001b[0m\u001b[0;34m,\u001b[0m \u001b[0mlength_dict_train\u001b[0m\u001b[0;34m)\u001b[0m\u001b[0;34m,\u001b[0m \u001b[0msteps_per_epoch\u001b[0m\u001b[0;34m=\u001b[0m\u001b[0msteps_per_epoch_train\u001b[0m\u001b[0;34m,\u001b[0m \u001b[0mepochs\u001b[0m\u001b[0;34m=\u001b[0m\u001b[0;36m10\u001b[0m\u001b[0;34m,\u001b[0m \u001b[0mverbose\u001b[0m\u001b[0;34m=\u001b[0m\u001b[0;36m1\u001b[0m\u001b[0;34m)\u001b[0m\u001b[0;34m\u001b[0m\u001b[0;34m\u001b[0m\u001b[0m\n\u001b[0m\u001b[1;32m      9\u001b[0m \u001b[0;31m# plot history\u001b[0m\u001b[0;34m\u001b[0m\u001b[0;34m\u001b[0m\u001b[0;34m\u001b[0m\u001b[0m\n\u001b[1;32m     10\u001b[0m \u001b[0mpyplot\u001b[0m\u001b[0;34m.\u001b[0m\u001b[0mplot\u001b[0m\u001b[0;34m(\u001b[0m\u001b[0mhistory\u001b[0m\u001b[0;34m.\u001b[0m\u001b[0mhistory\u001b[0m\u001b[0;34m[\u001b[0m\u001b[0;34m'loss'\u001b[0m\u001b[0;34m]\u001b[0m\u001b[0;34m,\u001b[0m \u001b[0mlabel\u001b[0m\u001b[0;34m=\u001b[0m\u001b[0;34m'train'\u001b[0m\u001b[0;34m)\u001b[0m\u001b[0;34m\u001b[0m\u001b[0;34m\u001b[0m\u001b[0m\n",
      "\u001b[0;32m/usr/local/lib/python3.6/dist-packages/tensorflow_core/python/util/deprecation.py\u001b[0m in \u001b[0;36mnew_func\u001b[0;34m(*args, **kwargs)\u001b[0m\n\u001b[1;32m    322\u001b[0m               \u001b[0;34m'in a future version'\u001b[0m \u001b[0;32mif\u001b[0m \u001b[0mdate\u001b[0m \u001b[0;32mis\u001b[0m \u001b[0;32mNone\u001b[0m \u001b[0;32melse\u001b[0m \u001b[0;34m(\u001b[0m\u001b[0;34m'after %s'\u001b[0m \u001b[0;34m%\u001b[0m \u001b[0mdate\u001b[0m\u001b[0;34m)\u001b[0m\u001b[0;34m,\u001b[0m\u001b[0;34m\u001b[0m\u001b[0;34m\u001b[0m\u001b[0m\n\u001b[1;32m    323\u001b[0m               instructions)\n\u001b[0;32m--> 324\u001b[0;31m       \u001b[0;32mreturn\u001b[0m \u001b[0mfunc\u001b[0m\u001b[0;34m(\u001b[0m\u001b[0;34m*\u001b[0m\u001b[0margs\u001b[0m\u001b[0;34m,\u001b[0m \u001b[0;34m**\u001b[0m\u001b[0mkwargs\u001b[0m\u001b[0;34m)\u001b[0m\u001b[0;34m\u001b[0m\u001b[0;34m\u001b[0m\u001b[0m\n\u001b[0m\u001b[1;32m    325\u001b[0m     return tf_decorator.make_decorator(\n\u001b[1;32m    326\u001b[0m         \u001b[0mfunc\u001b[0m\u001b[0;34m,\u001b[0m \u001b[0mnew_func\u001b[0m\u001b[0;34m,\u001b[0m \u001b[0;34m'deprecated'\u001b[0m\u001b[0;34m,\u001b[0m\u001b[0;34m\u001b[0m\u001b[0;34m\u001b[0m\u001b[0m\n",
      "\u001b[0;32m/usr/local/lib/python3.6/dist-packages/tensorflow_core/python/keras/engine/training.py\u001b[0m in \u001b[0;36mfit_generator\u001b[0;34m(self, generator, steps_per_epoch, epochs, verbose, callbacks, validation_data, validation_steps, validation_freq, class_weight, max_queue_size, workers, use_multiprocessing, shuffle, initial_epoch)\u001b[0m\n\u001b[1;32m   1304\u001b[0m         \u001b[0muse_multiprocessing\u001b[0m\u001b[0;34m=\u001b[0m\u001b[0muse_multiprocessing\u001b[0m\u001b[0;34m,\u001b[0m\u001b[0;34m\u001b[0m\u001b[0;34m\u001b[0m\u001b[0m\n\u001b[1;32m   1305\u001b[0m         \u001b[0mshuffle\u001b[0m\u001b[0;34m=\u001b[0m\u001b[0mshuffle\u001b[0m\u001b[0;34m,\u001b[0m\u001b[0;34m\u001b[0m\u001b[0;34m\u001b[0m\u001b[0m\n\u001b[0;32m-> 1306\u001b[0;31m         initial_epoch=initial_epoch)\n\u001b[0m\u001b[1;32m   1307\u001b[0m \u001b[0;34m\u001b[0m\u001b[0m\n\u001b[1;32m   1308\u001b[0m   @deprecation.deprecated(\n",
      "\u001b[0;32m/usr/local/lib/python3.6/dist-packages/tensorflow_core/python/keras/engine/training.py\u001b[0m in \u001b[0;36mfit\u001b[0;34m(self, x, y, batch_size, epochs, verbose, callbacks, validation_split, validation_data, shuffle, class_weight, sample_weight, initial_epoch, steps_per_epoch, validation_steps, validation_freq, max_queue_size, workers, use_multiprocessing, **kwargs)\u001b[0m\n\u001b[1;32m    817\u001b[0m         \u001b[0mmax_queue_size\u001b[0m\u001b[0;34m=\u001b[0m\u001b[0mmax_queue_size\u001b[0m\u001b[0;34m,\u001b[0m\u001b[0;34m\u001b[0m\u001b[0;34m\u001b[0m\u001b[0m\n\u001b[1;32m    818\u001b[0m         \u001b[0mworkers\u001b[0m\u001b[0;34m=\u001b[0m\u001b[0mworkers\u001b[0m\u001b[0;34m,\u001b[0m\u001b[0;34m\u001b[0m\u001b[0;34m\u001b[0m\u001b[0m\n\u001b[0;32m--> 819\u001b[0;31m         use_multiprocessing=use_multiprocessing)\n\u001b[0m\u001b[1;32m    820\u001b[0m \u001b[0;34m\u001b[0m\u001b[0m\n\u001b[1;32m    821\u001b[0m   def evaluate(self,\n",
      "\u001b[0;32m/usr/local/lib/python3.6/dist-packages/tensorflow_core/python/keras/engine/training_v2.py\u001b[0m in \u001b[0;36mfit\u001b[0;34m(self, model, x, y, batch_size, epochs, verbose, callbacks, validation_split, validation_data, shuffle, class_weight, sample_weight, initial_epoch, steps_per_epoch, validation_steps, validation_freq, max_queue_size, workers, use_multiprocessing, **kwargs)\u001b[0m\n\u001b[1;32m    340\u001b[0m                 \u001b[0mmode\u001b[0m\u001b[0;34m=\u001b[0m\u001b[0mModeKeys\u001b[0m\u001b[0;34m.\u001b[0m\u001b[0mTRAIN\u001b[0m\u001b[0;34m,\u001b[0m\u001b[0;34m\u001b[0m\u001b[0;34m\u001b[0m\u001b[0m\n\u001b[1;32m    341\u001b[0m                 \u001b[0mtraining_context\u001b[0m\u001b[0;34m=\u001b[0m\u001b[0mtraining_context\u001b[0m\u001b[0;34m,\u001b[0m\u001b[0;34m\u001b[0m\u001b[0;34m\u001b[0m\u001b[0m\n\u001b[0;32m--> 342\u001b[0;31m                 total_epochs=epochs)\n\u001b[0m\u001b[1;32m    343\u001b[0m             \u001b[0mcbks\u001b[0m\u001b[0;34m.\u001b[0m\u001b[0mmake_logs\u001b[0m\u001b[0;34m(\u001b[0m\u001b[0mmodel\u001b[0m\u001b[0;34m,\u001b[0m \u001b[0mepoch_logs\u001b[0m\u001b[0;34m,\u001b[0m \u001b[0mtraining_result\u001b[0m\u001b[0;34m,\u001b[0m \u001b[0mModeKeys\u001b[0m\u001b[0;34m.\u001b[0m\u001b[0mTRAIN\u001b[0m\u001b[0;34m)\u001b[0m\u001b[0;34m\u001b[0m\u001b[0;34m\u001b[0m\u001b[0m\n\u001b[1;32m    344\u001b[0m \u001b[0;34m\u001b[0m\u001b[0m\n",
      "\u001b[0;32m/usr/local/lib/python3.6/dist-packages/tensorflow_core/python/keras/engine/training_v2.py\u001b[0m in \u001b[0;36mrun_one_epoch\u001b[0;34m(model, iterator, execution_function, dataset_size, batch_size, strategy, steps_per_epoch, num_samples, mode, training_context, total_epochs)\u001b[0m\n\u001b[1;32m    126\u001b[0m         step=step, mode=mode, size=current_batch_size) as batch_logs:\n\u001b[1;32m    127\u001b[0m       \u001b[0;32mtry\u001b[0m\u001b[0;34m:\u001b[0m\u001b[0;34m\u001b[0m\u001b[0;34m\u001b[0m\u001b[0m\n\u001b[0;32m--> 128\u001b[0;31m         \u001b[0mbatch_outs\u001b[0m \u001b[0;34m=\u001b[0m \u001b[0mexecution_function\u001b[0m\u001b[0;34m(\u001b[0m\u001b[0miterator\u001b[0m\u001b[0;34m)\u001b[0m\u001b[0;34m\u001b[0m\u001b[0;34m\u001b[0m\u001b[0m\n\u001b[0m\u001b[1;32m    129\u001b[0m       \u001b[0;32mexcept\u001b[0m \u001b[0;34m(\u001b[0m\u001b[0mStopIteration\u001b[0m\u001b[0;34m,\u001b[0m \u001b[0merrors\u001b[0m\u001b[0;34m.\u001b[0m\u001b[0mOutOfRangeError\u001b[0m\u001b[0;34m)\u001b[0m\u001b[0;34m:\u001b[0m\u001b[0;34m\u001b[0m\u001b[0;34m\u001b[0m\u001b[0m\n\u001b[1;32m    130\u001b[0m         \u001b[0;31m# TODO(kaftan): File bug about tf function and errors.OutOfRangeError?\u001b[0m\u001b[0;34m\u001b[0m\u001b[0;34m\u001b[0m\u001b[0;34m\u001b[0m\u001b[0m\n",
      "\u001b[0;32m/usr/local/lib/python3.6/dist-packages/tensorflow_core/python/keras/engine/training_v2_utils.py\u001b[0m in \u001b[0;36mexecution_function\u001b[0;34m(input_fn)\u001b[0m\n\u001b[1;32m     96\u001b[0m     \u001b[0;31m# `numpy` translates Tensors to values in Eager mode.\u001b[0m\u001b[0;34m\u001b[0m\u001b[0;34m\u001b[0m\u001b[0;34m\u001b[0m\u001b[0m\n\u001b[1;32m     97\u001b[0m     return nest.map_structure(_non_none_constant_value,\n\u001b[0;32m---> 98\u001b[0;31m                               distributed_function(input_fn))\n\u001b[0m\u001b[1;32m     99\u001b[0m \u001b[0;34m\u001b[0m\u001b[0m\n\u001b[1;32m    100\u001b[0m   \u001b[0;32mreturn\u001b[0m \u001b[0mexecution_function\u001b[0m\u001b[0;34m\u001b[0m\u001b[0;34m\u001b[0m\u001b[0m\n",
      "\u001b[0;32m/usr/local/lib/python3.6/dist-packages/tensorflow_core/python/eager/def_function.py\u001b[0m in \u001b[0;36m__call__\u001b[0;34m(self, *args, **kwds)\u001b[0m\n\u001b[1;32m    566\u001b[0m         \u001b[0mxla_context\u001b[0m\u001b[0;34m.\u001b[0m\u001b[0mExit\u001b[0m\u001b[0;34m(\u001b[0m\u001b[0;34m)\u001b[0m\u001b[0;34m\u001b[0m\u001b[0;34m\u001b[0m\u001b[0m\n\u001b[1;32m    567\u001b[0m     \u001b[0;32melse\u001b[0m\u001b[0;34m:\u001b[0m\u001b[0;34m\u001b[0m\u001b[0;34m\u001b[0m\u001b[0m\n\u001b[0;32m--> 568\u001b[0;31m       \u001b[0mresult\u001b[0m \u001b[0;34m=\u001b[0m \u001b[0mself\u001b[0m\u001b[0;34m.\u001b[0m\u001b[0m_call\u001b[0m\u001b[0;34m(\u001b[0m\u001b[0;34m*\u001b[0m\u001b[0margs\u001b[0m\u001b[0;34m,\u001b[0m \u001b[0;34m**\u001b[0m\u001b[0mkwds\u001b[0m\u001b[0;34m)\u001b[0m\u001b[0;34m\u001b[0m\u001b[0;34m\u001b[0m\u001b[0m\n\u001b[0m\u001b[1;32m    569\u001b[0m \u001b[0;34m\u001b[0m\u001b[0m\n\u001b[1;32m    570\u001b[0m     \u001b[0;32mif\u001b[0m \u001b[0mtracing_count\u001b[0m \u001b[0;34m==\u001b[0m \u001b[0mself\u001b[0m\u001b[0;34m.\u001b[0m\u001b[0m_get_tracing_count\u001b[0m\u001b[0;34m(\u001b[0m\u001b[0;34m)\u001b[0m\u001b[0;34m:\u001b[0m\u001b[0;34m\u001b[0m\u001b[0;34m\u001b[0m\u001b[0m\n",
      "\u001b[0;32m/usr/local/lib/python3.6/dist-packages/tensorflow_core/python/eager/def_function.py\u001b[0m in \u001b[0;36m_call\u001b[0;34m(self, *args, **kwds)\u001b[0m\n\u001b[1;32m    630\u001b[0m         \u001b[0;31m# Lifting succeeded, so variables are initialized and we can run the\u001b[0m\u001b[0;34m\u001b[0m\u001b[0;34m\u001b[0m\u001b[0;34m\u001b[0m\u001b[0m\n\u001b[1;32m    631\u001b[0m         \u001b[0;31m# stateless function.\u001b[0m\u001b[0;34m\u001b[0m\u001b[0;34m\u001b[0m\u001b[0;34m\u001b[0m\u001b[0m\n\u001b[0;32m--> 632\u001b[0;31m         \u001b[0;32mreturn\u001b[0m \u001b[0mself\u001b[0m\u001b[0;34m.\u001b[0m\u001b[0m_stateless_fn\u001b[0m\u001b[0;34m(\u001b[0m\u001b[0;34m*\u001b[0m\u001b[0margs\u001b[0m\u001b[0;34m,\u001b[0m \u001b[0;34m**\u001b[0m\u001b[0mkwds\u001b[0m\u001b[0;34m)\u001b[0m\u001b[0;34m\u001b[0m\u001b[0;34m\u001b[0m\u001b[0m\n\u001b[0m\u001b[1;32m    633\u001b[0m     \u001b[0;32melse\u001b[0m\u001b[0;34m:\u001b[0m\u001b[0;34m\u001b[0m\u001b[0;34m\u001b[0m\u001b[0m\n\u001b[1;32m    634\u001b[0m       \u001b[0mcanon_args\u001b[0m\u001b[0;34m,\u001b[0m \u001b[0mcanon_kwds\u001b[0m \u001b[0;34m=\u001b[0m\u001b[0;31m \u001b[0m\u001b[0;31m\\\u001b[0m\u001b[0;34m\u001b[0m\u001b[0;34m\u001b[0m\u001b[0m\n",
      "\u001b[0;32m/usr/local/lib/python3.6/dist-packages/tensorflow_core/python/eager/function.py\u001b[0m in \u001b[0;36m__call__\u001b[0;34m(self, *args, **kwargs)\u001b[0m\n\u001b[1;32m   2361\u001b[0m     \u001b[0;32mwith\u001b[0m \u001b[0mself\u001b[0m\u001b[0;34m.\u001b[0m\u001b[0m_lock\u001b[0m\u001b[0;34m:\u001b[0m\u001b[0;34m\u001b[0m\u001b[0;34m\u001b[0m\u001b[0m\n\u001b[1;32m   2362\u001b[0m       \u001b[0mgraph_function\u001b[0m\u001b[0;34m,\u001b[0m \u001b[0margs\u001b[0m\u001b[0;34m,\u001b[0m \u001b[0mkwargs\u001b[0m \u001b[0;34m=\u001b[0m \u001b[0mself\u001b[0m\u001b[0;34m.\u001b[0m\u001b[0m_maybe_define_function\u001b[0m\u001b[0;34m(\u001b[0m\u001b[0margs\u001b[0m\u001b[0;34m,\u001b[0m \u001b[0mkwargs\u001b[0m\u001b[0;34m)\u001b[0m\u001b[0;34m\u001b[0m\u001b[0;34m\u001b[0m\u001b[0m\n\u001b[0;32m-> 2363\u001b[0;31m     \u001b[0;32mreturn\u001b[0m \u001b[0mgraph_function\u001b[0m\u001b[0;34m.\u001b[0m\u001b[0m_filtered_call\u001b[0m\u001b[0;34m(\u001b[0m\u001b[0margs\u001b[0m\u001b[0;34m,\u001b[0m \u001b[0mkwargs\u001b[0m\u001b[0;34m)\u001b[0m  \u001b[0;31m# pylint: disable=protected-access\u001b[0m\u001b[0;34m\u001b[0m\u001b[0;34m\u001b[0m\u001b[0m\n\u001b[0m\u001b[1;32m   2364\u001b[0m \u001b[0;34m\u001b[0m\u001b[0m\n\u001b[1;32m   2365\u001b[0m   \u001b[0;34m@\u001b[0m\u001b[0mproperty\u001b[0m\u001b[0;34m\u001b[0m\u001b[0;34m\u001b[0m\u001b[0m\n",
      "\u001b[0;32m/usr/local/lib/python3.6/dist-packages/tensorflow_core/python/eager/function.py\u001b[0m in \u001b[0;36m_filtered_call\u001b[0;34m(self, args, kwargs)\u001b[0m\n\u001b[1;32m   1609\u001b[0m          if isinstance(t, (ops.Tensor,\n\u001b[1;32m   1610\u001b[0m                            resource_variable_ops.BaseResourceVariable))),\n\u001b[0;32m-> 1611\u001b[0;31m         self.captured_inputs)\n\u001b[0m\u001b[1;32m   1612\u001b[0m \u001b[0;34m\u001b[0m\u001b[0m\n\u001b[1;32m   1613\u001b[0m   \u001b[0;32mdef\u001b[0m \u001b[0m_call_flat\u001b[0m\u001b[0;34m(\u001b[0m\u001b[0mself\u001b[0m\u001b[0;34m,\u001b[0m \u001b[0margs\u001b[0m\u001b[0;34m,\u001b[0m \u001b[0mcaptured_inputs\u001b[0m\u001b[0;34m,\u001b[0m \u001b[0mcancellation_manager\u001b[0m\u001b[0;34m=\u001b[0m\u001b[0;32mNone\u001b[0m\u001b[0;34m)\u001b[0m\u001b[0;34m:\u001b[0m\u001b[0;34m\u001b[0m\u001b[0;34m\u001b[0m\u001b[0m\n",
      "\u001b[0;32m/usr/local/lib/python3.6/dist-packages/tensorflow_core/python/eager/function.py\u001b[0m in \u001b[0;36m_call_flat\u001b[0;34m(self, args, captured_inputs, cancellation_manager)\u001b[0m\n\u001b[1;32m   1690\u001b[0m       \u001b[0;31m# No tape is watching; skip to running the function.\u001b[0m\u001b[0;34m\u001b[0m\u001b[0;34m\u001b[0m\u001b[0;34m\u001b[0m\u001b[0m\n\u001b[1;32m   1691\u001b[0m       return self._build_call_outputs(self._inference_function.call(\n\u001b[0;32m-> 1692\u001b[0;31m           ctx, args, cancellation_manager=cancellation_manager))\n\u001b[0m\u001b[1;32m   1693\u001b[0m     forward_backward = self._select_forward_and_backward_functions(\n\u001b[1;32m   1694\u001b[0m         \u001b[0margs\u001b[0m\u001b[0;34m,\u001b[0m\u001b[0;34m\u001b[0m\u001b[0;34m\u001b[0m\u001b[0m\n",
      "\u001b[0;32m/usr/local/lib/python3.6/dist-packages/tensorflow_core/python/eager/function.py\u001b[0m in \u001b[0;36mcall\u001b[0;34m(self, ctx, args, cancellation_manager)\u001b[0m\n\u001b[1;32m    543\u001b[0m               \u001b[0minputs\u001b[0m\u001b[0;34m=\u001b[0m\u001b[0margs\u001b[0m\u001b[0;34m,\u001b[0m\u001b[0;34m\u001b[0m\u001b[0;34m\u001b[0m\u001b[0m\n\u001b[1;32m    544\u001b[0m               \u001b[0mattrs\u001b[0m\u001b[0;34m=\u001b[0m\u001b[0;34m(\u001b[0m\u001b[0;34m\"executor_type\"\u001b[0m\u001b[0;34m,\u001b[0m \u001b[0mexecutor_type\u001b[0m\u001b[0;34m,\u001b[0m \u001b[0;34m\"config_proto\"\u001b[0m\u001b[0;34m,\u001b[0m \u001b[0mconfig\u001b[0m\u001b[0;34m)\u001b[0m\u001b[0;34m,\u001b[0m\u001b[0;34m\u001b[0m\u001b[0;34m\u001b[0m\u001b[0m\n\u001b[0;32m--> 545\u001b[0;31m               ctx=ctx)\n\u001b[0m\u001b[1;32m    546\u001b[0m         \u001b[0;32melse\u001b[0m\u001b[0;34m:\u001b[0m\u001b[0;34m\u001b[0m\u001b[0;34m\u001b[0m\u001b[0m\n\u001b[1;32m    547\u001b[0m           outputs = execute.execute_with_cancellation(\n",
      "\u001b[0;32m/usr/local/lib/python3.6/dist-packages/tensorflow_core/python/eager/execute.py\u001b[0m in \u001b[0;36mquick_execute\u001b[0;34m(op_name, num_outputs, inputs, attrs, ctx, name)\u001b[0m\n\u001b[1;32m     65\u001b[0m     \u001b[0;32melse\u001b[0m\u001b[0;34m:\u001b[0m\u001b[0;34m\u001b[0m\u001b[0;34m\u001b[0m\u001b[0m\n\u001b[1;32m     66\u001b[0m       \u001b[0mmessage\u001b[0m \u001b[0;34m=\u001b[0m \u001b[0me\u001b[0m\u001b[0;34m.\u001b[0m\u001b[0mmessage\u001b[0m\u001b[0;34m\u001b[0m\u001b[0;34m\u001b[0m\u001b[0m\n\u001b[0;32m---> 67\u001b[0;31m     \u001b[0msix\u001b[0m\u001b[0;34m.\u001b[0m\u001b[0mraise_from\u001b[0m\u001b[0;34m(\u001b[0m\u001b[0mcore\u001b[0m\u001b[0;34m.\u001b[0m\u001b[0m_status_to_exception\u001b[0m\u001b[0;34m(\u001b[0m\u001b[0me\u001b[0m\u001b[0;34m.\u001b[0m\u001b[0mcode\u001b[0m\u001b[0;34m,\u001b[0m \u001b[0mmessage\u001b[0m\u001b[0;34m)\u001b[0m\u001b[0;34m,\u001b[0m \u001b[0;32mNone\u001b[0m\u001b[0;34m)\u001b[0m\u001b[0;34m\u001b[0m\u001b[0;34m\u001b[0m\u001b[0m\n\u001b[0m\u001b[1;32m     68\u001b[0m   \u001b[0;32mexcept\u001b[0m \u001b[0mTypeError\u001b[0m \u001b[0;32mas\u001b[0m \u001b[0me\u001b[0m\u001b[0;34m:\u001b[0m\u001b[0;34m\u001b[0m\u001b[0;34m\u001b[0m\u001b[0m\n\u001b[1;32m     69\u001b[0m     keras_symbolic_tensors = [\n",
      "\u001b[0;32m/usr/local/lib/python3.6/dist-packages/six.py\u001b[0m in \u001b[0;36mraise_from\u001b[0;34m(value, from_value)\u001b[0m\n",
      "\u001b[0;31mInvalidArgumentError\u001b[0m:  Specified a list with shape [?,5] from a tensor with shape [1,14]\n\t [[node sequential_1/bidirectional_3/forward_lstm_3/TensorArrayUnstack/TensorListFromTensor (defined at <ipython-input-46-a8bc1e47eeca>:8) ]] [Op:__inference_distributed_function_144475]\n\nFunction call stack:\ndistributed_function\n"
     ]
    }
   ],
   "source": [
    "model = Sequential()\n",
    "model.add(Bidirectional(LSTM(100, dropout=0.2, recurrent_dropout=0.2, return_sequences=True), input_shape=(None, NUM_FEATURES)))\n",
    "model.add(Bidirectional(LSTM(100, return_sequences=True)))\n",
    "model.add(Bidirectional(LSTM(100, dropout=0.2, recurrent_dropout=0.2)))\n",
    "model.add(Dense(1, activation='sigmoid'))\n",
    "model.compile(loss='binary_crossentropy', optimizer='adam', metrics=['accuracy'])\n",
    "print(model.summary())\n",
    "history = model.fit_generator(train_generator(X_buy_train, y_buy_train, length_dict_train), steps_per_epoch=steps_per_epoch_train, epochs=10, verbose=1)\n",
    "# plot history\n",
    "pyplot.plot(history.history['loss'], label='train')\n",
    "#pyplot.plot(history.history['val_loss'], label='test') # Only when using validation set\n",
    "pyplot.legend()"
   ]
  },
  {
   "cell_type": "code",
   "execution_count": null,
   "metadata": {},
   "outputs": [],
   "source": [
    "precision_recall(model, X_buy_test, y_buy_test, profit_buy_test, threshold=0.45)     "
   ]
  },
  {
   "cell_type": "markdown",
   "metadata": {},
   "source": [
    "# Variable Length Batch Sizes"
   ]
  },
  {
   "cell_type": "code",
   "execution_count": 40,
   "metadata": {},
   "outputs": [
    {
     "name": "stdout",
     "output_type": "stream",
     "text": [
      "Model: \"sequential\"\n",
      "_________________________________________________________________\n",
      "Layer (type)                 Output Shape              Param #   \n",
      "=================================================================\n",
      "lstm (LSTM)                  (None, 75)                27000     \n",
      "_________________________________________________________________\n",
      "dropout (Dropout)            (None, 75)                0         \n",
      "_________________________________________________________________\n",
      "dense (Dense)                (None, 1)                 76        \n",
      "=================================================================\n",
      "Total params: 27,076\n",
      "Trainable params: 27,076\n",
      "Non-trainable params: 0\n",
      "_________________________________________________________________\n",
      "None\n",
      "Train for 66 steps\n",
      "Epoch 1/10\n",
      "66/66 [==============================] - 7s 110ms/step - loss: 0.6931 - accuracy: 0.5345\n",
      "Epoch 2/10\n",
      "66/66 [==============================] - 4s 68ms/step - loss: 0.6652 - accuracy: 0.5959\n",
      "Epoch 3/10\n",
      "66/66 [==============================] - 4s 57ms/step - loss: 0.6724 - accuracy: 0.5829\n",
      "Epoch 4/10\n",
      "66/66 [==============================] - 4s 56ms/step - loss: 0.6544 - accuracy: 0.5661\n",
      "Epoch 5/10\n",
      "66/66 [==============================] - 4s 58ms/step - loss: 0.6575 - accuracy: 0.5829\n",
      "Epoch 6/10\n",
      "66/66 [==============================] - 4s 58ms/step - loss: 0.6447 - accuracy: 0.6071\n",
      "Epoch 7/10\n",
      "66/66 [==============================] - 4s 59ms/step - loss: 0.6548 - accuracy: 0.5866\n",
      "Epoch 8/10\n",
      "66/66 [==============================] - 4s 62ms/step - loss: 0.6312 - accuracy: 0.6108\n",
      "Epoch 9/10\n",
      "66/66 [==============================] - 4s 59ms/step - loss: 0.6473 - accuracy: 0.5996\n",
      "Epoch 10/10\n",
      "66/66 [==============================] - 4s 60ms/step - loss: 0.6422 - accuracy: 0.5829\n",
      "Accuracy: 67.91%\n"
     ]
    },
    {
     "data": {
      "image/png": "[encoded data removed]",
      "text/plain": [
       "<Figure size 432x288 with 1 Axes>"
      ]
     },
     "metadata": {
      "needs_background": "light"
     },
     "output_type": "display_data"
    }
   ],
   "source": [
    "model = Sequential()\n",
    "# Timesteps x features (https://stackoverflow.com/questions/53496095/keras-reports-typeerror-unsupported-operand-types-for-nonetype-and-int)\n",
    "model.add(LSTM(75, input_shape=(None, NUM_FEATURES), dropout=0.2, recurrent_dropout=0.2))\n",
    "model.add(Dropout(0.2))\n",
    "model.add(Dense(1, activation='sigmoid'))\n",
    "model.compile(loss='binary_crossentropy', optimizer='adam', metrics=['accuracy'])\n",
    "print(model.summary())\n",
    "history = model.fit_generator(train_generator(X_buy_train, y_buy_train, length_dict_train), steps_per_epoch=steps_per_epoch_train, epochs=10, verbose=1)\n",
    "\n",
    "# plot history\n",
    "pyplot.plot(history.history['loss'], label='train')\n",
    "#pyplot.plot(history.history['val_loss'], label='test') # Only when using validation set\n",
    "pyplot.legend()\n",
    "scores = model.evaluate_generator(train_generator(X_buy_test, y_buy_test, length_dict_test), steps=steps_per_epoch_test, verbose=0)\n",
    "print(\"Accuracy: %.2f%%\" % (scores[1]*100))\n"
   ]
  },
  {
   "cell_type": "code",
   "execution_count": 41,
   "metadata": {},
   "outputs": [
    {
     "name": "stdout",
     "output_type": "stream",
     "text": [
      "Analyzing 134 samples\n",
      "Threshold: 0.45\n",
      "False Negative, prob: 0.3201195001602173\n",
      "False Negative, prob: 0.39100730419158936\n",
      "Profit: -703\n",
      "Profit: -856\n",
      "False Negative, prob: 0.3419395685195923\n",
      "False Negative, prob: 0.19698646664619446\n",
      "Profit: -571\n",
      "False Negative, prob: 0.42123377323150635\n",
      "False Negative, prob: 0.28027597069740295\n",
      "Profit: -805\n",
      "False Negative, prob: 0.31793826818466187\n",
      "Profit: 975\n",
      "False Negative, prob: 0.2740282416343689\n",
      "False Negative, prob: 0.3083304166793823\n",
      "Profit: -335\n",
      "Profit: 1222\n",
      "False Negative, prob: 0.20337741076946259\n",
      "False Negative, prob: 0.3476145565509796\n",
      "Profit: -151\n",
      "False Negative, prob: 0.386900931596756\n",
      "Profit: -1062\n",
      "Profit: 231\n",
      "Profit: -302\n",
      "False Negative, prob: 0.3776143789291382\n",
      "False Negative, prob: 0.1930251270532608\n",
      "False Negative, prob: 0.2029196172952652\n",
      "Profit: -213\n",
      "False Negative, prob: 0.28590095043182373\n",
      "Profit: -402\n",
      "Profit: -482\n",
      "False Negative, prob: 0.2530164122581482\n",
      "False Negative, prob: 0.2371106892824173\n",
      "Profit: 1004\n",
      "False Negative, prob: 0.28910091519355774\n",
      "False Negative, prob: 0.3944512605667114\n",
      "Profit: -583\n",
      "Profit: -446\n",
      "False Negative, prob: 0.35484468936920166\n",
      "False Negative, prob: 0.2901356518268585\n",
      "Profit: -309\n",
      "Profit: 587\n",
      "Profit: -309\n",
      "Profit: 1889\n",
      "Profit: -487\n",
      "False Negative, prob: 0.3305877149105072\n",
      "Profit: -214\n",
      "Profit: -247\n",
      "False Negative, prob: 0.3045634925365448\n",
      "Profit: -319\n",
      "Profit: -161\n",
      "Profit: -545\n",
      "False Negative, prob: 0.36914196610450745\n",
      "False Negative, prob: 0.3729662001132965\n",
      "Profit: 242\n",
      "False Negative, prob: 0.2574436366558075\n",
      "Profit: -827\n",
      "Profit: 421\n",
      "Profit: -443\n",
      "False Negative, prob: 0.35247981548309326\n",
      "The model guessed:\n",
      "\t8/36 profitable trades correctly (true positives)\n",
      "\t28/36 profitable trades incorrectly (false negatives)\n",
      "\t75/98 unprofitable trades correctly (true negatives)\n",
      "\t23/98 unprofitable trades incorrectly (false positives)\n",
      "\t Precision: 0.25806451612903225\n",
      "\t Recall: 0.2222222222222222\n",
      "\t Profit: -4201\n"
     ]
    },
    {
     "data": {
      "text/plain": [
       "(0.25806451612903225, 0.2222222222222222)"
      ]
     },
     "execution_count": 41,
     "metadata": {},
     "output_type": "execute_result"
    }
   ],
   "source": [
    "\n",
    "precision_recall(model, X_buy_test, y_buy_test, profit_buy_test, threshold=0.45)     "
   ]
  },
  {
   "cell_type": "markdown",
   "metadata": {},
   "source": [
    "# Stacked LSTM"
   ]
  },
  {
   "cell_type": "code",
   "execution_count": 351,
   "metadata": {},
   "outputs": [
    {
     "name": "stdout",
     "output_type": "stream",
     "text": [
      "Model: \"sequential_14\"\n",
      "_________________________________________________________________\n",
      "Layer (type)                 Output Shape              Param #   \n",
      "=================================================================\n",
      "lstm_16 (LSTM)               (None, None, 100)         42800     \n",
      "_________________________________________________________________\n",
      "dropout_13 (Dropout)         (None, None, 100)         0         \n",
      "_________________________________________________________________\n",
      "lstm_17 (LSTM)               (None, None, 100)         80400     \n",
      "_________________________________________________________________\n",
      "dropout_14 (Dropout)         (None, None, 100)         0         \n",
      "_________________________________________________________________\n",
      "lstm_18 (LSTM)               (None, 100)               80400     \n",
      "_________________________________________________________________\n",
      "dropout_15 (Dropout)         (None, 100)               0         \n",
      "_________________________________________________________________\n",
      "dense_11 (Dense)             (None, 1)                 101       \n",
      "=================================================================\n",
      "Total params: 203,701\n",
      "Trainable params: 203,701\n",
      "Non-trainable params: 0\n",
      "_________________________________________________________________\n",
      "None\n",
      "Train for 67 steps\n",
      "Epoch 1/10\n",
      "67/67 [==============================] - 17s 260ms/step - loss: 0.6858 - accuracy: 0.6244\n",
      "Epoch 2/10\n",
      "67/67 [==============================] - 11s 169ms/step - loss: 0.6657 - accuracy: 0.6340\n",
      "Epoch 3/10\n",
      "67/67 [==============================] - 10s 149ms/step - loss: 0.6708 - accuracy: 0.6268\n",
      "Epoch 4/10\n",
      "67/67 [==============================] - 9s 141ms/step - loss: 0.6701 - accuracy: 0.6340\n",
      "Epoch 5/10\n",
      "67/67 [==============================] - 10s 143ms/step - loss: 0.6753 - accuracy: 0.6292\n",
      "Epoch 6/10\n",
      "67/67 [==============================] - 10s 143ms/step - loss: 0.6734 - accuracy: 0.6340\n",
      "Epoch 7/10\n",
      "67/67 [==============================] - 10s 146ms/step - loss: 0.6749 - accuracy: 0.6364\n",
      "Epoch 8/10\n",
      "67/67 [==============================] - 10s 145ms/step - loss: 0.6616 - accuracy: 0.6364\n",
      "Epoch 9/10\n",
      "67/67 [==============================] - 9s 141ms/step - loss: 0.6633 - accuracy: 0.6244\n",
      "Epoch 10/10\n",
      "67/67 [==============================] - 9s 140ms/step - loss: 0.6588 - accuracy: 0.6172\n",
      "Accuracy: 74.04%\n"
     ]
    },
    {
     "data": {
      "image/png": "[encoded data removed]",
      "text/plain": [
       "<Figure size 432x288 with 1 Axes>"
      ]
     },
     "metadata": {
      "needs_background": "light"
     },
     "output_type": "display_data"
    }
   ],
   "source": [
    "model = Sequential()\n",
    "model.add(LSTM(100, return_sequences=True, input_shape=(None, NUM_FEATURES), dropout=0.2, recurrent_dropout=0.2))\n",
    "model.add(Dropout(0.2))\n",
    "model.add(LSTM(100, return_sequences=True))\n",
    "model.add(Dropout(0.2))\n",
    "model.add(LSTM(100, dropout=0.2, recurrent_dropout=0.2))\n",
    "model.add(Dropout(0.2))\n",
    "model.add(Dense(1, activation='sigmoid'))\n",
    "model.compile(loss='binary_crossentropy', optimizer='adam', metrics=['accuracy'])\n",
    "print(model.summary())\n",
    "history = model.fit_generator(train_generator(X_buy_train, y_buy_train, length_dict_train), steps_per_epoch=steps_per_epoch_train, epochs=10, verbose=1)\n",
    "\n",
    "# plot history\n",
    "pyplot.plot(history.history['loss'], label='train')\n",
    "#pyplot.plot(history.history['val_loss'], label='test') # Only when using validation set\n",
    "pyplot.legend()\n",
    "\n",
    "scores = model.evaluate_generator(train_generator(X_buy_test, y_buy_test, length_dict_test), steps=steps_per_epoch_test, verbose=0)\n",
    "print(\"Accuracy: %.2f%%\" % (scores[1]*100))"
   ]
  },
  {
   "cell_type": "code",
   "execution_count": 353,
   "metadata": {},
   "outputs": [
    {
     "name": "stdout",
     "output_type": "stream",
     "text": [
      "Analyzing 104 samples\n",
      "Threshold: 0.5\n",
      "False Negative, prob: 0.4354161024093628\n",
      "False Negative, prob: 0.44973239302635193\n",
      "False Negative, prob: 0.3566049337387085\n",
      "False Negative, prob: 0.488686740398407\n",
      "False Negative, prob: 0.39016056060791016\n",
      "False Negative, prob: 0.4911869168281555\n",
      "False Negative, prob: 0.3722400963306427\n",
      "False Negative, prob: 0.425231397151947\n",
      "False Negative, prob: 0.40623587369918823\n",
      "False Negative, prob: 0.47498705983161926\n",
      "False Negative, prob: 0.3309614956378937\n",
      "False Negative, prob: 0.424811989068985\n",
      "False Negative, prob: 0.459574818611145\n",
      "False Negative, prob: 0.46504953503608704\n",
      "False Negative, prob: 0.44093841314315796\n",
      "False Negative, prob: 0.48840340971946716\n",
      "False Negative, prob: 0.43271011114120483\n",
      "False Negative, prob: 0.45117032527923584\n",
      "False Negative, prob: 0.4825085997581482\n",
      "False Negative, prob: 0.4661663770675659\n",
      "False Negative, prob: 0.4282458424568176\n",
      "False Negative, prob: 0.4453393518924713\n",
      "False Negative, prob: 0.4707343280315399\n",
      "False Negative, prob: 0.48329123854637146\n",
      "False Negative, prob: 0.47944918274879456\n",
      "False Negative, prob: 0.34713175892829895\n",
      "False Negative, prob: 0.4559490978717804\n",
      "The model guessed:\n",
      "\t0/27 profitable trades correctly (true positives)\n",
      "\t27/27 profitable trades incorrectly (false negatives)\n",
      "\t77/77 unprofitable trades correctly (true negatives)\n",
      "\t0/77 unprofitable trades incorrectly (false positives)\n",
      "\t Precision: 0\n",
      "\t Recall: 0.0\n",
      "\t Profit: 0\n"
     ]
    },
    {
     "data": {
      "text/plain": [
       "(0, 0.0)"
      ]
     },
     "execution_count": 353,
     "metadata": {},
     "output_type": "execute_result"
    }
   ],
   "source": [
    "precision_recall(model, X_buy_test, y_buy_test, profit_buy_test, threshold=0.5)"
   ]
  },
  {
   "cell_type": "code",
   "execution_count": null,
   "metadata": {},
   "outputs": [],
   "source": []
  }
 ],
 "metadata": {
  "kernelspec": {
   "display_name": "Python 3",
   "language": "python",
   "name": "python3"
  }
 },
 "nbformat": 4,
 "nbformat_minor": 4
}
